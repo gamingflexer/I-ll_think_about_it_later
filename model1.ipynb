{
  "cells": [
    {
      "cell_type": "code",
      "execution_count": 2,
      "metadata": {},
      "outputs": [
        {
          "name": "stdout",
          "output_type": "stream",
          "text": [
            "^C\n",
            "Note: you may need to restart the kernel to use updated packages.\n",
            "Collecting google.colab\n",
            "  Downloading google-colab-1.0.0.tar.gz (72 kB)\n",
            "Collecting google-auth~=1.4.0\n",
            "  Downloading google_auth-1.4.2-py2.py3-none-any.whl (64 kB)\n",
            "Collecting ipykernel~=4.6.0\n",
            "  Downloading ipykernel-4.6.1-py3-none-any.whl (104 kB)\n",
            "Collecting ipython~=5.5.0\n",
            "  Downloading ipython-5.5.0-py3-none-any.whl (758 kB)\n",
            "Collecting notebook~=5.2.0\n",
            "  Downloading notebook-5.2.2-py2.py3-none-any.whl (8.0 MB)\n",
            "Collecting six~=1.12.0\n",
            "  Using cached six-1.12.0-py2.py3-none-any.whl (10 kB)\n",
            "Collecting pandas~=0.24.0\n",
            "  Downloading pandas-0.24.2.tar.gz (11.8 MB)\n",
            "Collecting portpicker~=1.2.0\n",
            "  Downloading portpicker-1.2.0.tar.gz (17 kB)\n",
            "Collecting requests~=2.21.0\n",
            "  Downloading requests-2.21.0-py2.py3-none-any.whl (57 kB)\n",
            "Collecting tornado~=4.5.0\n",
            "  Downloading tornado-4.5.3.tar.gz (484 kB)\n",
            "Requirement already satisfied: pyasn1-modules>=0.2.1 in c:\\programdata\\anaconda3\\lib\\site-packages (from google-auth~=1.4.0->google.colab) (0.2.8)\n",
            "Requirement already satisfied: cachetools>=2.0.0 in c:\\programdata\\anaconda3\\lib\\site-packages (from google-auth~=1.4.0->google.colab) (4.2.4)\n",
            "Requirement already satisfied: rsa>=3.1.4 in c:\\programdata\\anaconda3\\lib\\site-packages (from google-auth~=1.4.0->google.colab) (4.8)\n",
            "Requirement already satisfied: jupyter-client in c:\\programdata\\anaconda3\\lib\\site-packages (from ipykernel~=4.6.0->google.colab) (6.1.12)\n",
            "Requirement already satisfied: traitlets>=4.1.0 in c:\\programdata\\anaconda3\\lib\\site-packages (from ipykernel~=4.6.0->google.colab) (5.0.5)\n",
            "Requirement already satisfied: pygments in c:\\programdata\\anaconda3\\lib\\site-packages (from ipython~=5.5.0->google.colab) (2.8.1)\n",
            "Requirement already satisfied: setuptools>=18.5 in c:\\programdata\\anaconda3\\lib\\site-packages (from ipython~=5.5.0->google.colab) (52.0.0.post20210125)\n",
            "Requirement already satisfied: simplegeneric>0.8 in c:\\programdata\\anaconda3\\lib\\site-packages (from ipython~=5.5.0->google.colab) (0.8.1)\n",
            "Collecting prompt-toolkit<2.0.0,>=1.0.4\n",
            "  Downloading prompt_toolkit-1.0.18-py3-none-any.whl (245 kB)\n",
            "Requirement already satisfied: colorama in c:\\programdata\\anaconda3\\lib\\site-packages (from ipython~=5.5.0->google.colab) (0.4.4)\n",
            "Requirement already satisfied: pickleshare in c:\\programdata\\anaconda3\\lib\\site-packages (from ipython~=5.5.0->google.colab) (0.7.5)\n",
            "Requirement already satisfied: decorator in c:\\programdata\\anaconda3\\lib\\site-packages (from ipython~=5.5.0->google.colab) (5.0.6)\n",
            "Requirement already satisfied: nbformat in c:\\programdata\\anaconda3\\lib\\site-packages (from notebook~=5.2.0->google.colab) (5.1.3)\n",
            "Requirement already satisfied: jinja2 in c:\\programdata\\anaconda3\\lib\\site-packages (from notebook~=5.2.0->google.colab) (2.11.3)\n",
            "Requirement already satisfied: ipython-genutils in c:\\programdata\\anaconda3\\lib\\site-packages (from notebook~=5.2.0->google.colab) (0.2.0)\n",
            "Requirement already satisfied: jupyter-core in c:\\programdata\\anaconda3\\lib\\site-packages (from notebook~=5.2.0->google.colab) (4.7.1)\n",
            "Requirement already satisfied: nbconvert in c:\\programdata\\anaconda3\\lib\\site-packages (from notebook~=5.2.0->google.colab) (6.0.7)\n",
            "Requirement already satisfied: python-dateutil>=2.5.0 in c:\\programdata\\anaconda3\\lib\\site-packages (from pandas~=0.24.0->google.colab) (2.8.1)\n",
            "Requirement already satisfied: pytz>=2011k in c:\\programdata\\anaconda3\\lib\\site-packages (from pandas~=0.24.0->google.colab) (2021.1)\n",
            "Requirement already satisfied: numpy>=1.12.0 in c:\\programdata\\anaconda3\\lib\\site-packages (from pandas~=0.24.0->google.colab) (1.20.1)\n",
            "Requirement already satisfied: wcwidth in c:\\programdata\\anaconda3\\lib\\site-packages (from prompt-toolkit<2.0.0,>=1.0.4->ipython~=5.5.0->google.colab) (0.2.5)\n",
            "Requirement already satisfied: pyasn1<0.5.0,>=0.4.6 in c:\\programdata\\anaconda3\\lib\\site-packages (from pyasn1-modules>=0.2.1->google-auth~=1.4.0->google.colab) (0.4.8)\n",
            "Collecting idna<2.9,>=2.5\n",
            "  Downloading idna-2.8-py2.py3-none-any.whl (58 kB)\n",
            "Collecting urllib3<1.25,>=1.21.1\n",
            "  Downloading urllib3-1.24.3-py2.py3-none-any.whl (118 kB)\n",
            "Requirement already satisfied: certifi>=2017.4.17 in c:\\programdata\\anaconda3\\lib\\site-packages (from requests~=2.21.0->google.colab) (2020.12.5)\n",
            "Requirement already satisfied: chardet<3.1.0,>=3.0.2 in c:\\users\\kishor wagh\\appdata\\roaming\\python\\python38\\site-packages (from requests~=2.21.0->google.colab) (3.0.4)\n",
            "Requirement already satisfied: MarkupSafe>=0.23 in c:\\programdata\\anaconda3\\lib\\site-packages (from jinja2->notebook~=5.2.0->google.colab) (1.1.1)\n",
            "Requirement already satisfied: pyzmq>=13 in c:\\programdata\\anaconda3\\lib\\site-packages (from jupyter-client->ipykernel~=4.6.0->google.colab) (20.0.0)\n",
            "Requirement already satisfied: pywin32>=1.0 in c:\\programdata\\anaconda3\\lib\\site-packages (from jupyter-core->notebook~=5.2.0->google.colab) (227)\n",
            "Requirement already satisfied: entrypoints>=0.2.2 in c:\\programdata\\anaconda3\\lib\\site-packages (from nbconvert->notebook~=5.2.0->google.colab) (0.3)\n",
            "Requirement already satisfied: testpath in c:\\programdata\\anaconda3\\lib\\site-packages (from nbconvert->notebook~=5.2.0->google.colab) (0.4.4)\n",
            "Requirement already satisfied: mistune<2,>=0.8.1 in c:\\programdata\\anaconda3\\lib\\site-packages (from nbconvert->notebook~=5.2.0->google.colab) (0.8.4)\n",
            "Requirement already satisfied: bleach in c:\\programdata\\anaconda3\\lib\\site-packages (from nbconvert->notebook~=5.2.0->google.colab) (3.3.0)\n",
            "Requirement already satisfied: pandocfilters>=1.4.1 in c:\\programdata\\anaconda3\\lib\\site-packages (from nbconvert->notebook~=5.2.0->google.colab) (1.4.3)\n",
            "Requirement already satisfied: defusedxml in c:\\programdata\\anaconda3\\lib\\site-packages (from nbconvert->notebook~=5.2.0->google.colab) (0.7.1)\n",
            "Requirement already satisfied: nbclient<0.6.0,>=0.5.0 in c:\\programdata\\anaconda3\\lib\\site-packages (from nbconvert->notebook~=5.2.0->google.colab) (0.5.3)\n",
            "Requirement already satisfied: jupyterlab-pygments in c:\\programdata\\anaconda3\\lib\\site-packages (from nbconvert->notebook~=5.2.0->google.colab) (0.1.2)\n",
            "Requirement already satisfied: async-generator in c:\\programdata\\anaconda3\\lib\\site-packages (from nbclient<0.6.0,>=0.5.0->nbconvert->notebook~=5.2.0->google.colab) (1.10)\n",
            "Requirement already satisfied: nest-asyncio in c:\\programdata\\anaconda3\\lib\\site-packages (from nbclient<0.6.0,>=0.5.0->nbconvert->notebook~=5.2.0->google.colab) (1.5.1)\n",
            "Requirement already satisfied: jsonschema!=2.5.0,>=2.4 in c:\\programdata\\anaconda3\\lib\\site-packages (from nbformat->notebook~=5.2.0->google.colab) (3.2.0)\n",
            "Requirement already satisfied: pyrsistent>=0.14.0 in c:\\programdata\\anaconda3\\lib\\site-packages (from jsonschema!=2.5.0,>=2.4->nbformat->notebook~=5.2.0->google.colab) (0.17.3)\n",
            "Requirement already satisfied: attrs>=17.4.0 in c:\\programdata\\anaconda3\\lib\\site-packages (from jsonschema!=2.5.0,>=2.4->nbformat->notebook~=5.2.0->google.colab) (20.3.0)\n",
            "Requirement already satisfied: packaging in c:\\programdata\\anaconda3\\lib\\site-packages (from bleach->nbconvert->notebook~=5.2.0->google.colab) (20.9)\n",
            "Requirement already satisfied: webencodings in c:\\programdata\\anaconda3\\lib\\site-packages (from bleach->nbconvert->notebook~=5.2.0->google.colab) (0.5.1)\n",
            "Requirement already satisfied: pyparsing>=2.0.2 in c:\\programdata\\anaconda3\\lib\\site-packages (from packaging->bleach->nbconvert->notebook~=5.2.0->google.colab) (2.4.7)\n",
            "Building wheels for collected packages: google.colab, pandas, portpicker, tornado\n",
            "  Building wheel for google.colab (setup.py): started\n",
            "  Building wheel for google.colab (setup.py): finished with status 'done'\n",
            "  Created wheel for google.colab: filename=google_colab-1.0.0-py2.py3-none-any.whl size=102293 sha256=3279d052b3762b2d2ee203a3b6c5777df45914c69648daba80106fef8e95b235\n",
            "  Stored in directory: c:\\users\\kishor wagh\\appdata\\local\\pip\\cache\\wheels\\e4\\e7\\91\\b2736701bca00e273fdc79f80e2727b558e0903d81b758eb69\n",
            "  Building wheel for pandas (setup.py): started\n",
            "  Building wheel for pandas (setup.py): finished with status 'error'\n",
            "  Running setup.py clean for pandas\n",
            "  Building wheel for portpicker (setup.py): started\n",
            "  Building wheel for portpicker (setup.py): finished with status 'done'\n",
            "  Created wheel for portpicker: filename=portpicker-1.2.0-py3-none-any.whl size=13371 sha256=3c21afdde8d1ba1d40d8b5dc1e39e8d4dd7eac2309b60c7e978b3145e4fafea5\n",
            "  Stored in directory: c:\\users\\kishor wagh\\appdata\\local\\pip\\cache\\wheels\\b9\\10\\77\\cad2fb4f8ab57cc7cecb92b9b1b0548ac932b8f81774003683\n",
            "  Building wheel for tornado (setup.py): started\n",
            "  Building wheel for tornado (setup.py): finished with status 'done'\n",
            "  Created wheel for tornado: filename=tornado-4.5.3-cp38-cp38-win_amd64.whl size=420773 sha256=f445f0ee9abea106314a93d216e21a49838a3f6050e00beae2f4b4057aa2aa6e\n",
            "  Stored in directory: c:\\users\\kishor wagh\\appdata\\local\\pip\\cache\\wheels\\20\\fe\\26\\0c03adccd0cec2744261ec6b8380fbe5e726d1ea4cf3a9370e\n",
            "Successfully built google.colab portpicker tornado\n",
            "Failed to build pandas\n",
            "Installing collected packages: six, tornado, prompt-toolkit, ipython, urllib3, ipykernel, idna, requests, portpicker, pandas, notebook, google-auth, google.colab\n",
            "  Attempting uninstall: six\n",
            "    Found existing installation: six 1.16.0\n",
            "    Uninstalling six-1.16.0:\n",
            "      Successfully uninstalled six-1.16.0\n",
            "  Rolling back uninstall of six\n",
            "  Moving to c:\\users\\kishor wagh\\appdata\\roaming\\python\\python38\\site-packages\\__pycache__\\six.cpython-38.pyc\n",
            "   from C:\\Users\\KISHOR WAGH\\AppData\\Local\\Temp\\pip-uninstall-zyejlu01\\six.cpython-38.pyc\n",
            "  Moving to c:\\users\\kishor wagh\\appdata\\roaming\\python\\python38\\site-packages\\six-1.16.0.dist-info\\\n",
            "   from C:\\Users\\KISHOR WAGH\\AppData\\Roaming\\Python\\Python38\\site-packages\\~ix-1.16.0.dist-info\n",
            "  Moving to c:\\users\\kishor wagh\\appdata\\roaming\\python\\python38\\site-packages\\six.py\n",
            "   from C:\\Users\\KISHOR WAGH\\AppData\\Local\\Temp\\pip-uninstall-wo1vvwwa\\six.py\n"
          ]
        },
        {
          "name": "stderr",
          "output_type": "stream",
          "text": [
            "  ERROR: Command errored out with exit status 1:\n",
            "   command: 'C:\\ProgramData\\Anaconda3\\python.exe' -u -c 'import sys, setuptools, tokenize; sys.argv[0] = '\"'\"'C:\\\\Users\\\\KISHOR WAGH\\\\AppData\\\\Local\\\\Temp\\\\pip-install-f3hfifxm\\\\pandas_a6ff32b6735c4955939a09b06cb31707\\\\setup.py'\"'\"'; __file__='\"'\"'C:\\\\Users\\\\KISHOR WAGH\\\\AppData\\\\Local\\\\Temp\\\\pip-install-f3hfifxm\\\\pandas_a6ff32b6735c4955939a09b06cb31707\\\\setup.py'\"'\"';f=getattr(tokenize, '\"'\"'open'\"'\"', open)(__file__);code=f.read().replace('\"'\"'\\r\\n'\"'\"', '\"'\"'\\n'\"'\"');f.close();exec(compile(code, __file__, '\"'\"'exec'\"'\"'))' bdist_wheel -d 'C:\\Users\\KISHOR WAGH\\AppData\\Local\\Temp\\pip-wheel-ny7bfnnx'\n",
            "       cwd: C:\\Users\\KISHOR WAGH\\AppData\\Local\\Temp\\pip-install-f3hfifxm\\pandas_a6ff32b6735c4955939a09b06cb31707\\\n",
            "  Complete output (841 lines):\n",
            "  running bdist_wheel\n",
            "  running build\n",
            "  running build_py\n",
            "  creating build\n",
            "  creating build\\lib.win-amd64-3.8\n",
            "  creating build\\lib.win-amd64-3.8\\pandas\n",
            "  copying pandas\\conftest.py -> build\\lib.win-amd64-3.8\\pandas\n",
            "  copying pandas\\testing.py -> build\\lib.win-amd64-3.8\\pandas\n",
            "  copying pandas\\_version.py -> build\\lib.win-amd64-3.8\\pandas\n",
            "  copying pandas\\__init__.py -> build\\lib.win-amd64-3.8\\pandas\n",
            "  creating build\\lib.win-amd64-3.8\\pandas\\api\n",
            "  copying pandas\\api\\__init__.py -> build\\lib.win-amd64-3.8\\pandas\\api\n",
            "  creating build\\lib.win-amd64-3.8\\pandas\\arrays\n",
            "  copying pandas\\arrays\\__init__.py -> build\\lib.win-amd64-3.8\\pandas\\arrays\n",
            "  creating build\\lib.win-amd64-3.8\\pandas\\compat\n",
            "  copying pandas\\compat\\chainmap.py -> build\\lib.win-amd64-3.8\\pandas\\compat\n",
            "  copying pandas\\compat\\chainmap_impl.py -> build\\lib.win-amd64-3.8\\pandas\\compat\n",
            "  copying pandas\\compat\\pickle_compat.py -> build\\lib.win-amd64-3.8\\pandas\\compat\n",
            "  copying pandas\\compat\\__init__.py -> build\\lib.win-amd64-3.8\\pandas\\compat\n",
            "  creating build\\lib.win-amd64-3.8\\pandas\\core\n",
            "  copying pandas\\core\\accessor.py -> build\\lib.win-amd64-3.8\\pandas\\core\n",
            "  copying pandas\\core\\algorithms.py -> build\\lib.win-amd64-3.8\\pandas\\core\n",
            "  copying pandas\\core\\api.py -> build\\lib.win-amd64-3.8\\pandas\\core\n",
            "  copying pandas\\core\\apply.py -> build\\lib.win-amd64-3.8\\pandas\\core\n",
            "  copying pandas\\core\\base.py -> build\\lib.win-amd64-3.8\\pandas\\core\n",
            "  copying pandas\\core\\categorical.py -> build\\lib.win-amd64-3.8\\pandas\\core\n",
            "  copying pandas\\core\\common.py -> build\\lib.win-amd64-3.8\\pandas\\core\n",
            "  copying pandas\\core\\config.py -> build\\lib.win-amd64-3.8\\pandas\\core\n",
            "  copying pandas\\core\\config_init.py -> build\\lib.win-amd64-3.8\\pandas\\core\n",
            "  copying pandas\\core\\frame.py -> build\\lib.win-amd64-3.8\\pandas\\core\n",
            "  copying pandas\\core\\generic.py -> build\\lib.win-amd64-3.8\\pandas\\core\n",
            "  copying pandas\\core\\index.py -> build\\lib.win-amd64-3.8\\pandas\\core\n",
            "  copying pandas\\core\\indexing.py -> build\\lib.win-amd64-3.8\\pandas\\core\n",
            "  copying pandas\\core\\missing.py -> build\\lib.win-amd64-3.8\\pandas\\core\n",
            "  copying pandas\\core\\nanops.py -> build\\lib.win-amd64-3.8\\pandas\\core\n",
            "  copying pandas\\core\\ops.py -> build\\lib.win-amd64-3.8\\pandas\\core\n",
            "  copying pandas\\core\\panel.py -> build\\lib.win-amd64-3.8\\pandas\\core\n",
            "  copying pandas\\core\\resample.py -> build\\lib.win-amd64-3.8\\pandas\\core\n",
            "  copying pandas\\core\\series.py -> build\\lib.win-amd64-3.8\\pandas\\core\n",
            "  copying pandas\\core\\sorting.py -> build\\lib.win-amd64-3.8\\pandas\\core\n",
            "  copying pandas\\core\\strings.py -> build\\lib.win-amd64-3.8\\pandas\\core\n",
            "  copying pandas\\core\\window.py -> build\\lib.win-amd64-3.8\\pandas\\core\n",
            "  copying pandas\\core\\__init__.py -> build\\lib.win-amd64-3.8\\pandas\\core\n",
            "  creating build\\lib.win-amd64-3.8\\pandas\\errors\n",
            "  copying pandas\\errors\\__init__.py -> build\\lib.win-amd64-3.8\\pandas\\errors\n",
            "  creating build\\lib.win-amd64-3.8\\pandas\\io\n",
            "  copying pandas\\io\\api.py -> build\\lib.win-amd64-3.8\\pandas\\io\n",
            "  copying pandas\\io\\clipboards.py -> build\\lib.win-amd64-3.8\\pandas\\io\n",
            "  copying pandas\\io\\common.py -> build\\lib.win-amd64-3.8\\pandas\\io\n",
            "  copying pandas\\io\\date_converters.py -> build\\lib.win-amd64-3.8\\pandas\\io\n",
            "  copying pandas\\io\\excel.py -> build\\lib.win-amd64-3.8\\pandas\\io\n",
            "  copying pandas\\io\\feather_format.py -> build\\lib.win-amd64-3.8\\pandas\\io\n",
            "  copying pandas\\io\\gbq.py -> build\\lib.win-amd64-3.8\\pandas\\io\n",
            "  copying pandas\\io\\gcs.py -> build\\lib.win-amd64-3.8\\pandas\\io\n",
            "  copying pandas\\io\\html.py -> build\\lib.win-amd64-3.8\\pandas\\io\n",
            "  copying pandas\\io\\packers.py -> build\\lib.win-amd64-3.8\\pandas\\io\n",
            "  copying pandas\\io\\parquet.py -> build\\lib.win-amd64-3.8\\pandas\\io\n",
            "  copying pandas\\io\\parsers.py -> build\\lib.win-amd64-3.8\\pandas\\io\n",
            "  copying pandas\\io\\pickle.py -> build\\lib.win-amd64-3.8\\pandas\\io\n",
            "  copying pandas\\io\\pytables.py -> build\\lib.win-amd64-3.8\\pandas\\io\n",
            "  copying pandas\\io\\s3.py -> build\\lib.win-amd64-3.8\\pandas\\io\n",
            "  copying pandas\\io\\sql.py -> build\\lib.win-amd64-3.8\\pandas\\io\n",
            "  copying pandas\\io\\stata.py -> build\\lib.win-amd64-3.8\\pandas\\io\n",
            "  copying pandas\\io\\__init__.py -> build\\lib.win-amd64-3.8\\pandas\\io\n",
            "  creating build\\lib.win-amd64-3.8\\pandas\\plotting\n",
            "  copying pandas\\plotting\\_compat.py -> build\\lib.win-amd64-3.8\\pandas\\plotting\n",
            "  copying pandas\\plotting\\_converter.py -> build\\lib.win-amd64-3.8\\pandas\\plotting\n",
            "  copying pandas\\plotting\\_core.py -> build\\lib.win-amd64-3.8\\pandas\\plotting\n",
            "  copying pandas\\plotting\\_misc.py -> build\\lib.win-amd64-3.8\\pandas\\plotting\n",
            "  copying pandas\\plotting\\_style.py -> build\\lib.win-amd64-3.8\\pandas\\plotting\n",
            "  copying pandas\\plotting\\_timeseries.py -> build\\lib.win-amd64-3.8\\pandas\\plotting\n",
            "  copying pandas\\plotting\\_tools.py -> build\\lib.win-amd64-3.8\\pandas\\plotting\n",
            "  copying pandas\\plotting\\__init__.py -> build\\lib.win-amd64-3.8\\pandas\\plotting\n",
            "  creating build\\lib.win-amd64-3.8\\pandas\\tests\n",
            "  copying pandas\\tests\\test_algos.py -> build\\lib.win-amd64-3.8\\pandas\\tests\n",
            "  copying pandas\\tests\\test_base.py -> build\\lib.win-amd64-3.8\\pandas\\tests\n",
            "  copying pandas\\tests\\test_common.py -> build\\lib.win-amd64-3.8\\pandas\\tests\n",
            "  copying pandas\\tests\\test_compat.py -> build\\lib.win-amd64-3.8\\pandas\\tests\n",
            "  copying pandas\\tests\\test_config.py -> build\\lib.win-amd64-3.8\\pandas\\tests\n",
            "  copying pandas\\tests\\test_downstream.py -> build\\lib.win-amd64-3.8\\pandas\\tests\n",
            "  copying pandas\\tests\\test_errors.py -> build\\lib.win-amd64-3.8\\pandas\\tests\n",
            "  copying pandas\\tests\\test_expressions.py -> build\\lib.win-amd64-3.8\\pandas\\tests\n",
            "  copying pandas\\tests\\test_join.py -> build\\lib.win-amd64-3.8\\pandas\\tests\n",
            "  copying pandas\\tests\\test_lib.py -> build\\lib.win-amd64-3.8\\pandas\\tests\n",
            "  copying pandas\\tests\\test_multilevel.py -> build\\lib.win-amd64-3.8\\pandas\\tests\n",
            "  copying pandas\\tests\\test_nanops.py -> build\\lib.win-amd64-3.8\\pandas\\tests\n",
            "  copying pandas\\tests\\test_panel.py -> build\\lib.win-amd64-3.8\\pandas\\tests\n",
            "  copying pandas\\tests\\test_register_accessor.py -> build\\lib.win-amd64-3.8\\pandas\\tests\n",
            "  copying pandas\\tests\\test_sorting.py -> build\\lib.win-amd64-3.8\\pandas\\tests\n",
            "  copying pandas\\tests\\test_strings.py -> build\\lib.win-amd64-3.8\\pandas\\tests\n",
            "  copying pandas\\tests\\test_take.py -> build\\lib.win-amd64-3.8\\pandas\\tests\n",
            "  copying pandas\\tests\\test_window.py -> build\\lib.win-amd64-3.8\\pandas\\tests\n",
            "  copying pandas\\tests\\__init__.py -> build\\lib.win-amd64-3.8\\pandas\\tests\n",
            "  creating build\\lib.win-amd64-3.8\\pandas\\tseries\n",
            "  copying pandas\\tseries\\api.py -> build\\lib.win-amd64-3.8\\pandas\\tseries\n",
            "  copying pandas\\tseries\\converter.py -> build\\lib.win-amd64-3.8\\pandas\\tseries\n",
            "  copying pandas\\tseries\\frequencies.py -> build\\lib.win-amd64-3.8\\pandas\\tseries\n",
            "  copying pandas\\tseries\\holiday.py -> build\\lib.win-amd64-3.8\\pandas\\tseries\n",
            "  copying pandas\\tseries\\offsets.py -> build\\lib.win-amd64-3.8\\pandas\\tseries\n",
            "  copying pandas\\tseries\\plotting.py -> build\\lib.win-amd64-3.8\\pandas\\tseries\n",
            "  copying pandas\\tseries\\__init__.py -> build\\lib.win-amd64-3.8\\pandas\\tseries\n",
            "  creating build\\lib.win-amd64-3.8\\pandas\\util\n",
            "  copying pandas\\util\\testing.py -> build\\lib.win-amd64-3.8\\pandas\\util\n",
            "  copying pandas\\util\\_decorators.py -> build\\lib.win-amd64-3.8\\pandas\\util\n",
            "  copying pandas\\util\\_depr_module.py -> build\\lib.win-amd64-3.8\\pandas\\util\n",
            "  copying pandas\\util\\_doctools.py -> build\\lib.win-amd64-3.8\\pandas\\util\n",
            "  copying pandas\\util\\_exceptions.py -> build\\lib.win-amd64-3.8\\pandas\\util\n",
            "  copying pandas\\util\\_print_versions.py -> build\\lib.win-amd64-3.8\\pandas\\util\n",
            "  copying pandas\\util\\_tester.py -> build\\lib.win-amd64-3.8\\pandas\\util\n",
            "  copying pandas\\util\\_test_decorators.py -> build\\lib.win-amd64-3.8\\pandas\\util\n",
            "  copying pandas\\util\\_validators.py -> build\\lib.win-amd64-3.8\\pandas\\util\n",
            "  copying pandas\\util\\__init__.py -> build\\lib.win-amd64-3.8\\pandas\\util\n",
            "  creating build\\lib.win-amd64-3.8\\pandas\\_libs\n",
            "  copying pandas\\_libs\\__init__.py -> build\\lib.win-amd64-3.8\\pandas\\_libs\n",
            "  creating build\\lib.win-amd64-3.8\\pandas\\api\\extensions\n",
            "  copying pandas\\api\\extensions\\__init__.py -> build\\lib.win-amd64-3.8\\pandas\\api\\extensions\n",
            "  creating build\\lib.win-amd64-3.8\\pandas\\api\\types\n",
            "  copying pandas\\api\\types\\__init__.py -> build\\lib.win-amd64-3.8\\pandas\\api\\types\n",
            "  creating build\\lib.win-amd64-3.8\\pandas\\compat\\numpy\n",
            "  copying pandas\\compat\\numpy\\function.py -> build\\lib.win-amd64-3.8\\pandas\\compat\\numpy\n",
            "  copying pandas\\compat\\numpy\\__init__.py -> build\\lib.win-amd64-3.8\\pandas\\compat\\numpy\n",
            "  creating build\\lib.win-amd64-3.8\\pandas\\core\\arrays\n",
            "  copying pandas\\core\\arrays\\array_.py -> build\\lib.win-amd64-3.8\\pandas\\core\\arrays\n",
            "  copying pandas\\core\\arrays\\base.py -> build\\lib.win-amd64-3.8\\pandas\\core\\arrays\n",
            "  copying pandas\\core\\arrays\\categorical.py -> build\\lib.win-amd64-3.8\\pandas\\core\\arrays\n",
            "  copying pandas\\core\\arrays\\datetimelike.py -> build\\lib.win-amd64-3.8\\pandas\\core\\arrays\n",
            "  copying pandas\\core\\arrays\\datetimes.py -> build\\lib.win-amd64-3.8\\pandas\\core\\arrays\n",
            "  copying pandas\\core\\arrays\\integer.py -> build\\lib.win-amd64-3.8\\pandas\\core\\arrays\n",
            "  copying pandas\\core\\arrays\\interval.py -> build\\lib.win-amd64-3.8\\pandas\\core\\arrays\n",
            "  copying pandas\\core\\arrays\\numpy_.py -> build\\lib.win-amd64-3.8\\pandas\\core\\arrays\n",
            "  copying pandas\\core\\arrays\\period.py -> build\\lib.win-amd64-3.8\\pandas\\core\\arrays\n",
            "  copying pandas\\core\\arrays\\sparse.py -> build\\lib.win-amd64-3.8\\pandas\\core\\arrays\n",
            "  copying pandas\\core\\arrays\\timedeltas.py -> build\\lib.win-amd64-3.8\\pandas\\core\\arrays\n",
            "  copying pandas\\core\\arrays\\_ranges.py -> build\\lib.win-amd64-3.8\\pandas\\core\\arrays\n",
            "  copying pandas\\core\\arrays\\__init__.py -> build\\lib.win-amd64-3.8\\pandas\\core\\arrays\n",
            "  creating build\\lib.win-amd64-3.8\\pandas\\core\\computation\n",
            "  copying pandas\\core\\computation\\align.py -> build\\lib.win-amd64-3.8\\pandas\\core\\computation\n",
            "  copying pandas\\core\\computation\\api.py -> build\\lib.win-amd64-3.8\\pandas\\core\\computation\n",
            "  copying pandas\\core\\computation\\check.py -> build\\lib.win-amd64-3.8\\pandas\\core\\computation\n",
            "  copying pandas\\core\\computation\\common.py -> build\\lib.win-amd64-3.8\\pandas\\core\\computation\n",
            "  copying pandas\\core\\computation\\engines.py -> build\\lib.win-amd64-3.8\\pandas\\core\\computation\n",
            "  copying pandas\\core\\computation\\eval.py -> build\\lib.win-amd64-3.8\\pandas\\core\\computation\n",
            "  copying pandas\\core\\computation\\expr.py -> build\\lib.win-amd64-3.8\\pandas\\core\\computation\n",
            "  copying pandas\\core\\computation\\expressions.py -> build\\lib.win-amd64-3.8\\pandas\\core\\computation\n",
            "  copying pandas\\core\\computation\\ops.py -> build\\lib.win-amd64-3.8\\pandas\\core\\computation\n",
            "  copying pandas\\core\\computation\\pytables.py -> build\\lib.win-amd64-3.8\\pandas\\core\\computation\n",
            "  copying pandas\\core\\computation\\scope.py -> build\\lib.win-amd64-3.8\\pandas\\core\\computation\n",
            "  copying pandas\\core\\computation\\__init__.py -> build\\lib.win-amd64-3.8\\pandas\\core\\computation\n",
            "  creating build\\lib.win-amd64-3.8\\pandas\\core\\dtypes\n",
            "  copying pandas\\core\\dtypes\\api.py -> build\\lib.win-amd64-3.8\\pandas\\core\\dtypes\n",
            "  copying pandas\\core\\dtypes\\base.py -> build\\lib.win-amd64-3.8\\pandas\\core\\dtypes\n",
            "  copying pandas\\core\\dtypes\\cast.py -> build\\lib.win-amd64-3.8\\pandas\\core\\dtypes\n",
            "  copying pandas\\core\\dtypes\\common.py -> build\\lib.win-amd64-3.8\\pandas\\core\\dtypes\n",
            "  copying pandas\\core\\dtypes\\concat.py -> build\\lib.win-amd64-3.8\\pandas\\core\\dtypes\n",
            "  copying pandas\\core\\dtypes\\dtypes.py -> build\\lib.win-amd64-3.8\\pandas\\core\\dtypes\n",
            "  copying pandas\\core\\dtypes\\generic.py -> build\\lib.win-amd64-3.8\\pandas\\core\\dtypes\n",
            "  copying pandas\\core\\dtypes\\inference.py -> build\\lib.win-amd64-3.8\\pandas\\core\\dtypes\n",
            "  copying pandas\\core\\dtypes\\missing.py -> build\\lib.win-amd64-3.8\\pandas\\core\\dtypes\n",
            "  copying pandas\\core\\dtypes\\__init__.py -> build\\lib.win-amd64-3.8\\pandas\\core\\dtypes\n",
            "  creating build\\lib.win-amd64-3.8\\pandas\\core\\groupby\n",
            "  copying pandas\\core\\groupby\\base.py -> build\\lib.win-amd64-3.8\\pandas\\core\\groupby\n",
            "  copying pandas\\core\\groupby\\categorical.py -> build\\lib.win-amd64-3.8\\pandas\\core\\groupby\n",
            "  copying pandas\\core\\groupby\\generic.py -> build\\lib.win-amd64-3.8\\pandas\\core\\groupby\n",
            "  copying pandas\\core\\groupby\\groupby.py -> build\\lib.win-amd64-3.8\\pandas\\core\\groupby\n",
            "  copying pandas\\core\\groupby\\grouper.py -> build\\lib.win-amd64-3.8\\pandas\\core\\groupby\n",
            "  copying pandas\\core\\groupby\\ops.py -> build\\lib.win-amd64-3.8\\pandas\\core\\groupby\n",
            "  copying pandas\\core\\groupby\\__init__.py -> build\\lib.win-amd64-3.8\\pandas\\core\\groupby\n",
            "  creating build\\lib.win-amd64-3.8\\pandas\\core\\indexes\n",
            "  copying pandas\\core\\indexes\\accessors.py -> build\\lib.win-amd64-3.8\\pandas\\core\\indexes\n",
            "  copying pandas\\core\\indexes\\api.py -> build\\lib.win-amd64-3.8\\pandas\\core\\indexes\n",
            "  copying pandas\\core\\indexes\\base.py -> build\\lib.win-amd64-3.8\\pandas\\core\\indexes\n",
            "  copying pandas\\core\\indexes\\category.py -> build\\lib.win-amd64-3.8\\pandas\\core\\indexes\n",
            "  copying pandas\\core\\indexes\\datetimelike.py -> build\\lib.win-amd64-3.8\\pandas\\core\\indexes\n",
            "  copying pandas\\core\\indexes\\datetimes.py -> build\\lib.win-amd64-3.8\\pandas\\core\\indexes\n",
            "  copying pandas\\core\\indexes\\frozen.py -> build\\lib.win-amd64-3.8\\pandas\\core\\indexes\n",
            "  copying pandas\\core\\indexes\\interval.py -> build\\lib.win-amd64-3.8\\pandas\\core\\indexes\n",
            "  copying pandas\\core\\indexes\\multi.py -> build\\lib.win-amd64-3.8\\pandas\\core\\indexes\n",
            "  copying pandas\\core\\indexes\\numeric.py -> build\\lib.win-amd64-3.8\\pandas\\core\\indexes\n",
            "  copying pandas\\core\\indexes\\period.py -> build\\lib.win-amd64-3.8\\pandas\\core\\indexes\n",
            "  copying pandas\\core\\indexes\\range.py -> build\\lib.win-amd64-3.8\\pandas\\core\\indexes\n",
            "  copying pandas\\core\\indexes\\timedeltas.py -> build\\lib.win-amd64-3.8\\pandas\\core\\indexes\n",
            "  copying pandas\\core\\indexes\\__init__.py -> build\\lib.win-amd64-3.8\\pandas\\core\\indexes\n",
            "  creating build\\lib.win-amd64-3.8\\pandas\\core\\internals\n",
            "  copying pandas\\core\\internals\\arrays.py -> build\\lib.win-amd64-3.8\\pandas\\core\\internals\n",
            "  copying pandas\\core\\internals\\blocks.py -> build\\lib.win-amd64-3.8\\pandas\\core\\internals\n",
            "  copying pandas\\core\\internals\\concat.py -> build\\lib.win-amd64-3.8\\pandas\\core\\internals\n",
            "  copying pandas\\core\\internals\\construction.py -> build\\lib.win-amd64-3.8\\pandas\\core\\internals\n",
            "  copying pandas\\core\\internals\\managers.py -> build\\lib.win-amd64-3.8\\pandas\\core\\internals\n",
            "  copying pandas\\core\\internals\\__init__.py -> build\\lib.win-amd64-3.8\\pandas\\core\\internals\n",
            "  creating build\\lib.win-amd64-3.8\\pandas\\core\\reshape\n",
            "  copying pandas\\core\\reshape\\api.py -> build\\lib.win-amd64-3.8\\pandas\\core\\reshape\n",
            "  copying pandas\\core\\reshape\\concat.py -> build\\lib.win-amd64-3.8\\pandas\\core\\reshape\n",
            "  copying pandas\\core\\reshape\\melt.py -> build\\lib.win-amd64-3.8\\pandas\\core\\reshape\n",
            "  copying pandas\\core\\reshape\\merge.py -> build\\lib.win-amd64-3.8\\pandas\\core\\reshape\n",
            "  copying pandas\\core\\reshape\\pivot.py -> build\\lib.win-amd64-3.8\\pandas\\core\\reshape\n",
            "  copying pandas\\core\\reshape\\reshape.py -> build\\lib.win-amd64-3.8\\pandas\\core\\reshape\n",
            "  copying pandas\\core\\reshape\\tile.py -> build\\lib.win-amd64-3.8\\pandas\\core\\reshape\n",
            "  copying pandas\\core\\reshape\\util.py -> build\\lib.win-amd64-3.8\\pandas\\core\\reshape\n",
            "  copying pandas\\core\\reshape\\__init__.py -> build\\lib.win-amd64-3.8\\pandas\\core\\reshape\n",
            "  creating build\\lib.win-amd64-3.8\\pandas\\core\\sparse\n",
            "  copying pandas\\core\\sparse\\api.py -> build\\lib.win-amd64-3.8\\pandas\\core\\sparse\n",
            "  copying pandas\\core\\sparse\\frame.py -> build\\lib.win-amd64-3.8\\pandas\\core\\sparse\n",
            "  copying pandas\\core\\sparse\\scipy_sparse.py -> build\\lib.win-amd64-3.8\\pandas\\core\\sparse\n",
            "  copying pandas\\core\\sparse\\series.py -> build\\lib.win-amd64-3.8\\pandas\\core\\sparse\n",
            "  copying pandas\\core\\sparse\\__init__.py -> build\\lib.win-amd64-3.8\\pandas\\core\\sparse\n",
            "  creating build\\lib.win-amd64-3.8\\pandas\\core\\tools\n",
            "  copying pandas\\core\\tools\\datetimes.py -> build\\lib.win-amd64-3.8\\pandas\\core\\tools\n",
            "  copying pandas\\core\\tools\\numeric.py -> build\\lib.win-amd64-3.8\\pandas\\core\\tools\n",
            "  copying pandas\\core\\tools\\timedeltas.py -> build\\lib.win-amd64-3.8\\pandas\\core\\tools\n",
            "  copying pandas\\core\\tools\\__init__.py -> build\\lib.win-amd64-3.8\\pandas\\core\\tools\n",
            "  creating build\\lib.win-amd64-3.8\\pandas\\core\\util\n",
            "  copying pandas\\core\\util\\hashing.py -> build\\lib.win-amd64-3.8\\pandas\\core\\util\n",
            "  copying pandas\\core\\util\\__init__.py -> build\\lib.win-amd64-3.8\\pandas\\core\\util\n",
            "  creating build\\lib.win-amd64-3.8\\pandas\\io\\clipboard\n",
            "  copying pandas\\io\\clipboard\\clipboards.py -> build\\lib.win-amd64-3.8\\pandas\\io\\clipboard\n",
            "  copying pandas\\io\\clipboard\\exceptions.py -> build\\lib.win-amd64-3.8\\pandas\\io\\clipboard\n",
            "  copying pandas\\io\\clipboard\\windows.py -> build\\lib.win-amd64-3.8\\pandas\\io\\clipboard\n",
            "  copying pandas\\io\\clipboard\\__init__.py -> build\\lib.win-amd64-3.8\\pandas\\io\\clipboard\n",
            "  creating build\\lib.win-amd64-3.8\\pandas\\io\\formats\n",
            "  copying pandas\\io\\formats\\console.py -> build\\lib.win-amd64-3.8\\pandas\\io\\formats\n",
            "  copying pandas\\io\\formats\\css.py -> build\\lib.win-amd64-3.8\\pandas\\io\\formats\n",
            "  copying pandas\\io\\formats\\csvs.py -> build\\lib.win-amd64-3.8\\pandas\\io\\formats\n",
            "  copying pandas\\io\\formats\\excel.py -> build\\lib.win-amd64-3.8\\pandas\\io\\formats\n",
            "  copying pandas\\io\\formats\\format.py -> build\\lib.win-amd64-3.8\\pandas\\io\\formats\n",
            "  copying pandas\\io\\formats\\html.py -> build\\lib.win-amd64-3.8\\pandas\\io\\formats\n",
            "  copying pandas\\io\\formats\\latex.py -> build\\lib.win-amd64-3.8\\pandas\\io\\formats\n",
            "  copying pandas\\io\\formats\\printing.py -> build\\lib.win-amd64-3.8\\pandas\\io\\formats\n",
            "  copying pandas\\io\\formats\\style.py -> build\\lib.win-amd64-3.8\\pandas\\io\\formats\n",
            "  copying pandas\\io\\formats\\terminal.py -> build\\lib.win-amd64-3.8\\pandas\\io\\formats\n",
            "  copying pandas\\io\\formats\\__init__.py -> build\\lib.win-amd64-3.8\\pandas\\io\\formats\n",
            "  creating build\\lib.win-amd64-3.8\\pandas\\io\\json\n",
            "  copying pandas\\io\\json\\json.py -> build\\lib.win-amd64-3.8\\pandas\\io\\json\n",
            "  copying pandas\\io\\json\\normalize.py -> build\\lib.win-amd64-3.8\\pandas\\io\\json\n",
            "  copying pandas\\io\\json\\table_schema.py -> build\\lib.win-amd64-3.8\\pandas\\io\\json\n",
            "  copying pandas\\io\\json\\__init__.py -> build\\lib.win-amd64-3.8\\pandas\\io\\json\n",
            "  creating build\\lib.win-amd64-3.8\\pandas\\io\\msgpack\n",
            "  copying pandas\\io\\msgpack\\exceptions.py -> build\\lib.win-amd64-3.8\\pandas\\io\\msgpack\n",
            "  copying pandas\\io\\msgpack\\_version.py -> build\\lib.win-amd64-3.8\\pandas\\io\\msgpack\n",
            "  copying pandas\\io\\msgpack\\__init__.py -> build\\lib.win-amd64-3.8\\pandas\\io\\msgpack\n",
            "  creating build\\lib.win-amd64-3.8\\pandas\\io\\sas\n",
            "  copying pandas\\io\\sas\\sas7bdat.py -> build\\lib.win-amd64-3.8\\pandas\\io\\sas\n",
            "  copying pandas\\io\\sas\\sasreader.py -> build\\lib.win-amd64-3.8\\pandas\\io\\sas\n",
            "  copying pandas\\io\\sas\\sas_constants.py -> build\\lib.win-amd64-3.8\\pandas\\io\\sas\n",
            "  copying pandas\\io\\sas\\sas_xport.py -> build\\lib.win-amd64-3.8\\pandas\\io\\sas\n",
            "  copying pandas\\io\\sas\\__init__.py -> build\\lib.win-amd64-3.8\\pandas\\io\\sas\n",
            "  creating build\\lib.win-amd64-3.8\\pandas\\tests\\api\n",
            "  copying pandas\\tests\\api\\test_api.py -> build\\lib.win-amd64-3.8\\pandas\\tests\\api\n",
            "  copying pandas\\tests\\api\\test_types.py -> build\\lib.win-amd64-3.8\\pandas\\tests\\api\n",
            "  copying pandas\\tests\\api\\__init__.py -> build\\lib.win-amd64-3.8\\pandas\\tests\\api\n",
            "  creating build\\lib.win-amd64-3.8\\pandas\\tests\\arithmetic\n",
            "  copying pandas\\tests\\arithmetic\\conftest.py -> build\\lib.win-amd64-3.8\\pandas\\tests\\arithmetic\n",
            "  copying pandas\\tests\\arithmetic\\test_datetime64.py -> build\\lib.win-amd64-3.8\\pandas\\tests\\arithmetic\n",
            "  copying pandas\\tests\\arithmetic\\test_numeric.py -> build\\lib.win-amd64-3.8\\pandas\\tests\\arithmetic\n",
            "  copying pandas\\tests\\arithmetic\\test_object.py -> build\\lib.win-amd64-3.8\\pandas\\tests\\arithmetic\n",
            "  copying pandas\\tests\\arithmetic\\test_period.py -> build\\lib.win-amd64-3.8\\pandas\\tests\\arithmetic\n",
            "  copying pandas\\tests\\arithmetic\\test_timedelta64.py -> build\\lib.win-amd64-3.8\\pandas\\tests\\arithmetic\n",
            "  copying pandas\\tests\\arithmetic\\__init__.py -> build\\lib.win-amd64-3.8\\pandas\\tests\\arithmetic\n",
            "  creating build\\lib.win-amd64-3.8\\pandas\\tests\\arrays\n",
            "  copying pandas\\tests\\arrays\\test_array.py -> build\\lib.win-amd64-3.8\\pandas\\tests\\arrays\n",
            "  copying pandas\\tests\\arrays\\test_datetimelike.py -> build\\lib.win-amd64-3.8\\pandas\\tests\\arrays\n",
            "  copying pandas\\tests\\arrays\\test_datetimes.py -> build\\lib.win-amd64-3.8\\pandas\\tests\\arrays\n",
            "  copying pandas\\tests\\arrays\\test_integer.py -> build\\lib.win-amd64-3.8\\pandas\\tests\\arrays\n",
            "  copying pandas\\tests\\arrays\\test_numpy.py -> build\\lib.win-amd64-3.8\\pandas\\tests\\arrays\n",
            "  copying pandas\\tests\\arrays\\test_period.py -> build\\lib.win-amd64-3.8\\pandas\\tests\\arrays\n",
            "  copying pandas\\tests\\arrays\\test_timedeltas.py -> build\\lib.win-amd64-3.8\\pandas\\tests\\arrays\n",
            "  copying pandas\\tests\\arrays\\__init__.py -> build\\lib.win-amd64-3.8\\pandas\\tests\\arrays\n",
            "  creating build\\lib.win-amd64-3.8\\pandas\\tests\\computation\n",
            "  copying pandas\\tests\\computation\\test_compat.py -> build\\lib.win-amd64-3.8\\pandas\\tests\\computation\n",
            "  copying pandas\\tests\\computation\\test_eval.py -> build\\lib.win-amd64-3.8\\pandas\\tests\\computation\n",
            "  copying pandas\\tests\\computation\\__init__.py -> build\\lib.win-amd64-3.8\\pandas\\tests\\computation\n",
            "  creating build\\lib.win-amd64-3.8\\pandas\\tests\\dtypes\n",
            "  copying pandas\\tests\\dtypes\\test_common.py -> build\\lib.win-amd64-3.8\\pandas\\tests\\dtypes\n",
            "  copying pandas\\tests\\dtypes\\test_concat.py -> build\\lib.win-amd64-3.8\\pandas\\tests\\dtypes\n",
            "  copying pandas\\tests\\dtypes\\test_dtypes.py -> build\\lib.win-amd64-3.8\\pandas\\tests\\dtypes\n",
            "  copying pandas\\tests\\dtypes\\test_generic.py -> build\\lib.win-amd64-3.8\\pandas\\tests\\dtypes\n",
            "  copying pandas\\tests\\dtypes\\test_inference.py -> build\\lib.win-amd64-3.8\\pandas\\tests\\dtypes\n",
            "  copying pandas\\tests\\dtypes\\test_missing.py -> build\\lib.win-amd64-3.8\\pandas\\tests\\dtypes\n",
            "  copying pandas\\tests\\dtypes\\__init__.py -> build\\lib.win-amd64-3.8\\pandas\\tests\\dtypes\n",
            "  creating build\\lib.win-amd64-3.8\\pandas\\tests\\extension\n",
            "  copying pandas\\tests\\extension\\conftest.py -> build\\lib.win-amd64-3.8\\pandas\\tests\\extension\n",
            "  copying pandas\\tests\\extension\\test_categorical.py -> build\\lib.win-amd64-3.8\\pandas\\tests\\extension\n",
            "  copying pandas\\tests\\extension\\test_common.py -> build\\lib.win-amd64-3.8\\pandas\\tests\\extension\n",
            "  copying pandas\\tests\\extension\\test_datetime.py -> build\\lib.win-amd64-3.8\\pandas\\tests\\extension\n",
            "  copying pandas\\tests\\extension\\test_external_block.py -> build\\lib.win-amd64-3.8\\pandas\\tests\\extension\n",
            "  copying pandas\\tests\\extension\\test_integer.py -> build\\lib.win-amd64-3.8\\pandas\\tests\\extension\n",
            "  copying pandas\\tests\\extension\\test_interval.py -> build\\lib.win-amd64-3.8\\pandas\\tests\\extension\n",
            "  copying pandas\\tests\\extension\\test_period.py -> build\\lib.win-amd64-3.8\\pandas\\tests\\extension\n",
            "  copying pandas\\tests\\extension\\test_sparse.py -> build\\lib.win-amd64-3.8\\pandas\\tests\\extension\n",
            "  copying pandas\\tests\\extension\\__init__.py -> build\\lib.win-amd64-3.8\\pandas\\tests\\extension\n",
            "  creating build\\lib.win-amd64-3.8\\pandas\\tests\\frame\n",
            "  copying pandas\\tests\\frame\\common.py -> build\\lib.win-amd64-3.8\\pandas\\tests\\frame\n",
            "  copying pandas\\tests\\frame\\conftest.py -> build\\lib.win-amd64-3.8\\pandas\\tests\\frame\n",
            "  copying pandas\\tests\\frame\\test_alter_axes.py -> build\\lib.win-amd64-3.8\\pandas\\tests\\frame\n",
            "  copying pandas\\tests\\frame\\test_analytics.py -> build\\lib.win-amd64-3.8\\pandas\\tests\\frame\n",
            "  copying pandas\\tests\\frame\\test_api.py -> build\\lib.win-amd64-3.8\\pandas\\tests\\frame\n",
            "  copying pandas\\tests\\frame\\test_apply.py -> build\\lib.win-amd64-3.8\\pandas\\tests\\frame\n",
            "  copying pandas\\tests\\frame\\test_arithmetic.py -> build\\lib.win-amd64-3.8\\pandas\\tests\\frame\n",
            "  copying pandas\\tests\\frame\\test_asof.py -> build\\lib.win-amd64-3.8\\pandas\\tests\\frame\n",
            "  copying pandas\\tests\\frame\\test_axis_select_reindex.py -> build\\lib.win-amd64-3.8\\pandas\\tests\\frame\n",
            "  copying pandas\\tests\\frame\\test_block_internals.py -> build\\lib.win-amd64-3.8\\pandas\\tests\\frame\n",
            "  copying pandas\\tests\\frame\\test_combine_concat.py -> build\\lib.win-amd64-3.8\\pandas\\tests\\frame\n",
            "  copying pandas\\tests\\frame\\test_constructors.py -> build\\lib.win-amd64-3.8\\pandas\\tests\\frame\n",
            "  copying pandas\\tests\\frame\\test_convert_to.py -> build\\lib.win-amd64-3.8\\pandas\\tests\\frame\n",
            "  copying pandas\\tests\\frame\\test_dtypes.py -> build\\lib.win-amd64-3.8\\pandas\\tests\\frame\n",
            "  copying pandas\\tests\\frame\\test_duplicates.py -> build\\lib.win-amd64-3.8\\pandas\\tests\\frame\n",
            "  copying pandas\\tests\\frame\\test_indexing.py -> build\\lib.win-amd64-3.8\\pandas\\tests\\frame\n",
            "  copying pandas\\tests\\frame\\test_join.py -> build\\lib.win-amd64-3.8\\pandas\\tests\\frame\n",
            "  copying pandas\\tests\\frame\\test_missing.py -> build\\lib.win-amd64-3.8\\pandas\\tests\\frame\n",
            "  copying pandas\\tests\\frame\\test_mutate_columns.py -> build\\lib.win-amd64-3.8\\pandas\\tests\\frame\n",
            "  copying pandas\\tests\\frame\\test_nonunique_indexes.py -> build\\lib.win-amd64-3.8\\pandas\\tests\\frame\n",
            "  copying pandas\\tests\\frame\\test_operators.py -> build\\lib.win-amd64-3.8\\pandas\\tests\\frame\n",
            "  copying pandas\\tests\\frame\\test_period.py -> build\\lib.win-amd64-3.8\\pandas\\tests\\frame\n",
            "  copying pandas\\tests\\frame\\test_quantile.py -> build\\lib.win-amd64-3.8\\pandas\\tests\\frame\n",
            "  copying pandas\\tests\\frame\\test_query_eval.py -> build\\lib.win-amd64-3.8\\pandas\\tests\\frame\n",
            "  copying pandas\\tests\\frame\\test_rank.py -> build\\lib.win-amd64-3.8\\pandas\\tests\\frame\n",
            "  copying pandas\\tests\\frame\\test_replace.py -> build\\lib.win-amd64-3.8\\pandas\\tests\\frame\n",
            "  copying pandas\\tests\\frame\\test_repr_info.py -> build\\lib.win-amd64-3.8\\pandas\\tests\\frame\n",
            "  copying pandas\\tests\\frame\\test_reshape.py -> build\\lib.win-amd64-3.8\\pandas\\tests\\frame\n",
            "  copying pandas\\tests\\frame\\test_sorting.py -> build\\lib.win-amd64-3.8\\pandas\\tests\\frame\n",
            "  copying pandas\\tests\\frame\\test_sort_values_level_as_str.py -> build\\lib.win-amd64-3.8\\pandas\\tests\\frame\n",
            "  copying pandas\\tests\\frame\\test_subclass.py -> build\\lib.win-amd64-3.8\\pandas\\tests\\frame\n",
            "  copying pandas\\tests\\frame\\test_timeseries.py -> build\\lib.win-amd64-3.8\\pandas\\tests\\frame\n",
            "  copying pandas\\tests\\frame\\test_timezones.py -> build\\lib.win-amd64-3.8\\pandas\\tests\\frame\n",
            "  copying pandas\\tests\\frame\\test_to_csv.py -> build\\lib.win-amd64-3.8\\pandas\\tests\\frame\n",
            "  copying pandas\\tests\\frame\\test_validate.py -> build\\lib.win-amd64-3.8\\pandas\\tests\\frame\n",
            "  copying pandas\\tests\\frame\\__init__.py -> build\\lib.win-amd64-3.8\\pandas\\tests\\frame\n",
            "  creating build\\lib.win-amd64-3.8\\pandas\\tests\\generic\n",
            "  copying pandas\\tests\\generic\\test_frame.py -> build\\lib.win-amd64-3.8\\pandas\\tests\\generic\n",
            "  copying pandas\\tests\\generic\\test_generic.py -> build\\lib.win-amd64-3.8\\pandas\\tests\\generic\n",
            "  copying pandas\\tests\\generic\\test_label_or_level_utils.py -> build\\lib.win-amd64-3.8\\pandas\\tests\\generic\n",
            "  copying pandas\\tests\\generic\\test_panel.py -> build\\lib.win-amd64-3.8\\pandas\\tests\\generic\n",
            "  copying pandas\\tests\\generic\\test_series.py -> build\\lib.win-amd64-3.8\\pandas\\tests\\generic\n",
            "  copying pandas\\tests\\generic\\__init__.py -> build\\lib.win-amd64-3.8\\pandas\\tests\\generic\n",
            "  creating build\\lib.win-amd64-3.8\\pandas\\tests\\groupby\n",
            "  copying pandas\\tests\\groupby\\conftest.py -> build\\lib.win-amd64-3.8\\pandas\\tests\\groupby\n",
            "  copying pandas\\tests\\groupby\\test_apply.py -> build\\lib.win-amd64-3.8\\pandas\\tests\\groupby\n",
            "  copying pandas\\tests\\groupby\\test_bin_groupby.py -> build\\lib.win-amd64-3.8\\pandas\\tests\\groupby\n",
            "  copying pandas\\tests\\groupby\\test_categorical.py -> build\\lib.win-amd64-3.8\\pandas\\tests\\groupby\n",
            "  copying pandas\\tests\\groupby\\test_counting.py -> build\\lib.win-amd64-3.8\\pandas\\tests\\groupby\n",
            "  copying pandas\\tests\\groupby\\test_filters.py -> build\\lib.win-amd64-3.8\\pandas\\tests\\groupby\n",
            "  copying pandas\\tests\\groupby\\test_function.py -> build\\lib.win-amd64-3.8\\pandas\\tests\\groupby\n",
            "  copying pandas\\tests\\groupby\\test_groupby.py -> build\\lib.win-amd64-3.8\\pandas\\tests\\groupby\n",
            "  copying pandas\\tests\\groupby\\test_grouping.py -> build\\lib.win-amd64-3.8\\pandas\\tests\\groupby\n",
            "  copying pandas\\tests\\groupby\\test_index_as_string.py -> build\\lib.win-amd64-3.8\\pandas\\tests\\groupby\n",
            "  copying pandas\\tests\\groupby\\test_nth.py -> build\\lib.win-amd64-3.8\\pandas\\tests\\groupby\n",
            "  copying pandas\\tests\\groupby\\test_rank.py -> build\\lib.win-amd64-3.8\\pandas\\tests\\groupby\n",
            "  copying pandas\\tests\\groupby\\test_timegrouper.py -> build\\lib.win-amd64-3.8\\pandas\\tests\\groupby\n",
            "  copying pandas\\tests\\groupby\\test_transform.py -> build\\lib.win-amd64-3.8\\pandas\\tests\\groupby\n",
            "  copying pandas\\tests\\groupby\\test_value_counts.py -> build\\lib.win-amd64-3.8\\pandas\\tests\\groupby\n",
            "  copying pandas\\tests\\groupby\\test_whitelist.py -> build\\lib.win-amd64-3.8\\pandas\\tests\\groupby\n",
            "  copying pandas\\tests\\groupby\\__init__.py -> build\\lib.win-amd64-3.8\\pandas\\tests\\groupby\n",
            "  creating build\\lib.win-amd64-3.8\\pandas\\tests\\indexes\n",
            "  copying pandas\\tests\\indexes\\common.py -> build\\lib.win-amd64-3.8\\pandas\\tests\\indexes\n",
            "  copying pandas\\tests\\indexes\\conftest.py -> build\\lib.win-amd64-3.8\\pandas\\tests\\indexes\n",
            "  copying pandas\\tests\\indexes\\datetimelike.py -> build\\lib.win-amd64-3.8\\pandas\\tests\\indexes\n",
            "  copying pandas\\tests\\indexes\\test_base.py -> build\\lib.win-amd64-3.8\\pandas\\tests\\indexes\n",
            "  copying pandas\\tests\\indexes\\test_category.py -> build\\lib.win-amd64-3.8\\pandas\\tests\\indexes\n",
            "  copying pandas\\tests\\indexes\\test_common.py -> build\\lib.win-amd64-3.8\\pandas\\tests\\indexes\n",
            "  copying pandas\\tests\\indexes\\test_frozen.py -> build\\lib.win-amd64-3.8\\pandas\\tests\\indexes\n",
            "  copying pandas\\tests\\indexes\\test_numeric.py -> build\\lib.win-amd64-3.8\\pandas\\tests\\indexes\n",
            "  copying pandas\\tests\\indexes\\test_range.py -> build\\lib.win-amd64-3.8\\pandas\\tests\\indexes\n",
            "  copying pandas\\tests\\indexes\\__init__.py -> build\\lib.win-amd64-3.8\\pandas\\tests\\indexes\n",
            "  creating build\\lib.win-amd64-3.8\\pandas\\tests\\indexing\n",
            "  copying pandas\\tests\\indexing\\common.py -> build\\lib.win-amd64-3.8\\pandas\\tests\\indexing\n",
            "  copying pandas\\tests\\indexing\\conftest.py -> build\\lib.win-amd64-3.8\\pandas\\tests\\indexing\n",
            "  copying pandas\\tests\\indexing\\test_callable.py -> build\\lib.win-amd64-3.8\\pandas\\tests\\indexing\n",
            "  copying pandas\\tests\\indexing\\test_categorical.py -> build\\lib.win-amd64-3.8\\pandas\\tests\\indexing\n",
            "  copying pandas\\tests\\indexing\\test_chaining_and_caching.py -> build\\lib.win-amd64-3.8\\pandas\\tests\\indexing\n",
            "  copying pandas\\tests\\indexing\\test_coercion.py -> build\\lib.win-amd64-3.8\\pandas\\tests\\indexing\n",
            "  copying pandas\\tests\\indexing\\test_datetime.py -> build\\lib.win-amd64-3.8\\pandas\\tests\\indexing\n",
            "  copying pandas\\tests\\indexing\\test_floats.py -> build\\lib.win-amd64-3.8\\pandas\\tests\\indexing\n",
            "  copying pandas\\tests\\indexing\\test_iloc.py -> build\\lib.win-amd64-3.8\\pandas\\tests\\indexing\n",
            "  copying pandas\\tests\\indexing\\test_indexing.py -> build\\lib.win-amd64-3.8\\pandas\\tests\\indexing\n",
            "  copying pandas\\tests\\indexing\\test_indexing_engines.py -> build\\lib.win-amd64-3.8\\pandas\\tests\\indexing\n",
            "  copying pandas\\tests\\indexing\\test_indexing_slow.py -> build\\lib.win-amd64-3.8\\pandas\\tests\\indexing\n",
            "  copying pandas\\tests\\indexing\\test_ix.py -> build\\lib.win-amd64-3.8\\pandas\\tests\\indexing\n",
            "  copying pandas\\tests\\indexing\\test_loc.py -> build\\lib.win-amd64-3.8\\pandas\\tests\\indexing\n",
            "  copying pandas\\tests\\indexing\\test_panel.py -> build\\lib.win-amd64-3.8\\pandas\\tests\\indexing\n",
            "  copying pandas\\tests\\indexing\\test_partial.py -> build\\lib.win-amd64-3.8\\pandas\\tests\\indexing\n",
            "  copying pandas\\tests\\indexing\\test_scalar.py -> build\\lib.win-amd64-3.8\\pandas\\tests\\indexing\n",
            "  copying pandas\\tests\\indexing\\test_timedelta.py -> build\\lib.win-amd64-3.8\\pandas\\tests\\indexing\n",
            "  copying pandas\\tests\\indexing\\__init__.py -> build\\lib.win-amd64-3.8\\pandas\\tests\\indexing\n",
            "  creating build\\lib.win-amd64-3.8\\pandas\\tests\\internals\n",
            "  copying pandas\\tests\\internals\\test_internals.py -> build\\lib.win-amd64-3.8\\pandas\\tests\\internals\n",
            "  copying pandas\\tests\\internals\\__init__.py -> build\\lib.win-amd64-3.8\\pandas\\tests\\internals\n",
            "  creating build\\lib.win-amd64-3.8\\pandas\\tests\\io\n",
            "  copying pandas\\tests\\io\\conftest.py -> build\\lib.win-amd64-3.8\\pandas\\tests\\io\n",
            "  copying pandas\\tests\\io\\generate_legacy_storage_files.py -> build\\lib.win-amd64-3.8\\pandas\\tests\\io\n",
            "  copying pandas\\tests\\io\\test_clipboard.py -> build\\lib.win-amd64-3.8\\pandas\\tests\\io\n",
            "  copying pandas\\tests\\io\\test_common.py -> build\\lib.win-amd64-3.8\\pandas\\tests\\io\n",
            "  copying pandas\\tests\\io\\test_compression.py -> build\\lib.win-amd64-3.8\\pandas\\tests\\io\n",
            "  copying pandas\\tests\\io\\test_date_converters.py -> build\\lib.win-amd64-3.8\\pandas\\tests\\io\n",
            "  copying pandas\\tests\\io\\test_excel.py -> build\\lib.win-amd64-3.8\\pandas\\tests\\io\n",
            "  copying pandas\\tests\\io\\test_feather.py -> build\\lib.win-amd64-3.8\\pandas\\tests\\io\n",
            "  copying pandas\\tests\\io\\test_gbq.py -> build\\lib.win-amd64-3.8\\pandas\\tests\\io\n",
            "  copying pandas\\tests\\io\\test_gcs.py -> build\\lib.win-amd64-3.8\\pandas\\tests\\io\n",
            "  copying pandas\\tests\\io\\test_html.py -> build\\lib.win-amd64-3.8\\pandas\\tests\\io\n",
            "  copying pandas\\tests\\io\\test_packers.py -> build\\lib.win-amd64-3.8\\pandas\\tests\\io\n",
            "  copying pandas\\tests\\io\\test_parquet.py -> build\\lib.win-amd64-3.8\\pandas\\tests\\io\n",
            "  copying pandas\\tests\\io\\test_pickle.py -> build\\lib.win-amd64-3.8\\pandas\\tests\\io\n",
            "  copying pandas\\tests\\io\\test_pytables.py -> build\\lib.win-amd64-3.8\\pandas\\tests\\io\n",
            "  copying pandas\\tests\\io\\test_s3.py -> build\\lib.win-amd64-3.8\\pandas\\tests\\io\n",
            "  copying pandas\\tests\\io\\test_sql.py -> build\\lib.win-amd64-3.8\\pandas\\tests\\io\n",
            "  copying pandas\\tests\\io\\test_stata.py -> build\\lib.win-amd64-3.8\\pandas\\tests\\io\n",
            "  copying pandas\\tests\\io\\__init__.py -> build\\lib.win-amd64-3.8\\pandas\\tests\\io\n",
            "  creating build\\lib.win-amd64-3.8\\pandas\\tests\\plotting\n",
            "  copying pandas\\tests\\plotting\\common.py -> build\\lib.win-amd64-3.8\\pandas\\tests\\plotting\n",
            "  copying pandas\\tests\\plotting\\test_boxplot_method.py -> build\\lib.win-amd64-3.8\\pandas\\tests\\plotting\n",
            "  copying pandas\\tests\\plotting\\test_converter.py -> build\\lib.win-amd64-3.8\\pandas\\tests\\plotting\n",
            "  copying pandas\\tests\\plotting\\test_datetimelike.py -> build\\lib.win-amd64-3.8\\pandas\\tests\\plotting\n",
            "  copying pandas\\tests\\plotting\\test_frame.py -> build\\lib.win-amd64-3.8\\pandas\\tests\\plotting\n",
            "  copying pandas\\tests\\plotting\\test_groupby.py -> build\\lib.win-amd64-3.8\\pandas\\tests\\plotting\n",
            "  copying pandas\\tests\\plotting\\test_hist_method.py -> build\\lib.win-amd64-3.8\\pandas\\tests\\plotting\n",
            "  copying pandas\\tests\\plotting\\test_misc.py -> build\\lib.win-amd64-3.8\\pandas\\tests\\plotting\n",
            "  copying pandas\\tests\\plotting\\test_series.py -> build\\lib.win-amd64-3.8\\pandas\\tests\\plotting\n",
            "  copying pandas\\tests\\plotting\\__init__.py -> build\\lib.win-amd64-3.8\\pandas\\tests\\plotting\n",
            "  creating build\\lib.win-amd64-3.8\\pandas\\tests\\reductions\n",
            "  copying pandas\\tests\\reductions\\test_reductions.py -> build\\lib.win-amd64-3.8\\pandas\\tests\\reductions\n",
            "  copying pandas\\tests\\reductions\\test_stat_reductions.py -> build\\lib.win-amd64-3.8\\pandas\\tests\\reductions\n",
            "  copying pandas\\tests\\reductions\\__init__.py -> build\\lib.win-amd64-3.8\\pandas\\tests\\reductions\n",
            "  creating build\\lib.win-amd64-3.8\\pandas\\tests\\resample\n",
            "  copying pandas\\tests\\resample\\conftest.py -> build\\lib.win-amd64-3.8\\pandas\\tests\\resample\n",
            "  copying pandas\\tests\\resample\\test_base.py -> build\\lib.win-amd64-3.8\\pandas\\tests\\resample\n",
            "  copying pandas\\tests\\resample\\test_datetime_index.py -> build\\lib.win-amd64-3.8\\pandas\\tests\\resample\n",
            "  copying pandas\\tests\\resample\\test_period_index.py -> build\\lib.win-amd64-3.8\\pandas\\tests\\resample\n",
            "  copying pandas\\tests\\resample\\test_resampler_grouper.py -> build\\lib.win-amd64-3.8\\pandas\\tests\\resample\n",
            "  copying pandas\\tests\\resample\\test_resample_api.py -> build\\lib.win-amd64-3.8\\pandas\\tests\\resample\n",
            "  copying pandas\\tests\\resample\\test_timedelta.py -> build\\lib.win-amd64-3.8\\pandas\\tests\\resample\n",
            "  copying pandas\\tests\\resample\\test_time_grouper.py -> build\\lib.win-amd64-3.8\\pandas\\tests\\resample\n",
            "  copying pandas\\tests\\resample\\__init__.py -> build\\lib.win-amd64-3.8\\pandas\\tests\\resample\n",
            "  creating build\\lib.win-amd64-3.8\\pandas\\tests\\reshape\n",
            "  copying pandas\\tests\\reshape\\test_concat.py -> build\\lib.win-amd64-3.8\\pandas\\tests\\reshape\n",
            "  copying pandas\\tests\\reshape\\test_cut.py -> build\\lib.win-amd64-3.8\\pandas\\tests\\reshape\n",
            "  copying pandas\\tests\\reshape\\test_melt.py -> build\\lib.win-amd64-3.8\\pandas\\tests\\reshape\n",
            "  copying pandas\\tests\\reshape\\test_pivot.py -> build\\lib.win-amd64-3.8\\pandas\\tests\\reshape\n",
            "  copying pandas\\tests\\reshape\\test_qcut.py -> build\\lib.win-amd64-3.8\\pandas\\tests\\reshape\n",
            "  copying pandas\\tests\\reshape\\test_reshape.py -> build\\lib.win-amd64-3.8\\pandas\\tests\\reshape\n",
            "  copying pandas\\tests\\reshape\\test_union_categoricals.py -> build\\lib.win-amd64-3.8\\pandas\\tests\\reshape\n",
            "  copying pandas\\tests\\reshape\\test_util.py -> build\\lib.win-amd64-3.8\\pandas\\tests\\reshape\n",
            "  copying pandas\\tests\\reshape\\__init__.py -> build\\lib.win-amd64-3.8\\pandas\\tests\\reshape\n",
            "  creating build\\lib.win-amd64-3.8\\pandas\\tests\\scalar\n",
            "  copying pandas\\tests\\scalar\\test_nat.py -> build\\lib.win-amd64-3.8\\pandas\\tests\\scalar\n",
            "  copying pandas\\tests\\scalar\\__init__.py -> build\\lib.win-amd64-3.8\\pandas\\tests\\scalar\n",
            "  creating build\\lib.win-amd64-3.8\\pandas\\tests\\series\n",
            "  copying pandas\\tests\\series\\common.py -> build\\lib.win-amd64-3.8\\pandas\\tests\\series\n",
            "  copying pandas\\tests\\series\\conftest.py -> build\\lib.win-amd64-3.8\\pandas\\tests\\series\n",
            "  copying pandas\\tests\\series\\test_alter_axes.py -> build\\lib.win-amd64-3.8\\pandas\\tests\\series\n",
            "  copying pandas\\tests\\series\\test_analytics.py -> build\\lib.win-amd64-3.8\\pandas\\tests\\series\n",
            "  copying pandas\\tests\\series\\test_api.py -> build\\lib.win-amd64-3.8\\pandas\\tests\\series\n",
            "  copying pandas\\tests\\series\\test_apply.py -> build\\lib.win-amd64-3.8\\pandas\\tests\\series\n",
            "  copying pandas\\tests\\series\\test_arithmetic.py -> build\\lib.win-amd64-3.8\\pandas\\tests\\series\n",
            "  copying pandas\\tests\\series\\test_asof.py -> build\\lib.win-amd64-3.8\\pandas\\tests\\series\n",
            "  copying pandas\\tests\\series\\test_block_internals.py -> build\\lib.win-amd64-3.8\\pandas\\tests\\series\n",
            "  copying pandas\\tests\\series\\test_combine_concat.py -> build\\lib.win-amd64-3.8\\pandas\\tests\\series\n",
            "  copying pandas\\tests\\series\\test_constructors.py -> build\\lib.win-amd64-3.8\\pandas\\tests\\series\n",
            "  copying pandas\\tests\\series\\test_datetime_values.py -> build\\lib.win-amd64-3.8\\pandas\\tests\\series\n",
            "  copying pandas\\tests\\series\\test_dtypes.py -> build\\lib.win-amd64-3.8\\pandas\\tests\\series\n",
            "  copying pandas\\tests\\series\\test_duplicates.py -> build\\lib.win-amd64-3.8\\pandas\\tests\\series\n",
            "  copying pandas\\tests\\series\\test_internals.py -> build\\lib.win-amd64-3.8\\pandas\\tests\\series\n",
            "  copying pandas\\tests\\series\\test_io.py -> build\\lib.win-amd64-3.8\\pandas\\tests\\series\n",
            "  copying pandas\\tests\\series\\test_missing.py -> build\\lib.win-amd64-3.8\\pandas\\tests\\series\n",
            "  copying pandas\\tests\\series\\test_operators.py -> build\\lib.win-amd64-3.8\\pandas\\tests\\series\n",
            "  copying pandas\\tests\\series\\test_period.py -> build\\lib.win-amd64-3.8\\pandas\\tests\\series\n",
            "  copying pandas\\tests\\series\\test_quantile.py -> build\\lib.win-amd64-3.8\\pandas\\tests\\series\n",
            "  copying pandas\\tests\\series\\test_rank.py -> build\\lib.win-amd64-3.8\\pandas\\tests\\series\n",
            "  copying pandas\\tests\\series\\test_replace.py -> build\\lib.win-amd64-3.8\\pandas\\tests\\series\n",
            "  copying pandas\\tests\\series\\test_repr.py -> build\\lib.win-amd64-3.8\\pandas\\tests\\series\n",
            "  copying pandas\\tests\\series\\test_sorting.py -> build\\lib.win-amd64-3.8\\pandas\\tests\\series\n",
            "  copying pandas\\tests\\series\\test_subclass.py -> build\\lib.win-amd64-3.8\\pandas\\tests\\series\n",
            "  copying pandas\\tests\\series\\test_timeseries.py -> build\\lib.win-amd64-3.8\\pandas\\tests\\series\n",
            "  copying pandas\\tests\\series\\test_timezones.py -> build\\lib.win-amd64-3.8\\pandas\\tests\\series\n",
            "  copying pandas\\tests\\series\\test_validate.py -> build\\lib.win-amd64-3.8\\pandas\\tests\\series\n",
            "  copying pandas\\tests\\series\\__init__.py -> build\\lib.win-amd64-3.8\\pandas\\tests\\series\n",
            "  creating build\\lib.win-amd64-3.8\\pandas\\tests\\sparse\n",
            "  copying pandas\\tests\\sparse\\common.py -> build\\lib.win-amd64-3.8\\pandas\\tests\\sparse\n",
            "  copying pandas\\tests\\sparse\\test_combine_concat.py -> build\\lib.win-amd64-3.8\\pandas\\tests\\sparse\n",
            "  copying pandas\\tests\\sparse\\test_format.py -> build\\lib.win-amd64-3.8\\pandas\\tests\\sparse\n",
            "  copying pandas\\tests\\sparse\\test_groupby.py -> build\\lib.win-amd64-3.8\\pandas\\tests\\sparse\n",
            "  copying pandas\\tests\\sparse\\test_indexing.py -> build\\lib.win-amd64-3.8\\pandas\\tests\\sparse\n",
            "  copying pandas\\tests\\sparse\\test_pivot.py -> build\\lib.win-amd64-3.8\\pandas\\tests\\sparse\n",
            "  copying pandas\\tests\\sparse\\test_reshape.py -> build\\lib.win-amd64-3.8\\pandas\\tests\\sparse\n",
            "  copying pandas\\tests\\sparse\\__init__.py -> build\\lib.win-amd64-3.8\\pandas\\tests\\sparse\n",
            "  creating build\\lib.win-amd64-3.8\\pandas\\tests\\tools\n",
            "  copying pandas\\tests\\tools\\test_numeric.py -> build\\lib.win-amd64-3.8\\pandas\\tests\\tools\n",
            "  copying pandas\\tests\\tools\\__init__.py -> build\\lib.win-amd64-3.8\\pandas\\tests\\tools\n",
            "  creating build\\lib.win-amd64-3.8\\pandas\\tests\\tseries\n",
            "  copying pandas\\tests\\tseries\\test_frequencies.py -> build\\lib.win-amd64-3.8\\pandas\\tests\\tseries\n",
            "  copying pandas\\tests\\tseries\\test_holiday.py -> build\\lib.win-amd64-3.8\\pandas\\tests\\tseries\n",
            "  copying pandas\\tests\\tseries\\__init__.py -> build\\lib.win-amd64-3.8\\pandas\\tests\\tseries\n",
            "  creating build\\lib.win-amd64-3.8\\pandas\\tests\\tslibs\n",
            "  copying pandas\\tests\\tslibs\\test_api.py -> build\\lib.win-amd64-3.8\\pandas\\tests\\tslibs\n",
            "  copying pandas\\tests\\tslibs\\test_array_to_datetime.py -> build\\lib.win-amd64-3.8\\pandas\\tests\\tslibs\n",
            "  copying pandas\\tests\\tslibs\\test_ccalendar.py -> build\\lib.win-amd64-3.8\\pandas\\tests\\tslibs\n",
            "  copying pandas\\tests\\tslibs\\test_conversion.py -> build\\lib.win-amd64-3.8\\pandas\\tests\\tslibs\n",
            "  copying pandas\\tests\\tslibs\\test_libfrequencies.py -> build\\lib.win-amd64-3.8\\pandas\\tests\\tslibs\n",
            "  copying pandas\\tests\\tslibs\\test_liboffsets.py -> build\\lib.win-amd64-3.8\\pandas\\tests\\tslibs\n",
            "  copying pandas\\tests\\tslibs\\test_normalize_date.py -> build\\lib.win-amd64-3.8\\pandas\\tests\\tslibs\n",
            "  copying pandas\\tests\\tslibs\\test_parse_iso8601.py -> build\\lib.win-amd64-3.8\\pandas\\tests\\tslibs\n",
            "  copying pandas\\tests\\tslibs\\test_parsing.py -> build\\lib.win-amd64-3.8\\pandas\\tests\\tslibs\n",
            "  copying pandas\\tests\\tslibs\\test_period_asfreq.py -> build\\lib.win-amd64-3.8\\pandas\\tests\\tslibs\n",
            "  copying pandas\\tests\\tslibs\\test_timedeltas.py -> build\\lib.win-amd64-3.8\\pandas\\tests\\tslibs\n",
            "  copying pandas\\tests\\tslibs\\test_timezones.py -> build\\lib.win-amd64-3.8\\pandas\\tests\\tslibs\n",
            "  copying pandas\\tests\\tslibs\\__init__.py -> build\\lib.win-amd64-3.8\\pandas\\tests\\tslibs\n",
            "  creating build\\lib.win-amd64-3.8\\pandas\\tests\\util\n",
            "  copying pandas\\tests\\util\\conftest.py -> build\\lib.win-amd64-3.8\\pandas\\tests\\util\n",
            "  copying pandas\\tests\\util\\test_assert_almost_equal.py -> build\\lib.win-amd64-3.8\\pandas\\tests\\util\n",
            "  copying pandas\\tests\\util\\test_assert_categorical_equal.py -> build\\lib.win-amd64-3.8\\pandas\\tests\\util\n",
            "  copying pandas\\tests\\util\\test_assert_extension_array_equal.py -> build\\lib.win-amd64-3.8\\pandas\\tests\\util\n",
            "  copying pandas\\tests\\util\\test_assert_frame_equal.py -> build\\lib.win-amd64-3.8\\pandas\\tests\\util\n",
            "  copying pandas\\tests\\util\\test_assert_index_equal.py -> build\\lib.win-amd64-3.8\\pandas\\tests\\util\n",
            "  copying pandas\\tests\\util\\test_assert_interval_array_equal.py -> build\\lib.win-amd64-3.8\\pandas\\tests\\util\n",
            "  copying pandas\\tests\\util\\test_assert_numpy_array_equal.py -> build\\lib.win-amd64-3.8\\pandas\\tests\\util\n",
            "  copying pandas\\tests\\util\\test_assert_series_equal.py -> build\\lib.win-amd64-3.8\\pandas\\tests\\util\n",
            "  copying pandas\\tests\\util\\test_deprecate.py -> build\\lib.win-amd64-3.8\\pandas\\tests\\util\n",
            "  copying pandas\\tests\\util\\test_deprecate_kwarg.py -> build\\lib.win-amd64-3.8\\pandas\\tests\\util\n",
            "  copying pandas\\tests\\util\\test_hashing.py -> build\\lib.win-amd64-3.8\\pandas\\tests\\util\n",
            "  copying pandas\\tests\\util\\test_locale.py -> build\\lib.win-amd64-3.8\\pandas\\tests\\util\n",
            "  copying pandas\\tests\\util\\test_move.py -> build\\lib.win-amd64-3.8\\pandas\\tests\\util\n",
            "  copying pandas\\tests\\util\\test_safe_import.py -> build\\lib.win-amd64-3.8\\pandas\\tests\\util\n",
            "  copying pandas\\tests\\util\\test_util.py -> build\\lib.win-amd64-3.8\\pandas\\tests\\util\n",
            "  copying pandas\\tests\\util\\test_validate_args.py -> build\\lib.win-amd64-3.8\\pandas\\tests\\util\n",
            "  copying pandas\\tests\\util\\test_validate_args_and_kwargs.py -> build\\lib.win-amd64-3.8\\pandas\\tests\\util\n",
            "  copying pandas\\tests\\util\\test_validate_kwargs.py -> build\\lib.win-amd64-3.8\\pandas\\tests\\util\n",
            "  copying pandas\\tests\\util\\__init__.py -> build\\lib.win-amd64-3.8\\pandas\\tests\\util\n",
            "  creating build\\lib.win-amd64-3.8\\pandas\\tests\\arrays\\categorical\n",
            "  copying pandas\\tests\\arrays\\categorical\\common.py -> build\\lib.win-amd64-3.8\\pandas\\tests\\arrays\\categorical\n",
            "  copying pandas\\tests\\arrays\\categorical\\conftest.py -> build\\lib.win-amd64-3.8\\pandas\\tests\\arrays\\categorical\n",
            "  copying pandas\\tests\\arrays\\categorical\\test_algos.py -> build\\lib.win-amd64-3.8\\pandas\\tests\\arrays\\categorical\n",
            "  copying pandas\\tests\\arrays\\categorical\\test_analytics.py -> build\\lib.win-amd64-3.8\\pandas\\tests\\arrays\\categorical\n",
            "  copying pandas\\tests\\arrays\\categorical\\test_api.py -> build\\lib.win-amd64-3.8\\pandas\\tests\\arrays\\categorical\n",
            "  copying pandas\\tests\\arrays\\categorical\\test_constructors.py -> build\\lib.win-amd64-3.8\\pandas\\tests\\arrays\\categorical\n",
            "  copying pandas\\tests\\arrays\\categorical\\test_dtypes.py -> build\\lib.win-amd64-3.8\\pandas\\tests\\arrays\\categorical\n",
            "  copying pandas\\tests\\arrays\\categorical\\test_indexing.py -> build\\lib.win-amd64-3.8\\pandas\\tests\\arrays\\categorical\n",
            "  copying pandas\\tests\\arrays\\categorical\\test_missing.py -> build\\lib.win-amd64-3.8\\pandas\\tests\\arrays\\categorical\n",
            "  copying pandas\\tests\\arrays\\categorical\\test_operators.py -> build\\lib.win-amd64-3.8\\pandas\\tests\\arrays\\categorical\n",
            "  copying pandas\\tests\\arrays\\categorical\\test_repr.py -> build\\lib.win-amd64-3.8\\pandas\\tests\\arrays\\categorical\n",
            "  copying pandas\\tests\\arrays\\categorical\\test_sorting.py -> build\\lib.win-amd64-3.8\\pandas\\tests\\arrays\\categorical\n",
            "  copying pandas\\tests\\arrays\\categorical\\test_subclass.py -> build\\lib.win-amd64-3.8\\pandas\\tests\\arrays\\categorical\n",
            "  copying pandas\\tests\\arrays\\categorical\\test_warnings.py -> build\\lib.win-amd64-3.8\\pandas\\tests\\arrays\\categorical\n",
            "  copying pandas\\tests\\arrays\\categorical\\__init__.py -> build\\lib.win-amd64-3.8\\pandas\\tests\\arrays\\categorical\n",
            "  creating build\\lib.win-amd64-3.8\\pandas\\tests\\arrays\\interval\n",
            "  copying pandas\\tests\\arrays\\interval\\test_interval.py -> build\\lib.win-amd64-3.8\\pandas\\tests\\arrays\\interval\n",
            "  copying pandas\\tests\\arrays\\interval\\test_ops.py -> build\\lib.win-amd64-3.8\\pandas\\tests\\arrays\\interval\n",
            "  copying pandas\\tests\\arrays\\interval\\__init__.py -> build\\lib.win-amd64-3.8\\pandas\\tests\\arrays\\interval\n",
            "  creating build\\lib.win-amd64-3.8\\pandas\\tests\\arrays\\sparse\n",
            "  copying pandas\\tests\\arrays\\sparse\\test_arithmetics.py -> build\\lib.win-amd64-3.8\\pandas\\tests\\arrays\\sparse\n",
            "  copying pandas\\tests\\arrays\\sparse\\test_array.py -> build\\lib.win-amd64-3.8\\pandas\\tests\\arrays\\sparse\n",
            "  copying pandas\\tests\\arrays\\sparse\\test_dtype.py -> build\\lib.win-amd64-3.8\\pandas\\tests\\arrays\\sparse\n",
            "  copying pandas\\tests\\arrays\\sparse\\test_libsparse.py -> build\\lib.win-amd64-3.8\\pandas\\tests\\arrays\\sparse\n",
            "  copying pandas\\tests\\arrays\\sparse\\__init__.py -> build\\lib.win-amd64-3.8\\pandas\\tests\\arrays\\sparse\n",
            "  creating build\\lib.win-amd64-3.8\\pandas\\tests\\dtypes\\cast\n",
            "  copying pandas\\tests\\dtypes\\cast\\test_construct_from_scalar.py -> build\\lib.win-amd64-3.8\\pandas\\tests\\dtypes\\cast\n",
            "  copying pandas\\tests\\dtypes\\cast\\test_construct_ndarray.py -> build\\lib.win-amd64-3.8\\pandas\\tests\\dtypes\\cast\n",
            "  copying pandas\\tests\\dtypes\\cast\\test_construct_object_arr.py -> build\\lib.win-amd64-3.8\\pandas\\tests\\dtypes\\cast\n",
            "  copying pandas\\tests\\dtypes\\cast\\test_convert_objects.py -> build\\lib.win-amd64-3.8\\pandas\\tests\\dtypes\\cast\n",
            "  copying pandas\\tests\\dtypes\\cast\\test_downcast.py -> build\\lib.win-amd64-3.8\\pandas\\tests\\dtypes\\cast\n",
            "  copying pandas\\tests\\dtypes\\cast\\test_find_common_type.py -> build\\lib.win-amd64-3.8\\pandas\\tests\\dtypes\\cast\n",
            "  copying pandas\\tests\\dtypes\\cast\\test_infer_datetimelike.py -> build\\lib.win-amd64-3.8\\pandas\\tests\\dtypes\\cast\n",
            "  copying pandas\\tests\\dtypes\\cast\\test_infer_dtype.py -> build\\lib.win-amd64-3.8\\pandas\\tests\\dtypes\\cast\n",
            "  copying pandas\\tests\\dtypes\\cast\\__init__.py -> build\\lib.win-amd64-3.8\\pandas\\tests\\dtypes\\cast\n",
            "  creating build\\lib.win-amd64-3.8\\pandas\\tests\\extension\\arrow\n",
            "  copying pandas\\tests\\extension\\arrow\\bool.py -> build\\lib.win-amd64-3.8\\pandas\\tests\\extension\\arrow\n",
            "  copying pandas\\tests\\extension\\arrow\\test_bool.py -> build\\lib.win-amd64-3.8\\pandas\\tests\\extension\\arrow\n",
            "  copying pandas\\tests\\extension\\arrow\\__init__.py -> build\\lib.win-amd64-3.8\\pandas\\tests\\extension\\arrow\n",
            "  creating build\\lib.win-amd64-3.8\\pandas\\tests\\extension\\base\n",
            "  copying pandas\\tests\\extension\\base\\base.py -> build\\lib.win-amd64-3.8\\pandas\\tests\\extension\\base\n",
            "  copying pandas\\tests\\extension\\base\\casting.py -> build\\lib.win-amd64-3.8\\pandas\\tests\\extension\\base\n",
            "  copying pandas\\tests\\extension\\base\\constructors.py -> build\\lib.win-amd64-3.8\\pandas\\tests\\extension\\base\n",
            "  copying pandas\\tests\\extension\\base\\dtype.py -> build\\lib.win-amd64-3.8\\pandas\\tests\\extension\\base\n",
            "  copying pandas\\tests\\extension\\base\\getitem.py -> build\\lib.win-amd64-3.8\\pandas\\tests\\extension\\base\n",
            "  copying pandas\\tests\\extension\\base\\groupby.py -> build\\lib.win-amd64-3.8\\pandas\\tests\\extension\\base\n",
            "  copying pandas\\tests\\extension\\base\\interface.py -> build\\lib.win-amd64-3.8\\pandas\\tests\\extension\\base\n",
            "  copying pandas\\tests\\extension\\base\\io.py -> build\\lib.win-amd64-3.8\\pandas\\tests\\extension\\base\n",
            "  copying pandas\\tests\\extension\\base\\methods.py -> build\\lib.win-amd64-3.8\\pandas\\tests\\extension\\base\n",
            "  copying pandas\\tests\\extension\\base\\missing.py -> build\\lib.win-amd64-3.8\\pandas\\tests\\extension\\base\n",
            "  copying pandas\\tests\\extension\\base\\ops.py -> build\\lib.win-amd64-3.8\\pandas\\tests\\extension\\base\n",
            "  copying pandas\\tests\\extension\\base\\printing.py -> build\\lib.win-amd64-3.8\\pandas\\tests\\extension\\base\n",
            "  copying pandas\\tests\\extension\\base\\reduce.py -> build\\lib.win-amd64-3.8\\pandas\\tests\\extension\\base\n",
            "  copying pandas\\tests\\extension\\base\\reshaping.py -> build\\lib.win-amd64-3.8\\pandas\\tests\\extension\\base\n",
            "  copying pandas\\tests\\extension\\base\\setitem.py -> build\\lib.win-amd64-3.8\\pandas\\tests\\extension\\base\n",
            "  copying pandas\\tests\\extension\\base\\__init__.py -> build\\lib.win-amd64-3.8\\pandas\\tests\\extension\\base\n",
            "  creating build\\lib.win-amd64-3.8\\pandas\\tests\\extension\\decimal\n",
            "  copying pandas\\tests\\extension\\decimal\\array.py -> build\\lib.win-amd64-3.8\\pandas\\tests\\extension\\decimal\n",
            "  copying pandas\\tests\\extension\\decimal\\test_decimal.py -> build\\lib.win-amd64-3.8\\pandas\\tests\\extension\\decimal\n",
            "  copying pandas\\tests\\extension\\decimal\\__init__.py -> build\\lib.win-amd64-3.8\\pandas\\tests\\extension\\decimal\n",
            "  creating build\\lib.win-amd64-3.8\\pandas\\tests\\extension\\json\n",
            "  copying pandas\\tests\\extension\\json\\array.py -> build\\lib.win-amd64-3.8\\pandas\\tests\\extension\\json\n",
            "  copying pandas\\tests\\extension\\json\\test_json.py -> build\\lib.win-amd64-3.8\\pandas\\tests\\extension\\json\n",
            "  copying pandas\\tests\\extension\\json\\__init__.py -> build\\lib.win-amd64-3.8\\pandas\\tests\\extension\\json\n",
            "  creating build\\lib.win-amd64-3.8\\pandas\\tests\\extension\\numpy_\n",
            "  copying pandas\\tests\\extension\\numpy_\\conftest.py -> build\\lib.win-amd64-3.8\\pandas\\tests\\extension\\numpy_\n",
            "  copying pandas\\tests\\extension\\numpy_\\test_numpy.py -> build\\lib.win-amd64-3.8\\pandas\\tests\\extension\\numpy_\n",
            "  copying pandas\\tests\\extension\\numpy_\\test_numpy_nested.py -> build\\lib.win-amd64-3.8\\pandas\\tests\\extension\\numpy_\n",
            "  copying pandas\\tests\\extension\\numpy_\\__init__.py -> build\\lib.win-amd64-3.8\\pandas\\tests\\extension\\numpy_\n",
            "  creating build\\lib.win-amd64-3.8\\pandas\\tests\\groupby\\aggregate\n",
            "  copying pandas\\tests\\groupby\\aggregate\\test_aggregate.py -> build\\lib.win-amd64-3.8\\pandas\\tests\\groupby\\aggregate\n",
            "  copying pandas\\tests\\groupby\\aggregate\\test_cython.py -> build\\lib.win-amd64-3.8\\pandas\\tests\\groupby\\aggregate\n",
            "  copying pandas\\tests\\groupby\\aggregate\\test_other.py -> build\\lib.win-amd64-3.8\\pandas\\tests\\groupby\\aggregate\n",
            "  copying pandas\\tests\\groupby\\aggregate\\__init__.py -> build\\lib.win-amd64-3.8\\pandas\\tests\\groupby\\aggregate\n",
            "  creating build\\lib.win-amd64-3.8\\pandas\\tests\\indexes\\datetimes\n",
            "  copying pandas\\tests\\indexes\\datetimes\\test_arithmetic.py -> build\\lib.win-amd64-3.8\\pandas\\tests\\indexes\\datetimes\n",
            "  copying pandas\\tests\\indexes\\datetimes\\test_astype.py -> build\\lib.win-amd64-3.8\\pandas\\tests\\indexes\\datetimes\n",
            "  copying pandas\\tests\\indexes\\datetimes\\test_construction.py -> build\\lib.win-amd64-3.8\\pandas\\tests\\indexes\\datetimes\n",
            "  copying pandas\\tests\\indexes\\datetimes\\test_datetime.py -> build\\lib.win-amd64-3.8\\pandas\\tests\\indexes\\datetimes\n",
            "  copying pandas\\tests\\indexes\\datetimes\\test_datetimelike.py -> build\\lib.win-amd64-3.8\\pandas\\tests\\indexes\\datetimes\n",
            "  copying pandas\\tests\\indexes\\datetimes\\test_date_range.py -> build\\lib.win-amd64-3.8\\pandas\\tests\\indexes\\datetimes\n",
            "  copying pandas\\tests\\indexes\\datetimes\\test_formats.py -> build\\lib.win-amd64-3.8\\pandas\\tests\\indexes\\datetimes\n",
            "  copying pandas\\tests\\indexes\\datetimes\\test_indexing.py -> build\\lib.win-amd64-3.8\\pandas\\tests\\indexes\\datetimes\n",
            "  copying pandas\\tests\\indexes\\datetimes\\test_misc.py -> build\\lib.win-amd64-3.8\\pandas\\tests\\indexes\\datetimes\n",
            "  copying pandas\\tests\\indexes\\datetimes\\test_missing.py -> build\\lib.win-amd64-3.8\\pandas\\tests\\indexes\\datetimes\n",
            "  copying pandas\\tests\\indexes\\datetimes\\test_ops.py -> build\\lib.win-amd64-3.8\\pandas\\tests\\indexes\\datetimes\n",
            "  copying pandas\\tests\\indexes\\datetimes\\test_partial_slicing.py -> build\\lib.win-amd64-3.8\\pandas\\tests\\indexes\\datetimes\n",
            "  copying pandas\\tests\\indexes\\datetimes\\test_scalar_compat.py -> build\\lib.win-amd64-3.8\\pandas\\tests\\indexes\\datetimes\n",
            "  copying pandas\\tests\\indexes\\datetimes\\test_setops.py -> build\\lib.win-amd64-3.8\\pandas\\tests\\indexes\\datetimes\n",
            "  copying pandas\\tests\\indexes\\datetimes\\test_timezones.py -> build\\lib.win-amd64-3.8\\pandas\\tests\\indexes\\datetimes\n",
            "  copying pandas\\tests\\indexes\\datetimes\\test_tools.py -> build\\lib.win-amd64-3.8\\pandas\\tests\\indexes\\datetimes\n",
            "  copying pandas\\tests\\indexes\\datetimes\\__init__.py -> build\\lib.win-amd64-3.8\\pandas\\tests\\indexes\\datetimes\n",
            "  creating build\\lib.win-amd64-3.8\\pandas\\tests\\indexes\\interval\n",
            "  copying pandas\\tests\\indexes\\interval\\test_astype.py -> build\\lib.win-amd64-3.8\\pandas\\tests\\indexes\\interval\n",
            "  copying pandas\\tests\\indexes\\interval\\test_construction.py -> build\\lib.win-amd64-3.8\\pandas\\tests\\indexes\\interval\n",
            "  copying pandas\\tests\\indexes\\interval\\test_interval.py -> build\\lib.win-amd64-3.8\\pandas\\tests\\indexes\\interval\n",
            "  copying pandas\\tests\\indexes\\interval\\test_interval_new.py -> build\\lib.win-amd64-3.8\\pandas\\tests\\indexes\\interval\n",
            "  copying pandas\\tests\\indexes\\interval\\test_interval_range.py -> build\\lib.win-amd64-3.8\\pandas\\tests\\indexes\\interval\n",
            "  copying pandas\\tests\\indexes\\interval\\test_interval_tree.py -> build\\lib.win-amd64-3.8\\pandas\\tests\\indexes\\interval\n",
            "  copying pandas\\tests\\indexes\\interval\\__init__.py -> build\\lib.win-amd64-3.8\\pandas\\tests\\indexes\\interval\n",
            "  creating build\\lib.win-amd64-3.8\\pandas\\tests\\indexes\\multi\n",
            "  copying pandas\\tests\\indexes\\multi\\conftest.py -> build\\lib.win-amd64-3.8\\pandas\\tests\\indexes\\multi\n",
            "  copying pandas\\tests\\indexes\\multi\\test_analytics.py -> build\\lib.win-amd64-3.8\\pandas\\tests\\indexes\\multi\n",
            "  copying pandas\\tests\\indexes\\multi\\test_astype.py -> build\\lib.win-amd64-3.8\\pandas\\tests\\indexes\\multi\n",
            "  copying pandas\\tests\\indexes\\multi\\test_compat.py -> build\\lib.win-amd64-3.8\\pandas\\tests\\indexes\\multi\n",
            "  copying pandas\\tests\\indexes\\multi\\test_constructor.py -> build\\lib.win-amd64-3.8\\pandas\\tests\\indexes\\multi\n",
            "  copying pandas\\tests\\indexes\\multi\\test_contains.py -> build\\lib.win-amd64-3.8\\pandas\\tests\\indexes\\multi\n",
            "  copying pandas\\tests\\indexes\\multi\\test_conversion.py -> build\\lib.win-amd64-3.8\\pandas\\tests\\indexes\\multi\n",
            "  copying pandas\\tests\\indexes\\multi\\test_copy.py -> build\\lib.win-amd64-3.8\\pandas\\tests\\indexes\\multi\n",
            "  copying pandas\\tests\\indexes\\multi\\test_drop.py -> build\\lib.win-amd64-3.8\\pandas\\tests\\indexes\\multi\n",
            "  copying pandas\\tests\\indexes\\multi\\test_duplicates.py -> build\\lib.win-amd64-3.8\\pandas\\tests\\indexes\\multi\n",
            "  copying pandas\\tests\\indexes\\multi\\test_equivalence.py -> build\\lib.win-amd64-3.8\\pandas\\tests\\indexes\\multi\n",
            "  copying pandas\\tests\\indexes\\multi\\test_format.py -> build\\lib.win-amd64-3.8\\pandas\\tests\\indexes\\multi\n",
            "  copying pandas\\tests\\indexes\\multi\\test_get_set.py -> build\\lib.win-amd64-3.8\\pandas\\tests\\indexes\\multi\n",
            "  copying pandas\\tests\\indexes\\multi\\test_indexing.py -> build\\lib.win-amd64-3.8\\pandas\\tests\\indexes\\multi\n",
            "  copying pandas\\tests\\indexes\\multi\\test_integrity.py -> build\\lib.win-amd64-3.8\\pandas\\tests\\indexes\\multi\n",
            "  copying pandas\\tests\\indexes\\multi\\test_join.py -> build\\lib.win-amd64-3.8\\pandas\\tests\\indexes\\multi\n",
            "  copying pandas\\tests\\indexes\\multi\\test_missing.py -> build\\lib.win-amd64-3.8\\pandas\\tests\\indexes\\multi\n",
            "  copying pandas\\tests\\indexes\\multi\\test_monotonic.py -> build\\lib.win-amd64-3.8\\pandas\\tests\\indexes\\multi\n",
            "  copying pandas\\tests\\indexes\\multi\\test_names.py -> build\\lib.win-amd64-3.8\\pandas\\tests\\indexes\\multi\n",
            "  copying pandas\\tests\\indexes\\multi\\test_partial_indexing.py -> build\\lib.win-amd64-3.8\\pandas\\tests\\indexes\\multi\n",
            "  copying pandas\\tests\\indexes\\multi\\test_reindex.py -> build\\lib.win-amd64-3.8\\pandas\\tests\\indexes\\multi\n",
            "  copying pandas\\tests\\indexes\\multi\\test_reshape.py -> build\\lib.win-amd64-3.8\\pandas\\tests\\indexes\\multi\n",
            "  copying pandas\\tests\\indexes\\multi\\test_set_ops.py -> build\\lib.win-amd64-3.8\\pandas\\tests\\indexes\\multi\n",
            "  copying pandas\\tests\\indexes\\multi\\test_sorting.py -> build\\lib.win-amd64-3.8\\pandas\\tests\\indexes\\multi\n",
            "  copying pandas\\tests\\indexes\\multi\\__init__.py -> build\\lib.win-amd64-3.8\\pandas\\tests\\indexes\\multi\n",
            "  creating build\\lib.win-amd64-3.8\\pandas\\tests\\indexes\\period\n",
            "  copying pandas\\tests\\indexes\\period\\test_arithmetic.py -> build\\lib.win-amd64-3.8\\pandas\\tests\\indexes\\period\n",
            "  copying pandas\\tests\\indexes\\period\\test_asfreq.py -> build\\lib.win-amd64-3.8\\pandas\\tests\\indexes\\period\n",
            "  copying pandas\\tests\\indexes\\period\\test_astype.py -> build\\lib.win-amd64-3.8\\pandas\\tests\\indexes\\period\n",
            "  copying pandas\\tests\\indexes\\period\\test_construction.py -> build\\lib.win-amd64-3.8\\pandas\\tests\\indexes\\period\n",
            "  copying pandas\\tests\\indexes\\period\\test_formats.py -> build\\lib.win-amd64-3.8\\pandas\\tests\\indexes\\period\n",
            "  copying pandas\\tests\\indexes\\period\\test_indexing.py -> build\\lib.win-amd64-3.8\\pandas\\tests\\indexes\\period\n",
            "  copying pandas\\tests\\indexes\\period\\test_ops.py -> build\\lib.win-amd64-3.8\\pandas\\tests\\indexes\\period\n",
            "  copying pandas\\tests\\indexes\\period\\test_partial_slicing.py -> build\\lib.win-amd64-3.8\\pandas\\tests\\indexes\\period\n",
            "  copying pandas\\tests\\indexes\\period\\test_period.py -> build\\lib.win-amd64-3.8\\pandas\\tests\\indexes\\period\n",
            "  copying pandas\\tests\\indexes\\period\\test_period_range.py -> build\\lib.win-amd64-3.8\\pandas\\tests\\indexes\\period\n",
            "  copying pandas\\tests\\indexes\\period\\test_scalar_compat.py -> build\\lib.win-amd64-3.8\\pandas\\tests\\indexes\\period\n",
            "  copying pandas\\tests\\indexes\\period\\test_setops.py -> build\\lib.win-amd64-3.8\\pandas\\tests\\indexes\\period\n",
            "  copying pandas\\tests\\indexes\\period\\test_tools.py -> build\\lib.win-amd64-3.8\\pandas\\tests\\indexes\\period\n",
            "  copying pandas\\tests\\indexes\\period\\__init__.py -> build\\lib.win-amd64-3.8\\pandas\\tests\\indexes\\period\n",
            "  creating build\\lib.win-amd64-3.8\\pandas\\tests\\indexes\\timedeltas\n",
            "  copying pandas\\tests\\indexes\\timedeltas\\test_arithmetic.py -> build\\lib.win-amd64-3.8\\pandas\\tests\\indexes\\timedeltas\n",
            "  copying pandas\\tests\\indexes\\timedeltas\\test_astype.py -> build\\lib.win-amd64-3.8\\pandas\\tests\\indexes\\timedeltas\n",
            "  copying pandas\\tests\\indexes\\timedeltas\\test_construction.py -> build\\lib.win-amd64-3.8\\pandas\\tests\\indexes\\timedeltas\n",
            "  copying pandas\\tests\\indexes\\timedeltas\\test_formats.py -> build\\lib.win-amd64-3.8\\pandas\\tests\\indexes\\timedeltas\n",
            "  copying pandas\\tests\\indexes\\timedeltas\\test_indexing.py -> build\\lib.win-amd64-3.8\\pandas\\tests\\indexes\\timedeltas\n",
            "  copying pandas\\tests\\indexes\\timedeltas\\test_ops.py -> build\\lib.win-amd64-3.8\\pandas\\tests\\indexes\\timedeltas\n",
            "  copying pandas\\tests\\indexes\\timedeltas\\test_partial_slicing.py -> build\\lib.win-amd64-3.8\\pandas\\tests\\indexes\\timedeltas\n",
            "  copying pandas\\tests\\indexes\\timedeltas\\test_scalar_compat.py -> build\\lib.win-amd64-3.8\\pandas\\tests\\indexes\\timedeltas\n",
            "  copying pandas\\tests\\indexes\\timedeltas\\test_setops.py -> build\\lib.win-amd64-3.8\\pandas\\tests\\indexes\\timedeltas\n",
            "  copying pandas\\tests\\indexes\\timedeltas\\test_timedelta.py -> build\\lib.win-amd64-3.8\\pandas\\tests\\indexes\\timedeltas\n",
            "  copying pandas\\tests\\indexes\\timedeltas\\test_timedelta_range.py -> build\\lib.win-amd64-3.8\\pandas\\tests\\indexes\\timedeltas\n",
            "  copying pandas\\tests\\indexes\\timedeltas\\test_tools.py -> build\\lib.win-amd64-3.8\\pandas\\tests\\indexes\\timedeltas\n",
            "  copying pandas\\tests\\indexes\\timedeltas\\__init__.py -> build\\lib.win-amd64-3.8\\pandas\\tests\\indexes\\timedeltas\n",
            "  creating build\\lib.win-amd64-3.8\\pandas\\tests\\indexing\\interval\n",
            "  copying pandas\\tests\\indexing\\interval\\test_interval.py -> build\\lib.win-amd64-3.8\\pandas\\tests\\indexing\\interval\n",
            "  copying pandas\\tests\\indexing\\interval\\test_interval_new.py -> build\\lib.win-amd64-3.8\\pandas\\tests\\indexing\\interval\n",
            "  copying pandas\\tests\\indexing\\interval\\__init__.py -> build\\lib.win-amd64-3.8\\pandas\\tests\\indexing\\interval\n",
            "  creating build\\lib.win-amd64-3.8\\pandas\\tests\\indexing\\multiindex\n",
            "  copying pandas\\tests\\indexing\\multiindex\\conftest.py -> build\\lib.win-amd64-3.8\\pandas\\tests\\indexing\\multiindex\n",
            "  copying pandas\\tests\\indexing\\multiindex\\test_chaining_and_caching.py -> build\\lib.win-amd64-3.8\\pandas\\tests\\indexing\\multiindex\n",
            "  copying pandas\\tests\\indexing\\multiindex\\test_datetime.py -> build\\lib.win-amd64-3.8\\pandas\\tests\\indexing\\multiindex\n",
            "  copying pandas\\tests\\indexing\\multiindex\\test_getitem.py -> build\\lib.win-amd64-3.8\\pandas\\tests\\indexing\\multiindex\n",
            "  copying pandas\\tests\\indexing\\multiindex\\test_iloc.py -> build\\lib.win-amd64-3.8\\pandas\\tests\\indexing\\multiindex\n",
            "  copying pandas\\tests\\indexing\\multiindex\\test_indexing_slow.py -> build\\lib.win-amd64-3.8\\pandas\\tests\\indexing\\multiindex\n",
            "  copying pandas\\tests\\indexing\\multiindex\\test_ix.py -> build\\lib.win-amd64-3.8\\pandas\\tests\\indexing\\multiindex\n",
            "  copying pandas\\tests\\indexing\\multiindex\\test_loc.py -> build\\lib.win-amd64-3.8\\pandas\\tests\\indexing\\multiindex\n",
            "  copying pandas\\tests\\indexing\\multiindex\\test_multiindex.py -> build\\lib.win-amd64-3.8\\pandas\\tests\\indexing\\multiindex\n",
            "  copying pandas\\tests\\indexing\\multiindex\\test_panel.py -> build\\lib.win-amd64-3.8\\pandas\\tests\\indexing\\multiindex\n",
            "  copying pandas\\tests\\indexing\\multiindex\\test_partial.py -> build\\lib.win-amd64-3.8\\pandas\\tests\\indexing\\multiindex\n",
            "  copying pandas\\tests\\indexing\\multiindex\\test_setitem.py -> build\\lib.win-amd64-3.8\\pandas\\tests\\indexing\\multiindex\n",
            "  copying pandas\\tests\\indexing\\multiindex\\test_set_ops.py -> build\\lib.win-amd64-3.8\\pandas\\tests\\indexing\\multiindex\n",
            "  copying pandas\\tests\\indexing\\multiindex\\test_slice.py -> build\\lib.win-amd64-3.8\\pandas\\tests\\indexing\\multiindex\n",
            "  copying pandas\\tests\\indexing\\multiindex\\test_sorted.py -> build\\lib.win-amd64-3.8\\pandas\\tests\\indexing\\multiindex\n",
            "  copying pandas\\tests\\indexing\\multiindex\\test_xs.py -> build\\lib.win-amd64-3.8\\pandas\\tests\\indexing\\multiindex\n",
            "  copying pandas\\tests\\indexing\\multiindex\\__init__.py -> build\\lib.win-amd64-3.8\\pandas\\tests\\indexing\\multiindex\n",
            "  creating build\\lib.win-amd64-3.8\\pandas\\tests\\io\\formats\n",
            "  copying pandas\\tests\\io\\formats\\test_console.py -> build\\lib.win-amd64-3.8\\pandas\\tests\\io\\formats\n",
            "  copying pandas\\tests\\io\\formats\\test_css.py -> build\\lib.win-amd64-3.8\\pandas\\tests\\io\\formats\n",
            "  copying pandas\\tests\\io\\formats\\test_eng_formatting.py -> build\\lib.win-amd64-3.8\\pandas\\tests\\io\\formats\n",
            "  copying pandas\\tests\\io\\formats\\test_format.py -> build\\lib.win-amd64-3.8\\pandas\\tests\\io\\formats\n",
            "  copying pandas\\tests\\io\\formats\\test_printing.py -> build\\lib.win-amd64-3.8\\pandas\\tests\\io\\formats\n",
            "  copying pandas\\tests\\io\\formats\\test_style.py -> build\\lib.win-amd64-3.8\\pandas\\tests\\io\\formats\n",
            "  copying pandas\\tests\\io\\formats\\test_to_csv.py -> build\\lib.win-amd64-3.8\\pandas\\tests\\io\\formats\n",
            "  copying pandas\\tests\\io\\formats\\test_to_excel.py -> build\\lib.win-amd64-3.8\\pandas\\tests\\io\\formats\n",
            "  copying pandas\\tests\\io\\formats\\test_to_html.py -> build\\lib.win-amd64-3.8\\pandas\\tests\\io\\formats\n",
            "  copying pandas\\tests\\io\\formats\\test_to_latex.py -> build\\lib.win-amd64-3.8\\pandas\\tests\\io\\formats\n",
            "  copying pandas\\tests\\io\\formats\\__init__.py -> build\\lib.win-amd64-3.8\\pandas\\tests\\io\\formats\n",
            "  creating build\\lib.win-amd64-3.8\\pandas\\tests\\io\\json\n",
            "  copying pandas\\tests\\io\\json\\test_compression.py -> build\\lib.win-amd64-3.8\\pandas\\tests\\io\\json\n",
            "  copying pandas\\tests\\io\\json\\test_json_table_schema.py -> build\\lib.win-amd64-3.8\\pandas\\tests\\io\\json\n",
            "  copying pandas\\tests\\io\\json\\test_normalize.py -> build\\lib.win-amd64-3.8\\pandas\\tests\\io\\json\n",
            "  copying pandas\\tests\\io\\json\\test_pandas.py -> build\\lib.win-amd64-3.8\\pandas\\tests\\io\\json\n",
            "  copying pandas\\tests\\io\\json\\test_readlines.py -> build\\lib.win-amd64-3.8\\pandas\\tests\\io\\json\n",
            "  copying pandas\\tests\\io\\json\\test_ujson.py -> build\\lib.win-amd64-3.8\\pandas\\tests\\io\\json\n",
            "  copying pandas\\tests\\io\\json\\__init__.py -> build\\lib.win-amd64-3.8\\pandas\\tests\\io\\json\n",
            "  creating build\\lib.win-amd64-3.8\\pandas\\tests\\io\\msgpack\n",
            "  copying pandas\\tests\\io\\msgpack\\common.py -> build\\lib.win-amd64-3.8\\pandas\\tests\\io\\msgpack\n",
            "  copying pandas\\tests\\io\\msgpack\\test_buffer.py -> build\\lib.win-amd64-3.8\\pandas\\tests\\io\\msgpack\n",
            "  copying pandas\\tests\\io\\msgpack\\test_case.py -> build\\lib.win-amd64-3.8\\pandas\\tests\\io\\msgpack\n",
            "  copying pandas\\tests\\io\\msgpack\\test_except.py -> build\\lib.win-amd64-3.8\\pandas\\tests\\io\\msgpack\n",
            "  copying pandas\\tests\\io\\msgpack\\test_extension.py -> build\\lib.win-amd64-3.8\\pandas\\tests\\io\\msgpack\n",
            "  copying pandas\\tests\\io\\msgpack\\test_format.py -> build\\lib.win-amd64-3.8\\pandas\\tests\\io\\msgpack\n",
            "  copying pandas\\tests\\io\\msgpack\\test_limits.py -> build\\lib.win-amd64-3.8\\pandas\\tests\\io\\msgpack\n",
            "  copying pandas\\tests\\io\\msgpack\\test_newspec.py -> build\\lib.win-amd64-3.8\\pandas\\tests\\io\\msgpack\n",
            "  copying pandas\\tests\\io\\msgpack\\test_obj.py -> build\\lib.win-amd64-3.8\\pandas\\tests\\io\\msgpack\n",
            "  copying pandas\\tests\\io\\msgpack\\test_pack.py -> build\\lib.win-amd64-3.8\\pandas\\tests\\io\\msgpack\n",
            "  copying pandas\\tests\\io\\msgpack\\test_read_size.py -> build\\lib.win-amd64-3.8\\pandas\\tests\\io\\msgpack\n",
            "  copying pandas\\tests\\io\\msgpack\\test_seq.py -> build\\lib.win-amd64-3.8\\pandas\\tests\\io\\msgpack\n",
            "  copying pandas\\tests\\io\\msgpack\\test_sequnpack.py -> build\\lib.win-amd64-3.8\\pandas\\tests\\io\\msgpack\n",
            "  copying pandas\\tests\\io\\msgpack\\test_subtype.py -> build\\lib.win-amd64-3.8\\pandas\\tests\\io\\msgpack\n",
            "  copying pandas\\tests\\io\\msgpack\\test_unpack.py -> build\\lib.win-amd64-3.8\\pandas\\tests\\io\\msgpack\n",
            "  copying pandas\\tests\\io\\msgpack\\test_unpack_raw.py -> build\\lib.win-amd64-3.8\\pandas\\tests\\io\\msgpack\n",
            "  copying pandas\\tests\\io\\msgpack\\__init__.py -> build\\lib.win-amd64-3.8\\pandas\\tests\\io\\msgpack\n",
            "  creating build\\lib.win-amd64-3.8\\pandas\\tests\\io\\parser\n",
            "  copying pandas\\tests\\io\\parser\\conftest.py -> build\\lib.win-amd64-3.8\\pandas\\tests\\io\\parser\n",
            "  copying pandas\\tests\\io\\parser\\test_comment.py -> build\\lib.win-amd64-3.8\\pandas\\tests\\io\\parser\n",
            "  copying pandas\\tests\\io\\parser\\test_common.py -> build\\lib.win-amd64-3.8\\pandas\\tests\\io\\parser\n",
            "  copying pandas\\tests\\io\\parser\\test_compression.py -> build\\lib.win-amd64-3.8\\pandas\\tests\\io\\parser\n",
            "  copying pandas\\tests\\io\\parser\\test_converters.py -> build\\lib.win-amd64-3.8\\pandas\\tests\\io\\parser\n",
            "  copying pandas\\tests\\io\\parser\\test_c_parser_only.py -> build\\lib.win-amd64-3.8\\pandas\\tests\\io\\parser\n",
            "  copying pandas\\tests\\io\\parser\\test_dialect.py -> build\\lib.win-amd64-3.8\\pandas\\tests\\io\\parser\n",
            "  copying pandas\\tests\\io\\parser\\test_dtypes.py -> build\\lib.win-amd64-3.8\\pandas\\tests\\io\\parser\n",
            "  copying pandas\\tests\\io\\parser\\test_header.py -> build\\lib.win-amd64-3.8\\pandas\\tests\\io\\parser\n",
            "  copying pandas\\tests\\io\\parser\\test_index_col.py -> build\\lib.win-amd64-3.8\\pandas\\tests\\io\\parser\n",
            "  copying pandas\\tests\\io\\parser\\test_mangle_dupes.py -> build\\lib.win-amd64-3.8\\pandas\\tests\\io\\parser\n",
            "  copying pandas\\tests\\io\\parser\\test_multi_thread.py -> build\\lib.win-amd64-3.8\\pandas\\tests\\io\\parser\n",
            "  copying pandas\\tests\\io\\parser\\test_na_values.py -> build\\lib.win-amd64-3.8\\pandas\\tests\\io\\parser\n",
            "  copying pandas\\tests\\io\\parser\\test_network.py -> build\\lib.win-amd64-3.8\\pandas\\tests\\io\\parser\n",
            "  copying pandas\\tests\\io\\parser\\test_parse_dates.py -> build\\lib.win-amd64-3.8\\pandas\\tests\\io\\parser\n",
            "  copying pandas\\tests\\io\\parser\\test_python_parser_only.py -> build\\lib.win-amd64-3.8\\pandas\\tests\\io\\parser\n",
            "  copying pandas\\tests\\io\\parser\\test_quoting.py -> build\\lib.win-amd64-3.8\\pandas\\tests\\io\\parser\n",
            "  copying pandas\\tests\\io\\parser\\test_read_fwf.py -> build\\lib.win-amd64-3.8\\pandas\\tests\\io\\parser\n",
            "  copying pandas\\tests\\io\\parser\\test_skiprows.py -> build\\lib.win-amd64-3.8\\pandas\\tests\\io\\parser\n",
            "  copying pandas\\tests\\io\\parser\\test_textreader.py -> build\\lib.win-amd64-3.8\\pandas\\tests\\io\\parser\n",
            "  copying pandas\\tests\\io\\parser\\test_unsupported.py -> build\\lib.win-amd64-3.8\\pandas\\tests\\io\\parser\n",
            "  copying pandas\\tests\\io\\parser\\test_usecols.py -> build\\lib.win-amd64-3.8\\pandas\\tests\\io\\parser\n",
            "  copying pandas\\tests\\io\\parser\\__init__.py -> build\\lib.win-amd64-3.8\\pandas\\tests\\io\\parser\n",
            "  creating build\\lib.win-amd64-3.8\\pandas\\tests\\io\\sas\n",
            "  copying pandas\\tests\\io\\sas\\test_sas.py -> build\\lib.win-amd64-3.8\\pandas\\tests\\io\\sas\n",
            "  copying pandas\\tests\\io\\sas\\test_sas7bdat.py -> build\\lib.win-amd64-3.8\\pandas\\tests\\io\\sas\n",
            "  copying pandas\\tests\\io\\sas\\test_xport.py -> build\\lib.win-amd64-3.8\\pandas\\tests\\io\\sas\n",
            "  copying pandas\\tests\\io\\sas\\__init__.py -> build\\lib.win-amd64-3.8\\pandas\\tests\\io\\sas\n",
            "  creating build\\lib.win-amd64-3.8\\pandas\\tests\\reshape\\merge\n",
            "  copying pandas\\tests\\reshape\\merge\\test_join.py -> build\\lib.win-amd64-3.8\\pandas\\tests\\reshape\\merge\n",
            "  copying pandas\\tests\\reshape\\merge\\test_merge.py -> build\\lib.win-amd64-3.8\\pandas\\tests\\reshape\\merge\n",
            "  copying pandas\\tests\\reshape\\merge\\test_merge_asof.py -> build\\lib.win-amd64-3.8\\pandas\\tests\\reshape\\merge\n",
            "  copying pandas\\tests\\reshape\\merge\\test_merge_index_as_string.py -> build\\lib.win-amd64-3.8\\pandas\\tests\\reshape\\merge\n",
            "  copying pandas\\tests\\reshape\\merge\\test_merge_ordered.py -> build\\lib.win-amd64-3.8\\pandas\\tests\\reshape\\merge\n",
            "  copying pandas\\tests\\reshape\\merge\\test_multi.py -> build\\lib.win-amd64-3.8\\pandas\\tests\\reshape\\merge\n",
            "  copying pandas\\tests\\reshape\\merge\\__init__.py -> build\\lib.win-amd64-3.8\\pandas\\tests\\reshape\\merge\n",
            "  creating build\\lib.win-amd64-3.8\\pandas\\tests\\scalar\\interval\n",
            "  copying pandas\\tests\\scalar\\interval\\test_interval.py -> build\\lib.win-amd64-3.8\\pandas\\tests\\scalar\\interval\n",
            "  copying pandas\\tests\\scalar\\interval\\test_ops.py -> build\\lib.win-amd64-3.8\\pandas\\tests\\scalar\\interval\n",
            "  copying pandas\\tests\\scalar\\interval\\__init__.py -> build\\lib.win-amd64-3.8\\pandas\\tests\\scalar\\interval\n",
            "  creating build\\lib.win-amd64-3.8\\pandas\\tests\\scalar\\period\n",
            "  copying pandas\\tests\\scalar\\period\\test_asfreq.py -> build\\lib.win-amd64-3.8\\pandas\\tests\\scalar\\period\n",
            "  copying pandas\\tests\\scalar\\period\\test_period.py -> build\\lib.win-amd64-3.8\\pandas\\tests\\scalar\\period\n",
            "  copying pandas\\tests\\scalar\\period\\__init__.py -> build\\lib.win-amd64-3.8\\pandas\\tests\\scalar\\period\n",
            "  creating build\\lib.win-amd64-3.8\\pandas\\tests\\scalar\\timedelta\n",
            "  copying pandas\\tests\\scalar\\timedelta\\test_arithmetic.py -> build\\lib.win-amd64-3.8\\pandas\\tests\\scalar\\timedelta\n",
            "  copying pandas\\tests\\scalar\\timedelta\\test_construction.py -> build\\lib.win-amd64-3.8\\pandas\\tests\\scalar\\timedelta\n",
            "  copying pandas\\tests\\scalar\\timedelta\\test_formats.py -> build\\lib.win-amd64-3.8\\pandas\\tests\\scalar\\timedelta\n",
            "  copying pandas\\tests\\scalar\\timedelta\\test_timedelta.py -> build\\lib.win-amd64-3.8\\pandas\\tests\\scalar\\timedelta\n",
            "  copying pandas\\tests\\scalar\\timedelta\\__init__.py -> build\\lib.win-amd64-3.8\\pandas\\tests\\scalar\\timedelta\n",
            "  creating build\\lib.win-amd64-3.8\\pandas\\tests\\scalar\\timestamp\n",
            "  copying pandas\\tests\\scalar\\timestamp\\test_arithmetic.py -> build\\lib.win-amd64-3.8\\pandas\\tests\\scalar\\timestamp\n",
            "  copying pandas\\tests\\scalar\\timestamp\\test_comparisons.py -> build\\lib.win-amd64-3.8\\pandas\\tests\\scalar\\timestamp\n",
            "  copying pandas\\tests\\scalar\\timestamp\\test_rendering.py -> build\\lib.win-amd64-3.8\\pandas\\tests\\scalar\\timestamp\n",
            "  copying pandas\\tests\\scalar\\timestamp\\test_timestamp.py -> build\\lib.win-amd64-3.8\\pandas\\tests\\scalar\\timestamp\n",
            "  copying pandas\\tests\\scalar\\timestamp\\test_timezones.py -> build\\lib.win-amd64-3.8\\pandas\\tests\\scalar\\timestamp\n",
            "  copying pandas\\tests\\scalar\\timestamp\\test_unary_ops.py -> build\\lib.win-amd64-3.8\\pandas\\tests\\scalar\\timestamp\n",
            "  copying pandas\\tests\\scalar\\timestamp\\__init__.py -> build\\lib.win-amd64-3.8\\pandas\\tests\\scalar\\timestamp\n",
            "  creating build\\lib.win-amd64-3.8\\pandas\\tests\\series\\indexing\n",
            "  copying pandas\\tests\\series\\indexing\\conftest.py -> build\\lib.win-amd64-3.8\\pandas\\tests\\series\\indexing\n",
            "  copying pandas\\tests\\series\\indexing\\test_alter_index.py -> build\\lib.win-amd64-3.8\\pandas\\tests\\series\\indexing\n",
            "  copying pandas\\tests\\series\\indexing\\test_boolean.py -> build\\lib.win-amd64-3.8\\pandas\\tests\\series\\indexing\n",
            "  copying pandas\\tests\\series\\indexing\\test_callable.py -> build\\lib.win-amd64-3.8\\pandas\\tests\\series\\indexing\n",
            "  copying pandas\\tests\\series\\indexing\\test_datetime.py -> build\\lib.win-amd64-3.8\\pandas\\tests\\series\\indexing\n",
            "  copying pandas\\tests\\series\\indexing\\test_iloc.py -> build\\lib.win-amd64-3.8\\pandas\\tests\\series\\indexing\n",
            "  copying pandas\\tests\\series\\indexing\\test_indexing.py -> build\\lib.win-amd64-3.8\\pandas\\tests\\series\\indexing\n",
            "  copying pandas\\tests\\series\\indexing\\test_loc.py -> build\\lib.win-amd64-3.8\\pandas\\tests\\series\\indexing\n",
            "  copying pandas\\tests\\series\\indexing\\test_numeric.py -> build\\lib.win-amd64-3.8\\pandas\\tests\\series\\indexing\n",
            "  copying pandas\\tests\\series\\indexing\\__init__.py -> build\\lib.win-amd64-3.8\\pandas\\tests\\series\\indexing\n",
            "  creating build\\lib.win-amd64-3.8\\pandas\\tests\\sparse\\frame\n",
            "  copying pandas\\tests\\sparse\\frame\\conftest.py -> build\\lib.win-amd64-3.8\\pandas\\tests\\sparse\\frame\n",
            "  copying pandas\\tests\\sparse\\frame\\test_analytics.py -> build\\lib.win-amd64-3.8\\pandas\\tests\\sparse\\frame\n",
            "  copying pandas\\tests\\sparse\\frame\\test_apply.py -> build\\lib.win-amd64-3.8\\pandas\\tests\\sparse\\frame\n",
            "  copying pandas\\tests\\sparse\\frame\\test_frame.py -> build\\lib.win-amd64-3.8\\pandas\\tests\\sparse\\frame\n",
            "  copying pandas\\tests\\sparse\\frame\\test_indexing.py -> build\\lib.win-amd64-3.8\\pandas\\tests\\sparse\\frame\n",
            "  copying pandas\\tests\\sparse\\frame\\test_to_csv.py -> build\\lib.win-amd64-3.8\\pandas\\tests\\sparse\\frame\n",
            "  copying pandas\\tests\\sparse\\frame\\test_to_from_scipy.py -> build\\lib.win-amd64-3.8\\pandas\\tests\\sparse\\frame\n",
            "  copying pandas\\tests\\sparse\\frame\\__init__.py -> build\\lib.win-amd64-3.8\\pandas\\tests\\sparse\\frame\n",
            "  creating build\\lib.win-amd64-3.8\\pandas\\tests\\sparse\\series\n",
            "  copying pandas\\tests\\sparse\\series\\test_indexing.py -> build\\lib.win-amd64-3.8\\pandas\\tests\\sparse\\series\n",
            "  copying pandas\\tests\\sparse\\series\\test_series.py -> build\\lib.win-amd64-3.8\\pandas\\tests\\sparse\\series\n",
            "  copying pandas\\tests\\sparse\\series\\__init__.py -> build\\lib.win-amd64-3.8\\pandas\\tests\\sparse\\series\n",
            "  creating build\\lib.win-amd64-3.8\\pandas\\tests\\tseries\\offsets\n",
            "  copying pandas\\tests\\tseries\\offsets\\common.py -> build\\lib.win-amd64-3.8\\pandas\\tests\\tseries\\offsets\n",
            "  copying pandas\\tests\\tseries\\offsets\\conftest.py -> build\\lib.win-amd64-3.8\\pandas\\tests\\tseries\\offsets\n",
            "  copying pandas\\tests\\tseries\\offsets\\test_fiscal.py -> build\\lib.win-amd64-3.8\\pandas\\tests\\tseries\\offsets\n",
            "  copying pandas\\tests\\tseries\\offsets\\test_offsets.py -> build\\lib.win-amd64-3.8\\pandas\\tests\\tseries\\offsets\n",
            "  copying pandas\\tests\\tseries\\offsets\\test_offsets_properties.py -> build\\lib.win-amd64-3.8\\pandas\\tests\\tseries\\offsets\n",
            "  copying pandas\\tests\\tseries\\offsets\\test_ticks.py -> build\\lib.win-amd64-3.8\\pandas\\tests\\tseries\\offsets\n",
            "  copying pandas\\tests\\tseries\\offsets\\test_yqm_offsets.py -> build\\lib.win-amd64-3.8\\pandas\\tests\\tseries\\offsets\n",
            "  copying pandas\\tests\\tseries\\offsets\\__init__.py -> build\\lib.win-amd64-3.8\\pandas\\tests\\tseries\\offsets\n",
            "  creating build\\lib.win-amd64-3.8\\pandas\\_libs\\tslibs\n",
            "  copying pandas\\_libs\\tslibs\\__init__.py -> build\\lib.win-amd64-3.8\\pandas\\_libs\\tslibs\n",
            "  creating build\\lib.win-amd64-3.8\\pandas\\io\\formats\\templates\n",
            "  copying pandas\\io\\formats\\templates\\html.tpl -> build\\lib.win-amd64-3.8\\pandas\\io\\formats\\templates\n",
            "  UPDATING build\\lib.win-amd64-3.8\\pandas/_version.py\n",
            "  set build\\lib.win-amd64-3.8\\pandas/_version.py to '0.24.2'\n",
            "  running build_ext\n",
            "  building 'pandas._libs.algos' extension\n",
            "  error: Microsoft Visual C++ 14.0 or greater is required. Get it with \"Microsoft C++ Build Tools\": https://visualstudio.microsoft.com/visual-cpp-build-tools/\n",
            "  ----------------------------------------\n",
            "  ERROR: Failed building wheel for pandas\n",
            "ERROR: Could not install packages due to an OSError: [WinError 5] Access is denied: 'C:\\\\ProgramData\\\\Anaconda3\\\\Lib\\\\site-packages\\\\six.py'\n",
            "Consider using the `--user` option or check the permissions.\n",
            "\n"
          ]
        }
      ],
      "source": [
        "pip install google.colab"
      ]
    },
    {
      "cell_type": "code",
      "execution_count": null,
      "metadata": {},
      "outputs": [
        {
          "ename": "",
          "evalue": "",
          "output_type": "error",
          "traceback": [
            "\u001b[1;31mThe kernel failed to start due to the missing module ''resource''. Consider installing this module. \n",
            "View Jupyter <a href='command:jupyter.viewOutput'>log</a> for further details.\n",
            "<a href='https://aka.ms/kernelFailuresMissingModule'>Learn more</a>"
          ]
        }
      ],
      "source": [
        "import resource"
      ]
    },
    {
      "cell_type": "code",
      "execution_count": 2,
      "metadata": {
        "colab": {
          "base_uri": "https://localhost:8080/"
        },
        "id": "dYd1aqA5BzCE",
        "outputId": "c4a4648e-8e49-4e6b-c713-b392011da3d2"
      },
      "outputs": [
        {
          "ename": "ModuleNotFoundError",
          "evalue": "No module named 'google.colab'",
          "output_type": "error",
          "traceback": [
            "\u001b[1;31m---------------------------------------------------------------------------\u001b[0m",
            "\u001b[1;31mModuleNotFoundError\u001b[0m                       Traceback (most recent call last)",
            "\u001b[1;32m<ipython-input-2-d5df0069828e>\u001b[0m in \u001b[0;36m<module>\u001b[1;34m\u001b[0m\n\u001b[1;32m----> 1\u001b[1;33m \u001b[1;32mfrom\u001b[0m \u001b[0mgoogle\u001b[0m\u001b[1;33m.\u001b[0m\u001b[0mcolab\u001b[0m \u001b[1;32mimport\u001b[0m \u001b[0mdrive\u001b[0m\u001b[1;33m\u001b[0m\u001b[1;33m\u001b[0m\u001b[0m\n\u001b[0m\u001b[0;32m      2\u001b[0m \u001b[0mdrive\u001b[0m\u001b[1;33m.\u001b[0m\u001b[0mmount\u001b[0m\u001b[1;33m(\u001b[0m\u001b[1;34m'/content/drive'\u001b[0m\u001b[1;33m)\u001b[0m\u001b[1;33m\u001b[0m\u001b[1;33m\u001b[0m\u001b[0m\n",
            "\u001b[1;31mModuleNotFoundError\u001b[0m: No module named 'google.colab'"
          ]
        }
      ],
      "source": [
        "from google.colab import drive\n",
        "drive.mount('/content/drive')"
      ]
    },
    {
      "cell_type": "code",
<<<<<<< HEAD
      "execution_count": null,
      "metadata": {},
      "outputs": [],
      "source": []
    },
    {
      "cell_type": "code",
      "execution_count": 4,
=======
      "execution_count": 1,
>>>>>>> c33365bd7136d5e69a604bd3c6da1ee534444764
      "metadata": {
        "id": "9hqUvHOAB34V"
      },
      "outputs": [
        {
          "ename": "FileNotFoundError",
          "evalue": "[Errno 2] No such file or directory: 'test-30.csv'",
          "output_type": "error",
          "traceback": [
            "\u001b[1;31m---------------------------------------------------------------------------\u001b[0m",
            "\u001b[1;31mFileNotFoundError\u001b[0m                         Traceback (most recent call last)",
            "\u001b[1;32mC:\\Users\\KISHOR~1\\AppData\\Local\\Temp/ipykernel_1736/510231340.py\u001b[0m in \u001b[0;36m<module>\u001b[1;34m\u001b[0m\n\u001b[0;32m      3\u001b[0m \u001b[1;31m#data = pd.read_csv('AIML Dataset.csv')\u001b[0m\u001b[1;33m\u001b[0m\u001b[1;33m\u001b[0m\u001b[1;33m\u001b[0m\u001b[0m\n\u001b[0;32m      4\u001b[0m \u001b[1;31m#data = pd.read_csv('/Users/cosmos/Documents/AIML Dataset.csv')\u001b[0m\u001b[1;33m\u001b[0m\u001b[1;33m\u001b[0m\u001b[1;33m\u001b[0m\u001b[0m\n\u001b[1;32m----> 5\u001b[1;33m \u001b[0mdata\u001b[0m \u001b[1;33m=\u001b[0m \u001b[0mpd\u001b[0m\u001b[1;33m.\u001b[0m\u001b[0mread_csv\u001b[0m\u001b[1;33m(\u001b[0m\u001b[1;34m'test-30.csv'\u001b[0m\u001b[1;33m)\u001b[0m\u001b[1;33m\u001b[0m\u001b[1;33m\u001b[0m\u001b[0m\n\u001b[0m",
            "\u001b[1;32m~\\anaconda3\\envs\\notebook\\lib\\site-packages\\pandas\\util\\_decorators.py\u001b[0m in \u001b[0;36mwrapper\u001b[1;34m(*args, **kwargs)\u001b[0m\n\u001b[0;32m    309\u001b[0m                     \u001b[0mstacklevel\u001b[0m\u001b[1;33m=\u001b[0m\u001b[0mstacklevel\u001b[0m\u001b[1;33m,\u001b[0m\u001b[1;33m\u001b[0m\u001b[1;33m\u001b[0m\u001b[0m\n\u001b[0;32m    310\u001b[0m                 )\n\u001b[1;32m--> 311\u001b[1;33m             \u001b[1;32mreturn\u001b[0m \u001b[0mfunc\u001b[0m\u001b[1;33m(\u001b[0m\u001b[1;33m*\u001b[0m\u001b[0margs\u001b[0m\u001b[1;33m,\u001b[0m \u001b[1;33m**\u001b[0m\u001b[0mkwargs\u001b[0m\u001b[1;33m)\u001b[0m\u001b[1;33m\u001b[0m\u001b[1;33m\u001b[0m\u001b[0m\n\u001b[0m\u001b[0;32m    312\u001b[0m \u001b[1;33m\u001b[0m\u001b[0m\n\u001b[0;32m    313\u001b[0m         \u001b[1;32mreturn\u001b[0m \u001b[0mwrapper\u001b[0m\u001b[1;33m\u001b[0m\u001b[1;33m\u001b[0m\u001b[0m\n",
            "\u001b[1;32m~\\anaconda3\\envs\\notebook\\lib\\site-packages\\pandas\\io\\parsers\\readers.py\u001b[0m in \u001b[0;36mread_csv\u001b[1;34m(filepath_or_buffer, sep, delimiter, header, names, index_col, usecols, squeeze, prefix, mangle_dupe_cols, dtype, engine, converters, true_values, false_values, skipinitialspace, skiprows, skipfooter, nrows, na_values, keep_default_na, na_filter, verbose, skip_blank_lines, parse_dates, infer_datetime_format, keep_date_col, date_parser, dayfirst, cache_dates, iterator, chunksize, compression, thousands, decimal, lineterminator, quotechar, quoting, doublequote, escapechar, comment, encoding, encoding_errors, dialect, error_bad_lines, warn_bad_lines, on_bad_lines, delim_whitespace, low_memory, memory_map, float_precision, storage_options)\u001b[0m\n\u001b[0;32m    584\u001b[0m     \u001b[0mkwds\u001b[0m\u001b[1;33m.\u001b[0m\u001b[0mupdate\u001b[0m\u001b[1;33m(\u001b[0m\u001b[0mkwds_defaults\u001b[0m\u001b[1;33m)\u001b[0m\u001b[1;33m\u001b[0m\u001b[1;33m\u001b[0m\u001b[0m\n\u001b[0;32m    585\u001b[0m \u001b[1;33m\u001b[0m\u001b[0m\n\u001b[1;32m--> 586\u001b[1;33m     \u001b[1;32mreturn\u001b[0m \u001b[0m_read\u001b[0m\u001b[1;33m(\u001b[0m\u001b[0mfilepath_or_buffer\u001b[0m\u001b[1;33m,\u001b[0m \u001b[0mkwds\u001b[0m\u001b[1;33m)\u001b[0m\u001b[1;33m\u001b[0m\u001b[1;33m\u001b[0m\u001b[0m\n\u001b[0m\u001b[0;32m    587\u001b[0m \u001b[1;33m\u001b[0m\u001b[0m\n\u001b[0;32m    588\u001b[0m \u001b[1;33m\u001b[0m\u001b[0m\n",
            "\u001b[1;32m~\\anaconda3\\envs\\notebook\\lib\\site-packages\\pandas\\io\\parsers\\readers.py\u001b[0m in \u001b[0;36m_read\u001b[1;34m(filepath_or_buffer, kwds)\u001b[0m\n\u001b[0;32m    480\u001b[0m \u001b[1;33m\u001b[0m\u001b[0m\n\u001b[0;32m    481\u001b[0m     \u001b[1;31m# Create the parser.\u001b[0m\u001b[1;33m\u001b[0m\u001b[1;33m\u001b[0m\u001b[1;33m\u001b[0m\u001b[0m\n\u001b[1;32m--> 482\u001b[1;33m     \u001b[0mparser\u001b[0m \u001b[1;33m=\u001b[0m \u001b[0mTextFileReader\u001b[0m\u001b[1;33m(\u001b[0m\u001b[0mfilepath_or_buffer\u001b[0m\u001b[1;33m,\u001b[0m \u001b[1;33m**\u001b[0m\u001b[0mkwds\u001b[0m\u001b[1;33m)\u001b[0m\u001b[1;33m\u001b[0m\u001b[1;33m\u001b[0m\u001b[0m\n\u001b[0m\u001b[0;32m    483\u001b[0m \u001b[1;33m\u001b[0m\u001b[0m\n\u001b[0;32m    484\u001b[0m     \u001b[1;32mif\u001b[0m \u001b[0mchunksize\u001b[0m \u001b[1;32mor\u001b[0m \u001b[0miterator\u001b[0m\u001b[1;33m:\u001b[0m\u001b[1;33m\u001b[0m\u001b[1;33m\u001b[0m\u001b[0m\n",
            "\u001b[1;32m~\\anaconda3\\envs\\notebook\\lib\\site-packages\\pandas\\io\\parsers\\readers.py\u001b[0m in \u001b[0;36m__init__\u001b[1;34m(self, f, engine, **kwds)\u001b[0m\n\u001b[0;32m    809\u001b[0m             \u001b[0mself\u001b[0m\u001b[1;33m.\u001b[0m\u001b[0moptions\u001b[0m\u001b[1;33m[\u001b[0m\u001b[1;34m\"has_index_names\"\u001b[0m\u001b[1;33m]\u001b[0m \u001b[1;33m=\u001b[0m \u001b[0mkwds\u001b[0m\u001b[1;33m[\u001b[0m\u001b[1;34m\"has_index_names\"\u001b[0m\u001b[1;33m]\u001b[0m\u001b[1;33m\u001b[0m\u001b[1;33m\u001b[0m\u001b[0m\n\u001b[0;32m    810\u001b[0m \u001b[1;33m\u001b[0m\u001b[0m\n\u001b[1;32m--> 811\u001b[1;33m         \u001b[0mself\u001b[0m\u001b[1;33m.\u001b[0m\u001b[0m_engine\u001b[0m \u001b[1;33m=\u001b[0m \u001b[0mself\u001b[0m\u001b[1;33m.\u001b[0m\u001b[0m_make_engine\u001b[0m\u001b[1;33m(\u001b[0m\u001b[0mself\u001b[0m\u001b[1;33m.\u001b[0m\u001b[0mengine\u001b[0m\u001b[1;33m)\u001b[0m\u001b[1;33m\u001b[0m\u001b[1;33m\u001b[0m\u001b[0m\n\u001b[0m\u001b[0;32m    812\u001b[0m \u001b[1;33m\u001b[0m\u001b[0m\n\u001b[0;32m    813\u001b[0m     \u001b[1;32mdef\u001b[0m \u001b[0mclose\u001b[0m\u001b[1;33m(\u001b[0m\u001b[0mself\u001b[0m\u001b[1;33m)\u001b[0m\u001b[1;33m:\u001b[0m\u001b[1;33m\u001b[0m\u001b[1;33m\u001b[0m\u001b[0m\n",
            "\u001b[1;32m~\\anaconda3\\envs\\notebook\\lib\\site-packages\\pandas\\io\\parsers\\readers.py\u001b[0m in \u001b[0;36m_make_engine\u001b[1;34m(self, engine)\u001b[0m\n\u001b[0;32m   1038\u001b[0m             )\n\u001b[0;32m   1039\u001b[0m         \u001b[1;31m# error: Too many arguments for \"ParserBase\"\u001b[0m\u001b[1;33m\u001b[0m\u001b[1;33m\u001b[0m\u001b[1;33m\u001b[0m\u001b[0m\n\u001b[1;32m-> 1040\u001b[1;33m         \u001b[1;32mreturn\u001b[0m \u001b[0mmapping\u001b[0m\u001b[1;33m[\u001b[0m\u001b[0mengine\u001b[0m\u001b[1;33m]\u001b[0m\u001b[1;33m(\u001b[0m\u001b[0mself\u001b[0m\u001b[1;33m.\u001b[0m\u001b[0mf\u001b[0m\u001b[1;33m,\u001b[0m \u001b[1;33m**\u001b[0m\u001b[0mself\u001b[0m\u001b[1;33m.\u001b[0m\u001b[0moptions\u001b[0m\u001b[1;33m)\u001b[0m  \u001b[1;31m# type: ignore[call-arg]\u001b[0m\u001b[1;33m\u001b[0m\u001b[1;33m\u001b[0m\u001b[0m\n\u001b[0m\u001b[0;32m   1041\u001b[0m \u001b[1;33m\u001b[0m\u001b[0m\n\u001b[0;32m   1042\u001b[0m     \u001b[1;32mdef\u001b[0m \u001b[0m_failover_to_python\u001b[0m\u001b[1;33m(\u001b[0m\u001b[0mself\u001b[0m\u001b[1;33m)\u001b[0m\u001b[1;33m:\u001b[0m\u001b[1;33m\u001b[0m\u001b[1;33m\u001b[0m\u001b[0m\n",
            "\u001b[1;32m~\\anaconda3\\envs\\notebook\\lib\\site-packages\\pandas\\io\\parsers\\c_parser_wrapper.py\u001b[0m in \u001b[0;36m__init__\u001b[1;34m(self, src, **kwds)\u001b[0m\n\u001b[0;32m     49\u001b[0m \u001b[1;33m\u001b[0m\u001b[0m\n\u001b[0;32m     50\u001b[0m         \u001b[1;31m# open handles\u001b[0m\u001b[1;33m\u001b[0m\u001b[1;33m\u001b[0m\u001b[1;33m\u001b[0m\u001b[0m\n\u001b[1;32m---> 51\u001b[1;33m         \u001b[0mself\u001b[0m\u001b[1;33m.\u001b[0m\u001b[0m_open_handles\u001b[0m\u001b[1;33m(\u001b[0m\u001b[0msrc\u001b[0m\u001b[1;33m,\u001b[0m \u001b[0mkwds\u001b[0m\u001b[1;33m)\u001b[0m\u001b[1;33m\u001b[0m\u001b[1;33m\u001b[0m\u001b[0m\n\u001b[0m\u001b[0;32m     52\u001b[0m         \u001b[1;32massert\u001b[0m \u001b[0mself\u001b[0m\u001b[1;33m.\u001b[0m\u001b[0mhandles\u001b[0m \u001b[1;32mis\u001b[0m \u001b[1;32mnot\u001b[0m \u001b[1;32mNone\u001b[0m\u001b[1;33m\u001b[0m\u001b[1;33m\u001b[0m\u001b[0m\n\u001b[0;32m     53\u001b[0m \u001b[1;33m\u001b[0m\u001b[0m\n",
            "\u001b[1;32m~\\anaconda3\\envs\\notebook\\lib\\site-packages\\pandas\\io\\parsers\\base_parser.py\u001b[0m in \u001b[0;36m_open_handles\u001b[1;34m(self, src, kwds)\u001b[0m\n\u001b[0;32m    227\u001b[0m             \u001b[0mmemory_map\u001b[0m\u001b[1;33m=\u001b[0m\u001b[0mkwds\u001b[0m\u001b[1;33m.\u001b[0m\u001b[0mget\u001b[0m\u001b[1;33m(\u001b[0m\u001b[1;34m\"memory_map\"\u001b[0m\u001b[1;33m,\u001b[0m \u001b[1;32mFalse\u001b[0m\u001b[1;33m)\u001b[0m\u001b[1;33m,\u001b[0m\u001b[1;33m\u001b[0m\u001b[1;33m\u001b[0m\u001b[0m\n\u001b[0;32m    228\u001b[0m             \u001b[0mstorage_options\u001b[0m\u001b[1;33m=\u001b[0m\u001b[0mkwds\u001b[0m\u001b[1;33m.\u001b[0m\u001b[0mget\u001b[0m\u001b[1;33m(\u001b[0m\u001b[1;34m\"storage_options\"\u001b[0m\u001b[1;33m,\u001b[0m \u001b[1;32mNone\u001b[0m\u001b[1;33m)\u001b[0m\u001b[1;33m,\u001b[0m\u001b[1;33m\u001b[0m\u001b[1;33m\u001b[0m\u001b[0m\n\u001b[1;32m--> 229\u001b[1;33m             \u001b[0merrors\u001b[0m\u001b[1;33m=\u001b[0m\u001b[0mkwds\u001b[0m\u001b[1;33m.\u001b[0m\u001b[0mget\u001b[0m\u001b[1;33m(\u001b[0m\u001b[1;34m\"encoding_errors\"\u001b[0m\u001b[1;33m,\u001b[0m \u001b[1;34m\"strict\"\u001b[0m\u001b[1;33m)\u001b[0m\u001b[1;33m,\u001b[0m\u001b[1;33m\u001b[0m\u001b[1;33m\u001b[0m\u001b[0m\n\u001b[0m\u001b[0;32m    230\u001b[0m         )\n\u001b[0;32m    231\u001b[0m \u001b[1;33m\u001b[0m\u001b[0m\n",
            "\u001b[1;32m~\\anaconda3\\envs\\notebook\\lib\\site-packages\\pandas\\io\\common.py\u001b[0m in \u001b[0;36mget_handle\u001b[1;34m(path_or_buf, mode, encoding, compression, memory_map, is_text, errors, storage_options)\u001b[0m\n\u001b[0;32m    705\u001b[0m                 \u001b[0mencoding\u001b[0m\u001b[1;33m=\u001b[0m\u001b[0mioargs\u001b[0m\u001b[1;33m.\u001b[0m\u001b[0mencoding\u001b[0m\u001b[1;33m,\u001b[0m\u001b[1;33m\u001b[0m\u001b[1;33m\u001b[0m\u001b[0m\n\u001b[0;32m    706\u001b[0m                 \u001b[0merrors\u001b[0m\u001b[1;33m=\u001b[0m\u001b[0merrors\u001b[0m\u001b[1;33m,\u001b[0m\u001b[1;33m\u001b[0m\u001b[1;33m\u001b[0m\u001b[0m\n\u001b[1;32m--> 707\u001b[1;33m                 \u001b[0mnewline\u001b[0m\u001b[1;33m=\u001b[0m\u001b[1;34m\"\"\u001b[0m\u001b[1;33m,\u001b[0m\u001b[1;33m\u001b[0m\u001b[1;33m\u001b[0m\u001b[0m\n\u001b[0m\u001b[0;32m    708\u001b[0m             )\n\u001b[0;32m    709\u001b[0m         \u001b[1;32melse\u001b[0m\u001b[1;33m:\u001b[0m\u001b[1;33m\u001b[0m\u001b[1;33m\u001b[0m\u001b[0m\n",
            "\u001b[1;31mFileNotFoundError\u001b[0m: [Errno 2] No such file or directory: 'test-30.csv'"
          ]
        }
      ],
      "source": [
        "import pandas as pd\n",
        "\n",
<<<<<<< HEAD
        "#data = pd.read_csv('AIML Dataset.csv')\n",
        "#data = pd.read_csv('/Users/cosmos/Documents/AIML Dataset.csv')\n",
        "data = pd.read_csv('test-30.csv')"
=======
        "#data = pd.read_csv('/content/drive/MyDrive/Colab Notebooks/AIML Dataset.csv')\n",
        "data = pd.read_csv('/Users/cosmos/Documents/AIML Dataset.csv')\n",
        "#data = pd.read_csv('/Users/cosmos/Documents/test-30.csv')"
>>>>>>> c33365bd7136d5e69a604bd3c6da1ee534444764
      ]
    },
    {
      "cell_type": "code",
<<<<<<< HEAD
      "execution_count": null,
=======
      "execution_count": 2,
>>>>>>> c33365bd7136d5e69a604bd3c6da1ee534444764
      "metadata": {},
      "outputs": [
        {
          "ename": "",
          "evalue": "",
          "output_type": "error",
          "traceback": [
            "\u001b[1;31mThe kernel failed to start due to the missing module ''resource''. Consider installing this module. \n",
            "View Jupyter <a href='command:jupyter.viewOutput'>log</a> for further details.\n",
            "<a href='https://aka.ms/kernelFailuresMissingModule'>Learn more</a>"
          ]
        }
      ],
      "source": [
        "part_75 = data.sample(frac = 0.1)\n",
        "part_75.to_csv('db.csv')"
      ]
    },
    {
      "cell_type": "code",
      "execution_count": 25,
      "metadata": {},
      "outputs": [
        {
          "data": {
            "text/plain": [
              "array([0, 1])"
            ]
          },
          "execution_count": 25,
          "metadata": {},
          "output_type": "execute_result"
        }
      ],
      "source": [
        "data['isFlaggedFraud'].unique()"
      ]
    },
    {
      "cell_type": "code",
      "execution_count": 2,
      "metadata": {},
      "outputs": [
        {
          "data": {
            "text/html": [
              "<div>\n",
              "<style scoped>\n",
              "    .dataframe tbody tr th:only-of-type {\n",
              "        vertical-align: middle;\n",
              "    }\n",
              "\n",
              "    .dataframe tbody tr th {\n",
              "        vertical-align: top;\n",
              "    }\n",
              "\n",
              "    .dataframe thead th {\n",
              "        text-align: right;\n",
              "    }\n",
              "</style>\n",
              "<table border=\"1\" class=\"dataframe\">\n",
              "  <thead>\n",
              "    <tr style=\"text-align: right;\">\n",
              "      <th></th>\n",
              "      <th>step</th>\n",
              "      <th>type</th>\n",
              "      <th>amount</th>\n",
              "      <th>nameOrig</th>\n",
              "      <th>oldbalanceOrg</th>\n",
              "      <th>newbalanceOrig</th>\n",
              "      <th>nameDest</th>\n",
              "      <th>oldbalanceDest</th>\n",
              "      <th>newbalanceDest</th>\n",
              "      <th>isFraud</th>\n",
              "      <th>isFlaggedFraud</th>\n",
              "    </tr>\n",
              "  </thead>\n",
              "  <tbody>\n",
              "    <tr>\n",
              "      <th>0</th>\n",
              "      <td>1</td>\n",
              "      <td>PAYMENT</td>\n",
              "      <td>9839.64</td>\n",
              "      <td>C1231006815</td>\n",
              "      <td>170136.0</td>\n",
              "      <td>160296.36</td>\n",
              "      <td>M1979787155</td>\n",
              "      <td>0.0</td>\n",
              "      <td>0.0</td>\n",
              "      <td>0</td>\n",
              "      <td>0</td>\n",
              "    </tr>\n",
              "    <tr>\n",
              "      <th>1</th>\n",
              "      <td>1</td>\n",
              "      <td>PAYMENT</td>\n",
              "      <td>1864.28</td>\n",
              "      <td>C1666544295</td>\n",
              "      <td>21249.0</td>\n",
              "      <td>19384.72</td>\n",
              "      <td>M2044282225</td>\n",
              "      <td>0.0</td>\n",
              "      <td>0.0</td>\n",
              "      <td>0</td>\n",
              "      <td>0</td>\n",
              "    </tr>\n",
              "    <tr>\n",
              "      <th>2</th>\n",
              "      <td>1</td>\n",
              "      <td>TRANSFER</td>\n",
              "      <td>181.00</td>\n",
              "      <td>C1305486145</td>\n",
              "      <td>181.0</td>\n",
              "      <td>0.00</td>\n",
              "      <td>C553264065</td>\n",
              "      <td>0.0</td>\n",
              "      <td>0.0</td>\n",
              "      <td>1</td>\n",
              "      <td>0</td>\n",
              "    </tr>\n",
              "  </tbody>\n",
              "</table>\n",
              "</div>"
            ],
            "text/plain": [
              "   step      type   amount     nameOrig  oldbalanceOrg  newbalanceOrig  \\\n",
              "0     1   PAYMENT  9839.64  C1231006815       170136.0       160296.36   \n",
              "1     1   PAYMENT  1864.28  C1666544295        21249.0        19384.72   \n",
              "2     1  TRANSFER   181.00  C1305486145          181.0            0.00   \n",
              "\n",
              "      nameDest  oldbalanceDest  newbalanceDest  isFraud  isFlaggedFraud  \n",
              "0  M1979787155             0.0             0.0        0               0  \n",
              "1  M2044282225             0.0             0.0        0               0  \n",
              "2   C553264065             0.0             0.0        1               0  "
            ]
          },
          "execution_count": 2,
          "metadata": {},
          "output_type": "execute_result"
        }
      ],
      "source": [
        "data.head(3)"
      ]
    },
    {
      "cell_type": "markdown",
      "metadata": {},
      "source": [
        "DATA PRE PROCESSING"
      ]
    },
    {
      "cell_type": "code",
      "execution_count": 3,
      "metadata": {},
      "outputs": [],
      "source": [
        "from sklearn.preprocessing import RobustScaler\n",
        "\n",
        "scaler = RobustScaler()\n",
        "\n",
        "data['scaled_step'] = scaler.fit_transform(data['step'].values.reshape(-1,1))"
      ]
    },
    {
      "cell_type": "code",
      "execution_count": 4,
      "metadata": {},
      "outputs": [
        {
          "data": {
            "text/html": [
              "<div>\n",
              "<style scoped>\n",
              "    .dataframe tbody tr th:only-of-type {\n",
              "        vertical-align: middle;\n",
              "    }\n",
              "\n",
              "    .dataframe tbody tr th {\n",
              "        vertical-align: top;\n",
              "    }\n",
              "\n",
              "    .dataframe thead th {\n",
              "        text-align: right;\n",
              "    }\n",
              "</style>\n",
              "<table border=\"1\" class=\"dataframe\">\n",
              "  <thead>\n",
              "    <tr style=\"text-align: right;\">\n",
              "      <th></th>\n",
              "      <th>step</th>\n",
              "      <th>type</th>\n",
              "      <th>amount</th>\n",
              "      <th>nameOrig</th>\n",
              "      <th>oldbalanceOrg</th>\n",
              "      <th>newbalanceOrig</th>\n",
              "      <th>nameDest</th>\n",
              "      <th>oldbalanceDest</th>\n",
              "      <th>newbalanceDest</th>\n",
              "      <th>isFraud</th>\n",
              "      <th>isFlaggedFraud</th>\n",
              "      <th>scaled_step</th>\n",
              "    </tr>\n",
              "  </thead>\n",
              "  <tbody>\n",
              "    <tr>\n",
              "      <th>0</th>\n",
              "      <td>1</td>\n",
              "      <td>PAYMENT</td>\n",
              "      <td>9839.64</td>\n",
              "      <td>C1231006815</td>\n",
              "      <td>170136.0</td>\n",
              "      <td>160296.36</td>\n",
              "      <td>M1979787155</td>\n",
              "      <td>0.0</td>\n",
              "      <td>0.0</td>\n",
              "      <td>0</td>\n",
              "      <td>0</td>\n",
              "      <td>-1.329609</td>\n",
              "    </tr>\n",
              "    <tr>\n",
              "      <th>1</th>\n",
              "      <td>1</td>\n",
              "      <td>PAYMENT</td>\n",
              "      <td>1864.28</td>\n",
              "      <td>C1666544295</td>\n",
              "      <td>21249.0</td>\n",
              "      <td>19384.72</td>\n",
              "      <td>M2044282225</td>\n",
              "      <td>0.0</td>\n",
              "      <td>0.0</td>\n",
              "      <td>0</td>\n",
              "      <td>0</td>\n",
              "      <td>-1.329609</td>\n",
              "    </tr>\n",
              "    <tr>\n",
              "      <th>2</th>\n",
              "      <td>1</td>\n",
              "      <td>TRANSFER</td>\n",
              "      <td>181.00</td>\n",
              "      <td>C1305486145</td>\n",
              "      <td>181.0</td>\n",
              "      <td>0.00</td>\n",
              "      <td>C553264065</td>\n",
              "      <td>0.0</td>\n",
              "      <td>0.0</td>\n",
              "      <td>1</td>\n",
              "      <td>0</td>\n",
              "      <td>-1.329609</td>\n",
              "    </tr>\n",
              "    <tr>\n",
              "      <th>3</th>\n",
              "      <td>1</td>\n",
              "      <td>CASH_OUT</td>\n",
              "      <td>181.00</td>\n",
              "      <td>C840083671</td>\n",
              "      <td>181.0</td>\n",
              "      <td>0.00</td>\n",
              "      <td>C38997010</td>\n",
              "      <td>21182.0</td>\n",
              "      <td>0.0</td>\n",
              "      <td>1</td>\n",
              "      <td>0</td>\n",
              "      <td>-1.329609</td>\n",
              "    </tr>\n",
              "    <tr>\n",
              "      <th>4</th>\n",
              "      <td>1</td>\n",
              "      <td>PAYMENT</td>\n",
              "      <td>11668.14</td>\n",
              "      <td>C2048537720</td>\n",
              "      <td>41554.0</td>\n",
              "      <td>29885.86</td>\n",
              "      <td>M1230701703</td>\n",
              "      <td>0.0</td>\n",
              "      <td>0.0</td>\n",
              "      <td>0</td>\n",
              "      <td>0</td>\n",
              "      <td>-1.329609</td>\n",
              "    </tr>\n",
              "  </tbody>\n",
              "</table>\n",
              "</div>"
            ],
            "text/plain": [
              "   step      type    amount     nameOrig  oldbalanceOrg  newbalanceOrig  \\\n",
              "0     1   PAYMENT   9839.64  C1231006815       170136.0       160296.36   \n",
              "1     1   PAYMENT   1864.28  C1666544295        21249.0        19384.72   \n",
              "2     1  TRANSFER    181.00  C1305486145          181.0            0.00   \n",
              "3     1  CASH_OUT    181.00   C840083671          181.0            0.00   \n",
              "4     1   PAYMENT  11668.14  C2048537720        41554.0        29885.86   \n",
              "\n",
              "      nameDest  oldbalanceDest  newbalanceDest  isFraud  isFlaggedFraud  \\\n",
              "0  M1979787155             0.0             0.0        0               0   \n",
              "1  M2044282225             0.0             0.0        0               0   \n",
              "2   C553264065             0.0             0.0        1               0   \n",
              "3    C38997010         21182.0             0.0        1               0   \n",
              "4  M1230701703             0.0             0.0        0               0   \n",
              "\n",
              "   scaled_step  \n",
              "0    -1.329609  \n",
              "1    -1.329609  \n",
              "2    -1.329609  \n",
              "3    -1.329609  \n",
              "4    -1.329609  "
            ]
          },
          "execution_count": 4,
          "metadata": {},
          "output_type": "execute_result"
        }
      ],
      "source": [
        "data.head()"
      ]
    },
    {
      "cell_type": "code",
      "execution_count": 5,
      "metadata": {},
      "outputs": [],
      "source": [
        "columns =data.columns\n",
        "columns1 = ['scaled_step','amount','oldbalanceOrg', 'newbalanceOrig','oldbalanceDest', 'newbalanceDest']\n"
      ]
    },
    {
      "cell_type": "code",
      "execution_count": 6,
      "metadata": {
        "colab": {
          "base_uri": "https://localhost:8080/",
          "height": 34
        },
        "id": "weY6-IVwCCBo",
        "outputId": "d201161c-32d1-4e60-f880-36849f2bb5f6"
      },
      "outputs": [
        {
          "data": {
            "text/plain": [
              "<Figure size 432x216 with 0 Axes>"
            ]
          },
          "metadata": {},
          "output_type": "display_data"
        }
      ],
      "source": [
        "import os\n",
        "import warnings\n",
        "warnings.filterwarnings('ignore')\n",
        "#Packages related to data importing, manipulation, exploratory data #analysis, data understanding\n",
        "import numpy as np\n",
        "import pandas as pd\n",
        "from pandas import Series, DataFrame\n",
        "from termcolor import colored as cl # text customization\n",
        "#Packages related to data visualizaiton\n",
        "import seaborn as sns\n",
        "import matplotlib.pyplot as plt\n",
        "%matplotlib inline\n",
        "#Setting plot sizes and type of plot\n",
        "plt.rc(\"font\", size=14)\n",
        "plt.rcParams['axes.grid'] = True\n",
        "plt.figure(figsize=(6,3))\n",
        "plt.gray()\n",
        "from matplotlib.backends.backend_pdf import PdfPages\n",
        "from sklearn.model_selection import train_test_split, GridSearchCV\n",
        "from sklearn import metrics\n",
        "from sklearn.impute import MissingIndicator, SimpleImputer\n",
        "from sklearn.preprocessing import PolynomialFeatures, KBinsDiscretizer, FunctionTransformer\n",
        "from sklearn.preprocessing import StandardScaler, MinMaxScaler, MaxAbsScaler\n",
        "from sklearn.preprocessing import LabelEncoder, OneHotEncoder, LabelBinarizer, OrdinalEncoder\n",
        "# import statsmodels.formula.api as smf\n",
        "# import statsmodels.tsa as tsa\n",
        "from sklearn.linear_model import LogisticRegression, LinearRegression, ElasticNet, Lasso, Ridge\n",
        "from sklearn.neighbors import KNeighborsClassifier, KNeighborsRegressor\n",
        "from sklearn.tree import DecisionTreeClassifier, DecisionTreeRegressor, export_graphviz\n",
        "from sklearn.ensemble import BaggingClassifier, BaggingRegressor,RandomForestClassifier,RandomForestRegressor\n",
        "from sklearn.ensemble import GradientBoostingClassifier,GradientBoostingRegressor, AdaBoostClassifier, AdaBoostRegressor\n",
        "from sklearn.svm import LinearSVC, LinearSVR, SVC, SVR\n",
        "#\n",
        "# from xgboost import XGBClassifier\n",
        "from sklearn.metrics import f1_score\n",
        "from sklearn.metrics import accuracy_score\n",
        "from sklearn.metrics import confusion_matrix\n",
        "\n",
        "import numpy as np\n",
        "import pandas as pd\n",
        "import matplotlib.pyplot as plt\n",
        "import xgboost as xgb\n",
        "import matplotlib.pyplot as plt\n",
        "import seaborn as sns\n",
        "sns.set()\n",
        "from sklearn.model_selection import train_test_split\n",
        "from sklearn.metrics import average_precision_score\n",
        "from xgboost.sklearn import XGBClassifier\n",
        "from xgboost import plot_importance"
      ]
    },
    {
      "cell_type": "markdown",
      "metadata": {},
      "source": [
        "CUSTOM PIPELINE"
      ]
    },
    {
      "cell_type": "code",
      "execution_count": 17,
      "metadata": {
        "id": "DFN9-dfJF379"
      },
      "outputs": [],
      "source": [
        "# making a custom transformer\n",
        "\n",
        "from sklearn.base import BaseEstimator, TransformerMixin\n",
        "\n",
        "class CustomTransformer(BaseEstimator, TransformerMixin):\n",
        "    def __init__(self, Columns):\n",
        "        self.Columns=Columns\n",
        "        \n",
        "    def fit(self,X,y=None):\n",
        "        return self\n",
        "    \n",
        "    def transform(self,X):\n",
        "        New_X=X.copy()\n",
        "        New_X=New_X[self.Columns].copy()\n",
        "        return New_X"
      ]
    },
    {
      "cell_type": "code",
      "execution_count": 18,
      "metadata": {
        "id": "3WF5XDDrGFFT"
      },
      "outputs": [],
      "source": [
        "from sklearn.pipeline import Pipeline\n",
        "from sklearn.preprocessing import StandardScaler #standirize values\n",
        "from sklearn.impute import SimpleImputer #fill in missing values\n",
        "\n",
        "#adding parameters\n",
        "pipeline=Pipeline([\n",
        "    ('custom_tr', CustomTransformer(columns1)),\n",
        "    ('std_scaler',StandardScaler())\n",
        "])"
      ]
    },
    {
      "cell_type": "code",
      "execution_count": 9,
      "metadata": {
        "id": "Yuq8R098GGF8"
      },
      "outputs": [],
      "source": [
        "X = pipeline.fit_transform(data)\n",
        "y = data['isFraud'].copy()"
      ]
    },
    {
      "cell_type": "code",
      "execution_count": 10,
      "metadata": {
        "id": "8Y_QNhEMGbUz"
      },
      "outputs": [],
      "source": [
        "from sklearn.model_selection import train_test_split\n",
        "X_train, X_test, y_train, y_test = train_test_split(X,y, test_size=0.2, random_state=2)"
      ]
    },
    {
      "cell_type": "code",
      "execution_count": 21,
      "metadata": {
        "colab": {
          "base_uri": "https://localhost:8080/"
        },
        "id": "ju-lDY9-GrUW",
        "outputId": "43ffa541-3f8a-4272-c004-672bacc7cfd2"
      },
      "outputs": [
        {
          "data": {
            "text/plain": [
              "array([[-0.20654002,  0.0088095 ,  2.36713167,  2.39421532,  0.21872176,\n",
              "         0.11812277],\n",
              "       [-1.43606008, -0.06782964, -0.28871645, -0.29244171, -0.21192516,\n",
              "        -0.19209018],\n",
              "       [ 1.07216085, -0.24739849, -0.28871645, -0.29244171, -0.3238139 ,\n",
              "        -0.33341141],\n",
              "       ...,\n",
              "       [ 0.12367394, -0.13254934, -0.28119825, -0.29244171,  2.45388906,\n",
              "         2.26359423],\n",
              "       [-0.38921157, -0.06521956, -0.25289886, -0.20902024,  0.13709915,\n",
              "         0.05477527],\n",
              "       [-0.53675398, -0.0813115 ,  4.14282798,  4.12955643, -0.25560683,\n",
              "        -0.30589828]])"
            ]
          },
          "execution_count": 21,
          "metadata": {},
          "output_type": "execute_result"
        }
      ],
      "source": [
        "X_train"
      ]
    },
    {
      "cell_type": "code",
      "execution_count": 9,
      "metadata": {
        "colab": {
          "base_uri": "https://localhost:8080/"
        },
        "id": "qN-zm0WFG2SQ",
        "outputId": "fb32aaa1-7484-4d40-9978-9e7ff9255e54"
      },
      "outputs": [
        {
          "data": {
            "text/plain": [
              "0.034242446286376425"
            ]
          },
          "execution_count": 9,
          "metadata": {},
          "output_type": "execute_result"
        }
      ],
      "source": [
        "from sklearn.linear_model import LinearRegression\n",
        "from sklearn.metrics import mean_squared_error\n",
        "\n",
        "model_lr = LinearRegression()\n",
        "model_lr.fit(X_train,y_train)\n",
        "\n",
        "predictions=model_lr.predict(X_test)\n",
        "mse=mean_squared_error(y_test, predictions)\n",
        "rmse=np.sqrt(mse)\n",
        "rmse"
      ]
    },
    {
      "cell_type": "code",
      "execution_count": 10,
      "metadata": {
        "id": "O8ug6-37EL2G"
      },
      "outputs": [],
      "source": [
        "#label encoder\n",
        "from sklearn import preprocessing\n",
        "from sklearn import utils\n",
        "\n",
        "lab_enc = preprocessing.LabelEncoder()\n",
        "encoded =lab_enc.fit_transform(y_train.astype('int'))"
      ]
    },
    {
      "cell_type": "code",
      "execution_count": 26,
      "metadata": {
        "id": "ORKVbBCNHBOX"
      },
      "outputs": [],
      "source": [
        "#trying random forest algo\n",
        "\n",
        "from sklearn.ensemble import RandomForestClassifier\n",
        "from sklearn.model_selection import GridSearchCV\n",
        "\n",
        "\n",
        "forest_reg=RandomForestClassifier()\n",
        "\n",
        "\n",
        "x=forest_reg.fit(X_train,y_train)"
      ]
    },
    {
      "cell_type": "code",
      "execution_count": 27,
      "metadata": {
        "id": "KC3m5aIkIVag"
      },
      "outputs": [
        {
          "name": "stdout",
          "output_type": "stream",
          "text": [
            "Accuracy: 0.9994459833795014\n"
          ]
        }
      ],
      "source": [
        "from sklearn.metrics import classification_report\n",
        "\n",
        "y_pred=x.predict(X_test)\n",
        "print(\"Accuracy:\",metrics.accuracy_score(y_test, y_pred))"
      ]
    },
    {
      "cell_type": "code",
      "execution_count": 28,
      "metadata": {},
      "outputs": [
        {
          "data": {
            "text/plain": [
              "149985     0\n",
              "644664     0\n",
              "423265     0\n",
              "557990     0\n",
              "3953       0\n",
              "          ..\n",
              "651285     0\n",
              "1138227    0\n",
              "240772     0\n",
              "718313     0\n",
              "193275     0\n",
              "Name: isFraud, Length: 254505, dtype: int64"
            ]
          },
          "execution_count": 28,
          "metadata": {},
          "output_type": "execute_result"
        }
      ],
      "source": [
        "y_test"
      ]
    },
    {
      "cell_type": "code",
      "execution_count": 25,
      "metadata": {},
      "outputs": [
        {
          "name": "stdout",
          "output_type": "stream",
          "text": [
            "iter 0 \taccuracy 0.16571407133995342 \test 0.13985461419839773 \tloss 0.0020416630066499267\n",
            "iter 10 \taccuracy 0.32081554872650686 \test 0.30002734101588424 \tloss 0.0005484408056939574\n",
            "iter 20 \taccuracy 0.3376239361878357 \test 0.31737246570290933 \tloss 0.000540402391906225\n",
            "iter 30 \taccuracy 0.3424124980549629 \test 0.3225861305737636 \tloss 0.0005386620167553527\n"
          ]
        }
      ],
      "source": [
        "from sklearn.neural_network import MLPRegressor\n",
        "\n",
        "clf = MLPRegressor(hidden_layer_sizes= (40,40,40), random_state=1, alpha =0.01,max_iter=1, warm_start=True)\n",
        "\n",
        "licz= []\n",
        "accu = []\n",
        "loss =[]\n",
        "test = []\n",
        "\n",
        "for i in range(150):\n",
        "    clf.fit(X_train,y_train)\n",
        "    licz.append(i)\n",
        "    accu.append(clf.score(X_train,y_train))\n",
        "    loss.append(clf.loss_)\n",
        "    test.append(clf.score(X= X_test,y = y_test))\n",
        "    if i%10==0:\n",
        "         print(\"iter\",i,\"\\taccuracy\",clf.score(X_train, y_train),\"\\test\",clf.score(X= X_test,y = y_test),\"\\tloss\",clf.loss_)\n",
        "\n",
        "import matplotlib.pyplot as plt\n",
        "print(clf.score(X= X_test,y = y_test))\n",
        "plt.plot(licz[5:],accu[5:],test[5:])"
      ]
    },
    {
      "cell_type": "markdown",
      "metadata": {},
      "source": [
        "DecisionTreeClassifier"
      ]
    },
    {
      "cell_type": "code",
      "execution_count": 11,
      "metadata": {},
      "outputs": [],
      "source": [
        "DT = DecisionTreeClassifier(max_depth = 4, criterion = 'entropy')\n",
        "DT.fit(X_train, y_train)\n",
        "dt_yhat = DT.predict(X_test)"
      ]
    },
    {
      "cell_type": "code",
      "execution_count": 15,
      "metadata": {},
      "outputs": [
        {
          "name": "stdout",
          "output_type": "stream",
          "text": [
            "F1 score of the Decision Tree model is 0.4513274336283186\n"
          ]
        }
      ],
      "source": [
        "print ('F1 score of the Decision Tree model is {}'. format (f1_score(y_test, dt_yhat)))"
      ]
    },
    {
      "cell_type": "code",
      "execution_count": 16,
      "metadata": {},
      "outputs": [
        {
          "name": "stdout",
          "output_type": "stream",
          "text": [
            "F1 score of the Decision Tree model is 0.4513274336283186\n"
          ]
        }
      ],
      "source": [
        "print('F1 score of the Decision Tree model is {}'.format(f1_score(y_test, dt_yhat)))\n"
      ]
    },
    {
      "cell_type": "code",
      "execution_count": 17,
      "metadata": {},
      "outputs": [
        {
          "data": {
            "text/plain": [
              "array([[254155,      4],\n",
              "       [   244,    102]])"
            ]
          },
          "execution_count": 17,
          "metadata": {},
          "output_type": "execute_result"
        }
      ],
      "source": [
        "confusion_matrix(y_test, dt_yhat, labels = [0, 1])\n"
      ]
    },
    {
      "cell_type": "markdown",
      "metadata": {},
      "source": [
        "KNN"
      ]
    },
    {
      "cell_type": "code",
      "execution_count": 36,
      "metadata": {},
      "outputs": [],
      "source": [
        "n = 7\n",
        "KNN = KNeighborsClassifier(n_neighbors = n)\n",
        "KNN.fit(X_train, y_train)\n",
        "knn_yhat = KNN.predict(X_test)"
      ]
    },
    {
      "cell_type": "code",
      "execution_count": 37,
      "metadata": {},
      "outputs": [
        {
          "name": "stdout",
          "output_type": "stream",
          "text": [
            "Accuracy score of the K-Nearest Neighbors model is 0.9991120017288462\n"
          ]
        }
      ],
      "source": [
        "print('Accuracy score of the K-Nearest Neighbors model is {}'.format(accuracy_score(y_test, knn_yhat)))"
      ]
    },
    {
      "cell_type": "code",
      "execution_count": 35,
      "metadata": {},
      "outputs": [
        {
          "name": "stdout",
          "output_type": "stream",
          "text": [
            "Accuracy score of the Logistic Regression model is 0.9990530637904953\n"
          ]
        }
      ],
      "source": [
        "lr = LogisticRegression()\n",
        "lr.fit(X_train, y_train)\n",
        "lr_yhat = lr.predict(X_test)\n",
        "\n",
        "print('Accuracy score of the Logistic Regression model is {}'.format(accuracy_score(y_test, lr_yhat)))"
      ]
    },
    {
      "cell_type": "code",
      "execution_count": 32,
      "metadata": {},
      "outputs": [
        {
          "name": "stdout",
          "output_type": "stream",
          "text": [
            "Accuracy score of the Support Vector Machines model is 0.9989862674603642\n"
          ]
        }
      ],
      "source": [
        "svm = SVC()\n",
        "svm.fit(X_train, y_train)\n",
        "svm_yhat = svm.predict(X_test)\n",
        "\n",
        "print('Accuracy score of the Support Vector Machines model is {}'.format(accuracy_score(y_test, svm_yhat)))"
      ]
    },
    {
      "cell_type": "code",
      "execution_count": 24,
      "metadata": {},
      "outputs": [],
      "source": [
        "import pickle\n",
        "pickle.dump(svm_yhat, open('svm-sample.sav','wb'))"
      ]
    },
    {
      "cell_type": "code",
      "execution_count": 12,
      "metadata": {},
      "outputs": [],
      "source": [
        "clf = DecisionTreeClassifier()\n",
        "clf = clf.fit(X_train, y_train)"
      ]
    },
    {
      "cell_type": "markdown",
      "metadata": {},
      "source": [
        "XGBOOST"
      ]
    },
    {
      "cell_type": "code",
      "execution_count": 11,
      "metadata": {},
      "outputs": [
        {
          "name": "stdout",
          "output_type": "stream",
          "text": [
            "[12:25:54] WARNING: /private/var/folders/2h/lw5rv90j0ln7v084d1vkrcg80000gn/T/pip-install-l80c8wob/xgboost_fef350fccbfe489b99be0e26506efa00/build/temp.macosx-11.0-arm64-3.9/xgboost/src/learner.cc:1115: Starting in XGBoost 1.3.0, the default evaluation metric used with the objective 'binary:logistic' was changed from 'error' to 'logloss'. Explicitly set eval_metric if you'd like to restore the old behavior.\n"
          ]
        }
      ],
      "source": [
        "weights = (y==0).sum()/(1.0 *  (y==1).sum())\n",
        "\n",
        "xgb_classifier1 = XGBClassifier(max_depth = 3, scale_pos_weight = weights, n_jobs = 4)\n",
        "xgb_prediction1 = xgb_classifier1.fit(X_train, y_train).predict_proba(X_test)\n",
        "\n"
      ]
    },
    {
      "cell_type": "code",
      "execution_count": 41,
      "metadata": {},
      "outputs": [
        {
          "data": {
            "text/plain": [
              "(5726358, 6)"
            ]
          },
          "execution_count": 41,
          "metadata": {},
          "output_type": "execute_result"
        }
      ],
      "source": [
        "X_test.shape"
      ]
    },
    {
      "cell_type": "code",
      "execution_count": 47,
      "metadata": {},
      "outputs": [
        {
          "data": {
            "text/plain": [
              "(6,)"
            ]
          },
          "execution_count": 47,
          "metadata": {},
          "output_type": "execute_result"
        }
      ],
      "source": [
        "arr = np.array([ 0.7208694 , -0.28008524,  1.63042999,  1.60687384, -0.19406322, -0.21629092])\n",
        "arr.shape"
      ]
    },
    {
      "cell_type": "code",
      "execution_count": 12,
      "metadata": {},
      "outputs": [
        {
          "name": "stdout",
          "output_type": "stream",
          "text": [
            "AUPRC = 0.8863264036286873\n"
          ]
        }
      ],
      "source": [
        "print('AUPRC = {}'.format(average_precision_score(y_test, xgb_prediction1[:,1])))"
      ]
    },
    {
      "cell_type": "code",
      "execution_count": 30,
      "metadata": {},
      "outputs": [
        {
          "data": {
            "text/plain": [
              "4801897    0\n",
              "2779475    0\n",
              "784465     0\n",
              "5635648    0\n",
              "301298     0\n",
              "          ..\n",
              "1005529    0\n",
              "5752325    0\n",
              "3497273    0\n",
              "1041449    0\n",
              "2579418    0\n",
              "Name: isFlaggedFraud, Length: 5726358, dtype: int64"
            ]
          },
          "execution_count": 30,
          "metadata": {},
          "output_type": "execute_result"
        }
      ],
      "source": [
        "y_test"
      ]
    },
    {
      "cell_type": "code",
      "execution_count": 2,
      "metadata": {},
      "outputs": [],
      "source": [
        "import pickle\n",
        "#pickle.dump(xgb_prediction1, open('xgboost-full.sav','wb'))\n",
        "loaded_model = pickle.load(open('/Users/cosmos/Desktop/I-ll_think_about_it_later/models/xgboost-full.sav', 'rb'))\n"
      ]
    },
    {
      "cell_type": "markdown",
      "metadata": {},
      "source": [
        "PREDICTIVE FUNCTION"
      ]
    },
    {
      "cell_type": "code",
      "execution_count": 3,
      "metadata": {},
      "outputs": [
        {
          "name": "stdout",
          "output_type": "stream",
          "text": [
            "[[9.9998564e-01 1.4371975e-05]\n",
            " [9.9982804e-01 1.7195790e-04]\n",
            " [9.6443260e-01 3.5567414e-02]\n",
            " ...\n",
            " [9.9745435e-01 2.5456764e-03]\n",
            " [9.9788171e-01 2.1182913e-03]\n",
            " [9.9945539e-01 5.4461049e-04]]\n"
          ]
        }
      ],
      "source": [
        "result = loaded_model.\n",
        "\n",
        "print(result)"
      ]
    },
    {
      "cell_type": "code",
      "execution_count": 19,
      "metadata": {},
      "outputs": [
        {
          "ename": "NameError",
          "evalue": "name 'xgb_prediction1' is not defined",
          "output_type": "error",
          "traceback": [
            "\u001b[0;31m---------------------------------------------------------------------------\u001b[0m",
            "\u001b[0;31mNameError\u001b[0m                                 Traceback (most recent call last)",
            "\u001b[0;32m/var/folders/2h/lw5rv90j0ln7v084d1vkrcg80000gn/T/ipykernel_51551/3215175793.py\u001b[0m in \u001b[0;36m<module>\u001b[0;34m\u001b[0m\n\u001b[0;32m----> 1\u001b[0;31m \u001b[0mprint\u001b[0m\u001b[0;34m(\u001b[0m\u001b[0;34m'AUPRC = {}'\u001b[0m\u001b[0;34m.\u001b[0m\u001b[0mformat\u001b[0m\u001b[0;34m(\u001b[0m\u001b[0maverage_precision_score\u001b[0m\u001b[0;34m(\u001b[0m\u001b[0my_test\u001b[0m\u001b[0;34m,\u001b[0m \u001b[0mxgb_prediction1\u001b[0m\u001b[0;34m[\u001b[0m\u001b[0;34m:\u001b[0m\u001b[0;34m,\u001b[0m\u001b[0;36m1\u001b[0m\u001b[0;34m]\u001b[0m\u001b[0;34m)\u001b[0m\u001b[0;34m)\u001b[0m\u001b[0;34m)\u001b[0m\u001b[0;34m\u001b[0m\u001b[0;34m\u001b[0m\u001b[0m\n\u001b[0m",
            "\u001b[0;31mNameError\u001b[0m: name 'xgb_prediction1' is not defined"
          ]
        }
      ],
      "source": [
        "print('AUPRC = {}'.format(average_precision_score(y_test, xgb_prediction1[:,1])))"
      ]
    },
    {
      "cell_type": "code",
      "execution_count": null,
      "metadata": {},
      "outputs": [],
      "source": []
    }
  ],
  "metadata": {
    "colab": {
      "name": "model.ipynb",
      "provenance": []
    },
    "kernelspec": {
      "display_name": "Python 3",
      "name": "python3"
    },
    "language_info": {
      "codemirror_mode": {
        "name": "ipython",
        "version": 3
      },
      "file_extension": ".py",
      "mimetype": "text/x-python",
      "name": "python",
      "nbconvert_exporter": "python",
      "pygments_lexer": "ipython3",
      "version": "3.7.11"
    }
  },
  "nbformat": 4,
  "nbformat_minor": 0
}
