{
  "cells": [
    {
      "cell_type": "code",
      "execution_count": 1,
      "metadata": {
        "colab": {
          "base_uri": "https://localhost:8080/"
        },
        "id": "dYd1aqA5BzCE",
        "outputId": "c4a4648e-8e49-4e6b-c713-b392011da3d2"
      },
      "outputs": [
        {
          "name": "stdout",
          "output_type": "stream",
          "text": [
            "Drive already mounted at /content/drive; to attempt to forcibly remount, call drive.mount(\"/content/drive\", force_remount=True).\n"
          ]
        }
      ],
      "source": [
        "from google.colab import drive\n",
        "drive.mount('/content/drive')"
      ]
    },
    {
      "cell_type": "code",
      "execution_count": 1,
      "metadata": {
        "id": "9hqUvHOAB34V"
      },
      "outputs": [],
      "source": [
        "import pandas as pd\n",
        "\n",
        "#data = pd.read_csv('/content/drive/MyDrive/Colab Notebooks/AIML Dataset.csv')\n",
        "#data = pd.read_csv('/Users/cosmos/Documents/AIML Dataset.csv')\n",
        "data = pd.read_csv('test.csv')"
      ]
    },
    {
      "cell_type": "code",
      "execution_count": 19,
      "metadata": {},
      "outputs": [],
      "source": [
        "part_75 = data.sample(frac = 0.1)"
      ]
    },
    {
      "cell_type": "code",
      "execution_count": 20,
      "metadata": {},
      "outputs": [],
      "source": [
        "part_75.to_csv('db.csv')"
      ]
    },
    {
      "cell_type": "code",
      "execution_count": 8,
      "metadata": {
        "id": "XnoakCKdCrZb"
      },
      "outputs": [],
      "source": [
        "columns =data.columns"
      ]
    },
    {
      "cell_type": "code",
      "execution_count": 2,
      "metadata": {
        "id": "yNViq6zVErTV"
      },
      "outputs": [],
      "source": [
        "columns1 = ['step','amount','oldbalanceOrg', 'newbalanceOrig','oldbalanceDest', 'newbalanceDest']\n"
      ]
    },
    {
      "cell_type": "code",
      "execution_count": 3,
      "metadata": {
        "colab": {
          "base_uri": "https://localhost:8080/",
          "height": 34
        },
        "id": "weY6-IVwCCBo",
        "outputId": "d201161c-32d1-4e60-f880-36849f2bb5f6"
      },
      "outputs": [
        {
          "data": {
            "text/plain": [
              "<Figure size 432x216 with 0 Axes>"
            ]
          },
          "metadata": {},
          "output_type": "display_data"
        }
      ],
      "source": [
        "import os\n",
        "import warnings\n",
        "warnings.filterwarnings('ignore')\n",
        "#Packages related to data importing, manipulation, exploratory data #analysis, data understanding\n",
        "import numpy as np\n",
        "import pandas as pd\n",
        "from pandas import Series, DataFrame\n",
        "from termcolor import colored as cl # text customization\n",
        "#Packages related to data visualizaiton\n",
        "import seaborn as sns\n",
        "import matplotlib.pyplot as plt\n",
        "%matplotlib inline\n",
        "#Setting plot sizes and type of plot\n",
        "plt.rc(\"font\", size=14)\n",
        "plt.rcParams['axes.grid'] = True\n",
        "plt.figure(figsize=(6,3))\n",
        "plt.gray()\n",
        "from matplotlib.backends.backend_pdf import PdfPages\n",
        "from sklearn.model_selection import train_test_split, GridSearchCV\n",
        "from sklearn import metrics\n",
        "from sklearn.impute import MissingIndicator, SimpleImputer\n",
        "from sklearn.preprocessing import PolynomialFeatures, KBinsDiscretizer, FunctionTransformer\n",
        "from sklearn.preprocessing import StandardScaler, MinMaxScaler, MaxAbsScaler\n",
        "from sklearn.preprocessing import LabelEncoder, OneHotEncoder, LabelBinarizer, OrdinalEncoder\n",
        "# import statsmodels.formula.api as smf\n",
        "# import statsmodels.tsa as tsa\n",
        "from sklearn.linear_model import LogisticRegression, LinearRegression, ElasticNet, Lasso, Ridge\n",
        "from sklearn.neighbors import KNeighborsClassifier, KNeighborsRegressor\n",
        "from sklearn.tree import DecisionTreeClassifier, DecisionTreeRegressor, export_graphviz\n",
        "from sklearn.ensemble import BaggingClassifier, BaggingRegressor,RandomForestClassifier,RandomForestRegressor\n",
        "from sklearn.ensemble import GradientBoostingClassifier,GradientBoostingRegressor, AdaBoostClassifier, AdaBoostRegressor\n",
        "from sklearn.svm import LinearSVC, LinearSVR, SVC, SVR\n",
        "#\n",
        "# from xgboost import XGBClassifier\n",
        "from sklearn.metrics import f1_score\n",
        "from sklearn.metrics import accuracy_score\n",
        "from sklearn.metrics import confusion_matrix"
      ]
    },
    {
      "cell_type": "code",
      "execution_count": 4,
      "metadata": {
        "id": "DFN9-dfJF379"
      },
      "outputs": [],
      "source": [
        "# making a custom transformer\n",
        "\n",
        "from sklearn.base import BaseEstimator, TransformerMixin\n",
        "\n",
        "class CustomTransformer(BaseEstimator, TransformerMixin):\n",
        "    def __init__(self, Columns):\n",
        "        self.Columns=Columns\n",
        "        \n",
        "    def fit(self,X,y=None):\n",
        "        return self\n",
        "    \n",
        "    def transform(self,X):\n",
        "        New_X=X.copy()\n",
        "        New_X=New_X[self.Columns].copy()\n",
        "        return New_X"
      ]
    },
    {
      "cell_type": "code",
      "execution_count": 5,
      "metadata": {
        "id": "3WF5XDDrGFFT"
      },
      "outputs": [],
      "source": [
        "from sklearn.pipeline import Pipeline\n",
        "from sklearn.preprocessing import StandardScaler #standirize values\n",
        "from sklearn.impute import SimpleImputer #fill in missing values\n",
        "\n",
        "#adding parameters\n",
        "pipeline=Pipeline([\n",
        "    ('custom_tr', CustomTransformer(columns1)),\n",
        "    ('std_scaler',StandardScaler())\n",
        "])"
      ]
    },
    {
      "cell_type": "code",
      "execution_count": 6,
      "metadata": {
        "id": "Yuq8R098GGF8"
      },
      "outputs": [],
      "source": [
        "X = pipeline.fit_transform(data)\n",
        "y = data['isFraud'].copy()"
      ]
    },
    {
      "cell_type": "code",
      "execution_count": 7,
      "metadata": {
        "id": "8Y_QNhEMGbUz"
      },
      "outputs": [],
      "source": [
        "from sklearn.model_selection import train_test_split\n",
        "X_train, X_test, y_train, y_test = train_test_split(X,y, test_size=0.2, random_state=2)"
      ]
    },
    {
      "cell_type": "code",
      "execution_count": 8,
      "metadata": {
        "colab": {
          "base_uri": "https://localhost:8080/"
        },
        "id": "ju-lDY9-GrUW",
        "outputId": "43ffa541-3f8a-4272-c004-672bacc7cfd2"
      },
      "outputs": [
        {
          "data": {
            "text/plain": [
              "array([[-1.47838672,  0.03922736, -0.26981502, -0.29150454, -0.30804371,\n",
              "        -0.26434257],\n",
              "       [ 0.78357073, -0.13922023,  6.54870303,  6.49397479, -0.28431966,\n",
              "        -0.32266355],\n",
              "       [-0.43872926, -0.11436684,  0.2146528 ,  0.24265308,  0.10370539,\n",
              "         0.03302304],\n",
              "       ...,\n",
              "       [ 0.11622303, -0.07569231, -0.23751303, -0.28767501, -0.07848977,\n",
              "        -0.07015337],\n",
              "       [ 0.96621325,  0.09298785,  0.45467231,  0.52250723, -0.22618377,\n",
              "        -0.30638354],\n",
              "       [ 0.08812418,  0.08896328,  0.19594018,  0.10650094,  1.37948433,\n",
              "         1.30810979]])"
            ]
          },
          "execution_count": 8,
          "metadata": {},
          "output_type": "execute_result"
        }
      ],
      "source": [
        "X_train"
      ]
    },
    {
      "cell_type": "code",
      "execution_count": 9,
      "metadata": {
        "colab": {
          "base_uri": "https://localhost:8080/"
        },
        "id": "qN-zm0WFG2SQ",
        "outputId": "fb32aaa1-7484-4d40-9978-9e7ff9255e54"
      },
      "outputs": [
        {
          "data": {
            "text/plain": [
              "0.034242446286376425"
            ]
          },
          "execution_count": 9,
          "metadata": {},
          "output_type": "execute_result"
        }
      ],
      "source": [
        "from sklearn.linear_model import LinearRegression\n",
        "from sklearn.metrics import mean_squared_error\n",
        "\n",
        "model_lr = LinearRegression()\n",
        "model_lr.fit(X_train,y_train)\n",
        "\n",
        "predictions=model_lr.predict(X_test)\n",
        "mse=mean_squared_error(y_test, predictions)\n",
        "rmse=np.sqrt(mse)\n",
        "rmse"
      ]
    },
    {
      "cell_type": "code",
      "execution_count": 10,
      "metadata": {
        "id": "O8ug6-37EL2G"
      },
      "outputs": [],
      "source": [
        "#label encoder\n",
        "from sklearn import preprocessing\n",
        "from sklearn import utils\n",
        "\n",
        "lab_enc = preprocessing.LabelEncoder()\n",
        "encoded =lab_enc.fit_transform(y_train.astype('int'))"
      ]
    },
    {
      "cell_type": "code",
      "execution_count": 18,
      "metadata": {
        "id": "ORKVbBCNHBOX"
      },
      "outputs": [],
      "source": [
        "#trying random forest algo\n",
        "\n",
        "from sklearn.ensemble import RandomForestClassifier\n",
        "from sklearn.model_selection import GridSearchCV\n",
        "\n",
        "\n",
        "forest_reg=RandomForestClassifier()\n",
        "\n",
        "\n",
        "x=forest_reg.fit(X_train,y_train)"
      ]
    },
    {
      "cell_type": "code",
      "execution_count": 24,
      "metadata": {
        "id": "KC3m5aIkIVag"
      },
      "outputs": [
        {
          "name": "stdout",
          "output_type": "stream",
          "text": [
            "Accuracy: 0.9994499125753914\n"
          ]
        }
      ],
      "source": [
        "from sklearn.metrics import classification_report\n",
        "\n",
        "y_pred=x.predict(X_test)\n",
        "print(\"Accuracy:\",metrics.accuracy_score(y_test, y_pred))"
      ]
    },
    {
      "cell_type": "code",
      "execution_count": 25,
      "metadata": {},
      "outputs": [
        {
          "name": "stdout",
          "output_type": "stream",
          "text": [
            "iter 0 \taccuracy 0.16571407133995342 \test 0.13985461419839773 \tloss 0.0020416630066499267\n",
            "iter 10 \taccuracy 0.32081554872650686 \test 0.30002734101588424 \tloss 0.0005484408056939574\n",
            "iter 20 \taccuracy 0.3376239361878357 \test 0.31737246570290933 \tloss 0.000540402391906225\n",
            "iter 30 \taccuracy 0.3424124980549629 \test 0.3225861305737636 \tloss 0.0005386620167553527\n"
          ]
        }
      ],
      "source": [
        "from sklearn.neural_network import MLPRegressor\n",
        "\n",
        "clf = MLPRegressor(hidden_layer_sizes= (40,40,40), random_state=1, alpha =0.01,max_iter=1, warm_start=True)\n",
        "\n",
        "licz= []\n",
        "accu = []\n",
        "loss =[]\n",
        "test = []\n",
        "\n",
        "for i in range(150):\n",
        "    clf.fit(X_train,y_train)\n",
        "    licz.append(i)\n",
        "    accu.append(clf.score(X_train,y_train))\n",
        "    loss.append(clf.loss_)\n",
        "    test.append(clf.score(X= X_test,y = y_test))\n",
        "    if i%10==0:\n",
        "         print(\"iter\",i,\"\\taccuracy\",clf.score(X_train, y_train),\"\\test\",clf.score(X= X_test,y = y_test),\"\\tloss\",clf.loss_)\n",
        "\n",
        "import matplotlib.pyplot as plt\n",
        "print(clf.score(X= X_test,y = y_test))\n",
        "plt.plot(licz[5:],accu[5:],test[5:])"
      ]
    },
    {
      "cell_type": "markdown",
      "metadata": {},
      "source": [
        "DecisionTreeClassifier"
      ]
    },
    {
      "cell_type": "code",
      "execution_count": 11,
      "metadata": {},
      "outputs": [],
      "source": [
        "DT = DecisionTreeClassifier(max_depth = 4, criterion = 'entropy')\n",
        "DT.fit(X_train, y_train)\n",
        "dt_yhat = DT.predict(X_test)"
      ]
    },
    {
      "cell_type": "code",
      "execution_count": 15,
      "metadata": {},
      "outputs": [
        {
          "name": "stdout",
          "output_type": "stream",
          "text": [
            "F1 score of the Decision Tree model is 0.4513274336283186\n"
          ]
        }
      ],
      "source": [
        "print ('F1 score of the Decision Tree model is {}'. format (f1_score(y_test, dt_yhat)))"
      ]
    },
    {
      "cell_type": "code",
      "execution_count": 16,
      "metadata": {},
      "outputs": [
        {
          "name": "stdout",
          "output_type": "stream",
          "text": [
            "F1 score of the Decision Tree model is 0.4513274336283186\n"
          ]
        }
      ],
      "source": [
        "print('F1 score of the Decision Tree model is {}'.format(f1_score(y_test, dt_yhat)))\n"
      ]
    },
    {
      "cell_type": "code",
      "execution_count": 17,
      "metadata": {},
      "outputs": [
        {
          "data": {
            "text/plain": [
              "array([[254155,      4],\n",
              "       [   244,    102]])"
            ]
          },
          "execution_count": 17,
          "metadata": {},
          "output_type": "execute_result"
        }
      ],
      "source": [
        "confusion_matrix(y_test, dt_yhat, labels = [0, 1])\n"
      ]
    },
    {
      "cell_type": "markdown",
      "metadata": {},
      "source": [
        "KNN"
      ]
    },
    {
      "cell_type": "code",
      "execution_count": 18,
      "metadata": {},
      "outputs": [],
      "source": [
        "n = 7\n",
        "KNN = KNeighborsClassifier(n_neighbors = n)\n",
        "KNN.fit(X_train, y_train)\n",
        "knn_yhat = KNN.predict(X_test)"
      ]
    },
    {
      "cell_type": "code",
      "execution_count": 19,
      "metadata": {},
      "outputs": [
        {
          "name": "stdout",
          "output_type": "stream",
          "text": [
            "Accuracy score of the K-Nearest Neighbors model is 0.9991120017288462\n"
          ]
        }
      ],
      "source": [
        "print('Accuracy score of the K-Nearest Neighbors model is {}'.format(accuracy_score(y_test, knn_yhat)))"
      ]
    },
    {
      "cell_type": "code",
      "execution_count": 20,
      "metadata": {},
      "outputs": [
        {
          "name": "stdout",
          "output_type": "stream",
          "text": [
            "Accuracy score of the Logistic Regression model is 0.9990530637904953\n"
          ]
        }
      ],
      "source": [
        "lr = LogisticRegression()\n",
        "lr.fit(X_train, y_train)\n",
        "lr_yhat = lr.predict(X_test)\n",
        "\n",
        "print('Accuracy score of the Logistic Regression model is {}'.format(accuracy_score(y_test, lr_yhat)))"
      ]
    },
    {
      "cell_type": "code",
      "execution_count": 21,
      "metadata": {},
      "outputs": [
        {
          "name": "stdout",
          "output_type": "stream",
          "text": [
            "Accuracy score of the Support Vector Machines model is 0.9989862674603642\n"
          ]
        }
      ],
      "source": [
        "svm = SVC()\n",
        "svm.fit(X_train, y_train)\n",
        "svm_yhat = svm.predict(X_test)\n",
        "\n",
        "print('Accuracy score of the Support Vector Machines model is {}'.format(accuracy_score(y_test, svm_yhat)))"
      ]
    },
    {
      "cell_type": "code",
      "execution_count": 24,
      "metadata": {},
      "outputs": [],
      "source": [
        "import pickle\n",
        "pickle.dump(svm_yhat, open('svm-sample.sav','wb'))"
      ]
    },
    {
      "cell_type": "code",
      "execution_count": null,
      "metadata": {},
      "outputs": [],
      "source": []
    },
    {
      "cell_type": "code",
      "execution_count": null,
      "metadata": {},
      "outputs": [],
      "source": []
    }
  ],
  "metadata": {
    "colab": {
      "name": "model.ipynb",
      "provenance": []
    },
    "kernelspec": {
      "display_name": "Python 3",
      "name": "python3"
    },
    "language_info": {
      "codemirror_mode": {
        "name": "ipython",
        "version": 3
      },
      "file_extension": ".py",
      "mimetype": "text/x-python",
      "name": "python",
      "nbconvert_exporter": "python",
      "pygments_lexer": "ipython3",
      "version": "3.9.9"
    }
  },
  "nbformat": 4,
  "nbformat_minor": 0
}
