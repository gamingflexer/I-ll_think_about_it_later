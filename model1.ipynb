{
  "cells": [
    {
      "cell_type": "code",
      "execution_count": 1,
      "metadata": {
        "colab": {
          "base_uri": "https://localhost:8080/"
        },
        "id": "dYd1aqA5BzCE",
        "outputId": "c4a4648e-8e49-4e6b-c713-b392011da3d2"
      },
      "outputs": [
        {
          "name": "stdout",
          "output_type": "stream",
          "text": [
            "Drive already mounted at /content/drive; to attempt to forcibly remount, call drive.mount(\"/content/drive\", force_remount=True).\n"
          ]
        }
      ],
      "source": [
        "from google.colab import drive\n",
        "drive.mount('/content/drive')"
      ]
    },
    {
      "cell_type": "code",
      "execution_count": 2,
      "metadata": {
        "id": "9hqUvHOAB34V"
      },
      "outputs": [],
      "source": [
        "import pandas as pd\n",
        "\n",
        "#data = pd.read_csv('/content/drive/MyDrive/Colab Notebooks/AIML Dataset.csv')\n",
        "#data = pd.read_csv('/Users/cosmos/Documents/AIML Dataset.csv')\n",
        "data = pd.read_csv('/Users/cosmos/Documents/test-30.csv')"
      ]
    },
    {
      "cell_type": "code",
      "execution_count": 19,
      "metadata": {},
      "outputs": [],
      "source": [
        "part_75 = data.sample(frac = 0.1)\n",
        "part_75.to_csv('db.csv')"
      ]
    },
    {
      "cell_type": "code",
      "execution_count": 16,
      "metadata": {},
      "outputs": [
        {
          "data": {
            "text/html": [
              "<div>\n",
              "<style scoped>\n",
              "    .dataframe tbody tr th:only-of-type {\n",
              "        vertical-align: middle;\n",
              "    }\n",
              "\n",
              "    .dataframe tbody tr th {\n",
              "        vertical-align: top;\n",
              "    }\n",
              "\n",
              "    .dataframe thead th {\n",
              "        text-align: right;\n",
              "    }\n",
              "</style>\n",
              "<table border=\"1\" class=\"dataframe\">\n",
              "  <thead>\n",
              "    <tr style=\"text-align: right;\">\n",
              "      <th></th>\n",
              "      <th>Unnamed: 0</th>\n",
              "      <th>step</th>\n",
              "      <th>type</th>\n",
              "      <th>amount</th>\n",
              "      <th>nameOrig</th>\n",
              "      <th>oldbalanceOrg</th>\n",
              "      <th>newbalanceOrig</th>\n",
              "      <th>nameDest</th>\n",
              "      <th>oldbalanceDest</th>\n",
              "      <th>newbalanceDest</th>\n",
              "      <th>isFraud</th>\n",
              "      <th>isFlaggedFraud</th>\n",
              "    </tr>\n",
              "  </thead>\n",
              "  <tbody>\n",
              "    <tr>\n",
              "      <th>0</th>\n",
              "      <td>4022171</td>\n",
              "      <td>299</td>\n",
              "      <td>CASH_IN</td>\n",
              "      <td>243328.76</td>\n",
              "      <td>C908969002</td>\n",
              "      <td>7011804.5</td>\n",
              "      <td>7255133.25</td>\n",
              "      <td>C1379767601</td>\n",
              "      <td>1299630.41</td>\n",
              "      <td>1056301.66</td>\n",
              "      <td>0</td>\n",
              "      <td>0</td>\n",
              "    </tr>\n",
              "    <tr>\n",
              "      <th>1</th>\n",
              "      <td>1520852</td>\n",
              "      <td>153</td>\n",
              "      <td>CASH_OUT</td>\n",
              "      <td>192585.32</td>\n",
              "      <td>C1677538059</td>\n",
              "      <td>290684.0</td>\n",
              "      <td>98098.68</td>\n",
              "      <td>C1720738365</td>\n",
              "      <td>101318.88</td>\n",
              "      <td>0.00</td>\n",
              "      <td>0</td>\n",
              "      <td>0</td>\n",
              "    </tr>\n",
              "    <tr>\n",
              "      <th>2</th>\n",
              "      <td>2430156</td>\n",
              "      <td>202</td>\n",
              "      <td>PAYMENT</td>\n",
              "      <td>11145.34</td>\n",
              "      <td>C525846222</td>\n",
              "      <td>45.0</td>\n",
              "      <td>0.00</td>\n",
              "      <td>M1993586771</td>\n",
              "      <td>0.00</td>\n",
              "      <td>0.00</td>\n",
              "      <td>0</td>\n",
              "      <td>0</td>\n",
              "    </tr>\n",
              "  </tbody>\n",
              "</table>\n",
              "</div>"
            ],
            "text/plain": [
              "   Unnamed: 0  step      type     amount     nameOrig  oldbalanceOrg  \\\n",
              "0     4022171   299   CASH_IN  243328.76   C908969002      7011804.5   \n",
              "1     1520852   153  CASH_OUT  192585.32  C1677538059       290684.0   \n",
              "2     2430156   202   PAYMENT   11145.34   C525846222           45.0   \n",
              "\n",
              "   newbalanceOrig     nameDest  oldbalanceDest  newbalanceDest  isFraud  \\\n",
              "0      7255133.25  C1379767601      1299630.41      1056301.66        0   \n",
              "1        98098.68  C1720738365       101318.88            0.00        0   \n",
              "2            0.00  M1993586771            0.00            0.00        0   \n",
              "\n",
              "   isFlaggedFraud  \n",
              "0               0  \n",
              "1               0  \n",
              "2               0  "
            ]
          },
          "execution_count": 16,
          "metadata": {},
          "output_type": "execute_result"
        }
      ],
      "source": [
        "data.head(3)"
      ]
    },
    {
      "cell_type": "markdown",
      "metadata": {},
      "source": [
        "DATA PRE PROCESSING"
      ]
    },
    {
      "cell_type": "code",
      "execution_count": 17,
      "metadata": {},
      "outputs": [],
      "source": [
        "from sklearn.preprocessing import RobustScaler\n",
        "\n",
        "scaler = RobustScaler()\n",
        "\n",
        "data['scaled_step'] = scaler.fit_transform(data['step'].values.reshape(-1,1))"
      ]
    },
    {
      "cell_type": "code",
      "execution_count": 18,
      "metadata": {},
      "outputs": [
        {
          "data": {
            "text/html": [
              "<div>\n",
              "<style scoped>\n",
              "    .dataframe tbody tr th:only-of-type {\n",
              "        vertical-align: middle;\n",
              "    }\n",
              "\n",
              "    .dataframe tbody tr th {\n",
              "        vertical-align: top;\n",
              "    }\n",
              "\n",
              "    .dataframe thead th {\n",
              "        text-align: right;\n",
              "    }\n",
              "</style>\n",
              "<table border=\"1\" class=\"dataframe\">\n",
              "  <thead>\n",
              "    <tr style=\"text-align: right;\">\n",
              "      <th></th>\n",
              "      <th>Unnamed: 0</th>\n",
              "      <th>step</th>\n",
              "      <th>type</th>\n",
              "      <th>amount</th>\n",
              "      <th>nameOrig</th>\n",
              "      <th>oldbalanceOrg</th>\n",
              "      <th>newbalanceOrig</th>\n",
              "      <th>nameDest</th>\n",
              "      <th>oldbalanceDest</th>\n",
              "      <th>newbalanceDest</th>\n",
              "      <th>isFraud</th>\n",
              "      <th>isFlaggedFraud</th>\n",
              "      <th>scaled_step</th>\n",
              "    </tr>\n",
              "  </thead>\n",
              "  <tbody>\n",
              "    <tr>\n",
              "      <th>0</th>\n",
              "      <td>4022171</td>\n",
              "      <td>299</td>\n",
              "      <td>CASH_IN</td>\n",
              "      <td>243328.76</td>\n",
              "      <td>C908969002</td>\n",
              "      <td>7011804.50</td>\n",
              "      <td>7255133.25</td>\n",
              "      <td>C1379767601</td>\n",
              "      <td>1299630.41</td>\n",
              "      <td>1056301.66</td>\n",
              "      <td>0</td>\n",
              "      <td>0</td>\n",
              "      <td>0.335196</td>\n",
              "    </tr>\n",
              "    <tr>\n",
              "      <th>1</th>\n",
              "      <td>1520852</td>\n",
              "      <td>153</td>\n",
              "      <td>CASH_OUT</td>\n",
              "      <td>192585.32</td>\n",
              "      <td>C1677538059</td>\n",
              "      <td>290684.00</td>\n",
              "      <td>98098.68</td>\n",
              "      <td>C1720738365</td>\n",
              "      <td>101318.88</td>\n",
              "      <td>0.00</td>\n",
              "      <td>0</td>\n",
              "      <td>0</td>\n",
              "      <td>-0.480447</td>\n",
              "    </tr>\n",
              "    <tr>\n",
              "      <th>2</th>\n",
              "      <td>2430156</td>\n",
              "      <td>202</td>\n",
              "      <td>PAYMENT</td>\n",
              "      <td>11145.34</td>\n",
              "      <td>C525846222</td>\n",
              "      <td>45.00</td>\n",
              "      <td>0.00</td>\n",
              "      <td>M1993586771</td>\n",
              "      <td>0.00</td>\n",
              "      <td>0.00</td>\n",
              "      <td>0</td>\n",
              "      <td>0</td>\n",
              "      <td>-0.206704</td>\n",
              "    </tr>\n",
              "    <tr>\n",
              "      <th>3</th>\n",
              "      <td>975327</td>\n",
              "      <td>44</td>\n",
              "      <td>TRANSFER</td>\n",
              "      <td>111162.60</td>\n",
              "      <td>C51988451</td>\n",
              "      <td>299929.97</td>\n",
              "      <td>188767.37</td>\n",
              "      <td>C1339919596</td>\n",
              "      <td>300508.62</td>\n",
              "      <td>411671.22</td>\n",
              "      <td>0</td>\n",
              "      <td>0</td>\n",
              "      <td>-1.089385</td>\n",
              "    </tr>\n",
              "    <tr>\n",
              "      <th>4</th>\n",
              "      <td>1197972</td>\n",
              "      <td>133</td>\n",
              "      <td>TRANSFER</td>\n",
              "      <td>728291.32</td>\n",
              "      <td>C661213312</td>\n",
              "      <td>50334.00</td>\n",
              "      <td>0.00</td>\n",
              "      <td>C1603859326</td>\n",
              "      <td>0.00</td>\n",
              "      <td>728291.32</td>\n",
              "      <td>0</td>\n",
              "      <td>0</td>\n",
              "      <td>-0.592179</td>\n",
              "    </tr>\n",
              "  </tbody>\n",
              "</table>\n",
              "</div>"
            ],
            "text/plain": [
              "   Unnamed: 0  step      type     amount     nameOrig  oldbalanceOrg  \\\n",
              "0     4022171   299   CASH_IN  243328.76   C908969002     7011804.50   \n",
              "1     1520852   153  CASH_OUT  192585.32  C1677538059      290684.00   \n",
              "2     2430156   202   PAYMENT   11145.34   C525846222          45.00   \n",
              "3      975327    44  TRANSFER  111162.60    C51988451      299929.97   \n",
              "4     1197972   133  TRANSFER  728291.32   C661213312       50334.00   \n",
              "\n",
              "   newbalanceOrig     nameDest  oldbalanceDest  newbalanceDest  isFraud  \\\n",
              "0      7255133.25  C1379767601      1299630.41      1056301.66        0   \n",
              "1        98098.68  C1720738365       101318.88            0.00        0   \n",
              "2            0.00  M1993586771            0.00            0.00        0   \n",
              "3       188767.37  C1339919596       300508.62       411671.22        0   \n",
              "4            0.00  C1603859326            0.00       728291.32        0   \n",
              "\n",
              "   isFlaggedFraud  scaled_step  \n",
              "0               0     0.335196  \n",
              "1               0    -0.480447  \n",
              "2               0    -0.206704  \n",
              "3               0    -1.089385  \n",
              "4               0    -0.592179  "
            ]
          },
          "execution_count": 18,
          "metadata": {},
          "output_type": "execute_result"
        }
      ],
      "source": [
        "data.head()"
      ]
    },
    {
      "cell_type": "code",
      "execution_count": 19,
      "metadata": {},
      "outputs": [],
      "source": [
        "columns =data.columns\n",
        "columns1 = ['scaled_step','amount','oldbalanceOrg', 'newbalanceOrig','oldbalanceDest', 'newbalanceDest']\n"
      ]
    },
    {
      "cell_type": "code",
      "execution_count": 29,
      "metadata": {
        "colab": {
          "base_uri": "https://localhost:8080/",
          "height": 34
        },
        "id": "weY6-IVwCCBo",
        "outputId": "d201161c-32d1-4e60-f880-36849f2bb5f6"
      },
      "outputs": [
        {
          "data": {
            "text/plain": [
              "<Figure size 432x216 with 0 Axes>"
            ]
          },
          "metadata": {},
          "output_type": "display_data"
        }
      ],
      "source": [
        "import os\n",
        "import warnings\n",
        "warnings.filterwarnings('ignore')\n",
        "#Packages related to data importing, manipulation, exploratory data #analysis, data understanding\n",
        "import numpy as np\n",
        "import pandas as pd\n",
        "from pandas import Series, DataFrame\n",
        "from termcolor import colored as cl # text customization\n",
        "#Packages related to data visualizaiton\n",
        "import seaborn as sns\n",
        "import matplotlib.pyplot as plt\n",
        "%matplotlib inline\n",
        "#Setting plot sizes and type of plot\n",
        "plt.rc(\"font\", size=14)\n",
        "plt.rcParams['axes.grid'] = True\n",
        "plt.figure(figsize=(6,3))\n",
        "plt.gray()\n",
        "from matplotlib.backends.backend_pdf import PdfPages\n",
        "from sklearn.model_selection import train_test_split, GridSearchCV\n",
        "from sklearn import metrics\n",
        "from sklearn.impute import MissingIndicator, SimpleImputer\n",
        "from sklearn.preprocessing import PolynomialFeatures, KBinsDiscretizer, FunctionTransformer\n",
        "from sklearn.preprocessing import StandardScaler, MinMaxScaler, MaxAbsScaler\n",
        "from sklearn.preprocessing import LabelEncoder, OneHotEncoder, LabelBinarizer, OrdinalEncoder\n",
        "# import statsmodels.formula.api as smf\n",
        "# import statsmodels.tsa as tsa\n",
        "from sklearn.linear_model import LogisticRegression, LinearRegression, ElasticNet, Lasso, Ridge\n",
        "from sklearn.neighbors import KNeighborsClassifier, KNeighborsRegressor\n",
        "from sklearn.tree import DecisionTreeClassifier, DecisionTreeRegressor, export_graphviz\n",
        "from sklearn.ensemble import BaggingClassifier, BaggingRegressor,RandomForestClassifier,RandomForestRegressor\n",
        "from sklearn.ensemble import GradientBoostingClassifier,GradientBoostingRegressor, AdaBoostClassifier, AdaBoostRegressor\n",
        "from sklearn.svm import LinearSVC, LinearSVR, SVC, SVR\n",
        "#\n",
        "# from xgboost import XGBClassifier\n",
        "from sklearn.metrics import f1_score\n",
        "from sklearn.metrics import accuracy_score\n",
        "from sklearn.metrics import confusion_matrix\n",
        "\n",
        "import numpy as np\n",
        "import pandas as pd\n",
        "import matplotlib.pyplot as plt\n",
        "import xgboost as xgb\n",
        "import matplotlib.pyplot as plt\n",
        "import seaborn as sns\n",
        "sns.set()\n",
        "from sklearn.model_selection import train_test_split\n",
        "from sklearn.metrics import average_precision_score\n",
        "from xgboost.sklearn import XGBClassifier\n",
        "from xgboost import plot_importance"
      ]
    },
    {
      "cell_type": "markdown",
      "metadata": {},
      "source": [
        "CUSTOM PIPELINE"
      ]
    },
    {
      "cell_type": "code",
      "execution_count": 21,
      "metadata": {
        "id": "DFN9-dfJF379"
      },
      "outputs": [],
      "source": [
        "# making a custom transformer\n",
        "\n",
        "from sklearn.base import BaseEstimator, TransformerMixin\n",
        "\n",
        "class CustomTransformer(BaseEstimator, TransformerMixin):\n",
        "    def __init__(self, Columns):\n",
        "        self.Columns=Columns\n",
        "        \n",
        "    def fit(self,X,y=None):\n",
        "        return self\n",
        "    \n",
        "    def transform(self,X):\n",
        "        New_X=X.copy()\n",
        "        New_X=New_X[self.Columns].copy()\n",
        "        return New_X"
      ]
    },
    {
      "cell_type": "code",
      "execution_count": 22,
      "metadata": {
        "id": "3WF5XDDrGFFT"
      },
      "outputs": [],
      "source": [
        "from sklearn.pipeline import Pipeline\n",
        "from sklearn.preprocessing import StandardScaler #standirize values\n",
        "from sklearn.impute import SimpleImputer #fill in missing values\n",
        "\n",
        "#adding parameters\n",
        "pipeline=Pipeline([\n",
        "    ('custom_tr', CustomTransformer(columns1)),\n",
        "    ('std_scaler',StandardScaler())\n",
        "])"
      ]
    },
    {
      "cell_type": "code",
      "execution_count": 23,
      "metadata": {
        "id": "Yuq8R098GGF8"
      },
      "outputs": [],
      "source": [
        "X = pipeline.fit_transform(data)\n",
        "y = data['isFraud'].copy()"
      ]
    },
    {
      "cell_type": "code",
      "execution_count": 24,
      "metadata": {
        "id": "8Y_QNhEMGbUz"
      },
      "outputs": [],
      "source": [
        "from sklearn.model_selection import train_test_split\n",
        "X_train, X_test, y_train, y_test = train_test_split(X,y, test_size=0.2, random_state=2)"
      ]
    },
    {
      "cell_type": "code",
      "execution_count": 25,
      "metadata": {
        "colab": {
          "base_uri": "https://localhost:8080/"
        },
        "id": "ju-lDY9-GrUW",
        "outputId": "43ffa541-3f8a-4272-c004-672bacc7cfd2"
      },
      "outputs": [
        {
          "data": {
            "text/plain": [
              "array([[-1.47838672,  0.03922736, -0.26981502, -0.29150454, -0.30804371,\n",
              "        -0.26434257],\n",
              "       [ 0.78357073, -0.13922023,  6.54870303,  6.49397479, -0.28431966,\n",
              "        -0.32266355],\n",
              "       [-0.43872926, -0.11436684,  0.2146528 ,  0.24265308,  0.10370539,\n",
              "         0.03302304],\n",
              "       ...,\n",
              "       [ 0.11622303, -0.07569231, -0.23751303, -0.28767501, -0.07848977,\n",
              "        -0.07015337],\n",
              "       [ 0.96621325,  0.09298785,  0.45467231,  0.52250723, -0.22618377,\n",
              "        -0.30638354],\n",
              "       [ 0.08812418,  0.08896328,  0.19594018,  0.10650094,  1.37948433,\n",
              "         1.30810979]])"
            ]
          },
          "execution_count": 25,
          "metadata": {},
          "output_type": "execute_result"
        }
      ],
      "source": [
        "X_train"
      ]
    },
    {
      "cell_type": "code",
      "execution_count": 9,
      "metadata": {
        "colab": {
          "base_uri": "https://localhost:8080/"
        },
        "id": "qN-zm0WFG2SQ",
        "outputId": "fb32aaa1-7484-4d40-9978-9e7ff9255e54"
      },
      "outputs": [
        {
          "data": {
            "text/plain": [
              "0.034242446286376425"
            ]
          },
          "execution_count": 9,
          "metadata": {},
          "output_type": "execute_result"
        }
      ],
      "source": [
        "from sklearn.linear_model import LinearRegression\n",
        "from sklearn.metrics import mean_squared_error\n",
        "\n",
        "model_lr = LinearRegression()\n",
        "model_lr.fit(X_train,y_train)\n",
        "\n",
        "predictions=model_lr.predict(X_test)\n",
        "mse=mean_squared_error(y_test, predictions)\n",
        "rmse=np.sqrt(mse)\n",
        "rmse"
      ]
    },
    {
      "cell_type": "code",
      "execution_count": 10,
      "metadata": {
        "id": "O8ug6-37EL2G"
      },
      "outputs": [],
      "source": [
        "#label encoder\n",
        "from sklearn import preprocessing\n",
        "from sklearn import utils\n",
        "\n",
        "lab_enc = preprocessing.LabelEncoder()\n",
        "encoded =lab_enc.fit_transform(y_train.astype('int'))"
      ]
    },
    {
      "cell_type": "code",
      "execution_count": 26,
      "metadata": {
        "id": "ORKVbBCNHBOX"
      },
      "outputs": [],
      "source": [
        "#trying random forest algo\n",
        "\n",
        "from sklearn.ensemble import RandomForestClassifier\n",
        "from sklearn.model_selection import GridSearchCV\n",
        "\n",
        "\n",
        "forest_reg=RandomForestClassifier()\n",
        "\n",
        "\n",
        "x=forest_reg.fit(X_train,y_train)"
      ]
    },
    {
      "cell_type": "code",
      "execution_count": 27,
      "metadata": {
        "id": "KC3m5aIkIVag"
      },
      "outputs": [
        {
          "name": "stdout",
          "output_type": "stream",
          "text": [
            "Accuracy: 0.9994459833795014\n"
          ]
        }
      ],
      "source": [
        "from sklearn.metrics import classification_report\n",
        "\n",
        "y_pred=x.predict(X_test)\n",
        "print(\"Accuracy:\",metrics.accuracy_score(y_test, y_pred))"
      ]
    },
    {
      "cell_type": "code",
      "execution_count": 28,
      "metadata": {},
      "outputs": [
        {
          "data": {
            "text/plain": [
              "149985     0\n",
              "644664     0\n",
              "423265     0\n",
              "557990     0\n",
              "3953       0\n",
              "          ..\n",
              "651285     0\n",
              "1138227    0\n",
              "240772     0\n",
              "718313     0\n",
              "193275     0\n",
              "Name: isFraud, Length: 254505, dtype: int64"
            ]
          },
          "execution_count": 28,
          "metadata": {},
          "output_type": "execute_result"
        }
      ],
      "source": [
        "y_test"
      ]
    },
    {
      "cell_type": "code",
      "execution_count": 25,
      "metadata": {},
      "outputs": [
        {
          "name": "stdout",
          "output_type": "stream",
          "text": [
            "iter 0 \taccuracy 0.16571407133995342 \test 0.13985461419839773 \tloss 0.0020416630066499267\n",
            "iter 10 \taccuracy 0.32081554872650686 \test 0.30002734101588424 \tloss 0.0005484408056939574\n",
            "iter 20 \taccuracy 0.3376239361878357 \test 0.31737246570290933 \tloss 0.000540402391906225\n",
            "iter 30 \taccuracy 0.3424124980549629 \test 0.3225861305737636 \tloss 0.0005386620167553527\n"
          ]
        }
      ],
      "source": [
        "from sklearn.neural_network import MLPRegressor\n",
        "\n",
        "clf = MLPRegressor(hidden_layer_sizes= (40,40,40), random_state=1, alpha =0.01,max_iter=1, warm_start=True)\n",
        "\n",
        "licz= []\n",
        "accu = []\n",
        "loss =[]\n",
        "test = []\n",
        "\n",
        "for i in range(150):\n",
        "    clf.fit(X_train,y_train)\n",
        "    licz.append(i)\n",
        "    accu.append(clf.score(X_train,y_train))\n",
        "    loss.append(clf.loss_)\n",
        "    test.append(clf.score(X= X_test,y = y_test))\n",
        "    if i%10==0:\n",
        "         print(\"iter\",i,\"\\taccuracy\",clf.score(X_train, y_train),\"\\test\",clf.score(X= X_test,y = y_test),\"\\tloss\",clf.loss_)\n",
        "\n",
        "import matplotlib.pyplot as plt\n",
        "print(clf.score(X= X_test,y = y_test))\n",
        "plt.plot(licz[5:],accu[5:],test[5:])"
      ]
    },
    {
      "cell_type": "markdown",
      "metadata": {},
      "source": [
        "DecisionTreeClassifier"
      ]
    },
    {
      "cell_type": "code",
      "execution_count": 11,
      "metadata": {},
      "outputs": [],
      "source": [
        "DT = DecisionTreeClassifier(max_depth = 4, criterion = 'entropy')\n",
        "DT.fit(X_train, y_train)\n",
        "dt_yhat = DT.predict(X_test)"
      ]
    },
    {
      "cell_type": "code",
      "execution_count": 15,
      "metadata": {},
      "outputs": [
        {
          "name": "stdout",
          "output_type": "stream",
          "text": [
            "F1 score of the Decision Tree model is 0.4513274336283186\n"
          ]
        }
      ],
      "source": [
        "print ('F1 score of the Decision Tree model is {}'. format (f1_score(y_test, dt_yhat)))"
      ]
    },
    {
      "cell_type": "code",
      "execution_count": 16,
      "metadata": {},
      "outputs": [
        {
          "name": "stdout",
          "output_type": "stream",
          "text": [
            "F1 score of the Decision Tree model is 0.4513274336283186\n"
          ]
        }
      ],
      "source": [
        "print('F1 score of the Decision Tree model is {}'.format(f1_score(y_test, dt_yhat)))\n"
      ]
    },
    {
      "cell_type": "code",
      "execution_count": 17,
      "metadata": {},
      "outputs": [
        {
          "data": {
            "text/plain": [
              "array([[254155,      4],\n",
              "       [   244,    102]])"
            ]
          },
          "execution_count": 17,
          "metadata": {},
          "output_type": "execute_result"
        }
      ],
      "source": [
        "confusion_matrix(y_test, dt_yhat, labels = [0, 1])\n"
      ]
    },
    {
      "cell_type": "markdown",
      "metadata": {},
      "source": [
        "KNN"
      ]
    },
    {
      "cell_type": "code",
      "execution_count": 18,
      "metadata": {},
      "outputs": [],
      "source": [
        "n = 7\n",
        "KNN = KNeighborsClassifier(n_neighbors = n)\n",
        "KNN.fit(X_train, y_train)\n",
        "knn_yhat = KNN.predict(X_test)"
      ]
    },
    {
      "cell_type": "code",
      "execution_count": 19,
      "metadata": {},
      "outputs": [
        {
          "name": "stdout",
          "output_type": "stream",
          "text": [
            "Accuracy score of the K-Nearest Neighbors model is 0.9991120017288462\n"
          ]
        }
      ],
      "source": [
        "print('Accuracy score of the K-Nearest Neighbors model is {}'.format(accuracy_score(y_test, knn_yhat)))"
      ]
    },
    {
      "cell_type": "code",
      "execution_count": 20,
      "metadata": {},
      "outputs": [
        {
          "name": "stdout",
          "output_type": "stream",
          "text": [
            "Accuracy score of the Logistic Regression model is 0.9990530637904953\n"
          ]
        }
      ],
      "source": [
        "lr = LogisticRegression()\n",
        "lr.fit(X_train, y_train)\n",
        "lr_yhat = lr.predict(X_test)\n",
        "\n",
        "print('Accuracy score of the Logistic Regression model is {}'.format(accuracy_score(y_test, lr_yhat)))"
      ]
    },
    {
      "cell_type": "code",
      "execution_count": 21,
      "metadata": {},
      "outputs": [
        {
          "name": "stdout",
          "output_type": "stream",
          "text": [
            "Accuracy score of the Support Vector Machines model is 0.9989862674603642\n"
          ]
        }
      ],
      "source": [
        "svm = SVC()\n",
        "svm.fit(X_train, y_train)\n",
        "svm_yhat = svm.predict(X_test)\n",
        "\n",
        "print('Accuracy score of the Support Vector Machines model is {}'.format(accuracy_score(y_test, svm_yhat)))"
      ]
    },
    {
      "cell_type": "code",
      "execution_count": 24,
      "metadata": {},
      "outputs": [],
      "source": [
        "import pickle\n",
        "pickle.dump(svm_yhat, open('svm-sample.sav','wb'))"
      ]
    },
    {
      "cell_type": "code",
      "execution_count": 12,
      "metadata": {},
      "outputs": [],
      "source": [
        "clf = DecisionTreeClassifier()\n",
        "clf = clf.fit(X_train, y_train)"
      ]
    },
    {
      "cell_type": "markdown",
      "metadata": {},
      "source": [
        "XGBOOST"
      ]
    },
    {
      "cell_type": "code",
      "execution_count": 32,
      "metadata": {},
      "outputs": [
        {
          "name": "stdout",
          "output_type": "stream",
          "text": [
            "[11:41:18] WARNING: /private/var/folders/2h/lw5rv90j0ln7v084d1vkrcg80000gn/T/pip-install-l80c8wob/xgboost_fef350fccbfe489b99be0e26506efa00/build/temp.macosx-11.0-arm64-3.9/xgboost/src/learner.cc:1115: Starting in XGBoost 1.3.0, the default evaluation metric used with the objective 'binary:logistic' was changed from 'error' to 'logloss'. Explicitly set eval_metric if you'd like to restore the old behavior.\n"
          ]
        }
      ],
      "source": [
        "weights = (y==0).sum()/(1.0 *  (y==1).sum())\n",
        "\n",
        "xgb_classifier1 = XGBClassifier(max_depth = 3, scale_pos_weight = weights, n_jobs = 4)\n",
        "xgb_prediction1 = xgb_classifier1.fit(X_train, y_train).predict_proba(X_test)\n",
        "\n",
        "print('AUPRC = {}'.format(average_precision_score(y_test, xgb_prediction1[:,1])))"
      ]
    },
    {
      "cell_type": "code",
      "execution_count": null,
      "metadata": {},
      "outputs": [],
      "source": []
    }
  ],
  "metadata": {
    "colab": {
      "name": "model.ipynb",
      "provenance": []
    },
    "kernelspec": {
      "display_name": "Python 3",
      "name": "python3"
    },
    "language_info": {
      "codemirror_mode": {
        "name": "ipython",
        "version": 3
      },
      "file_extension": ".py",
      "mimetype": "text/x-python",
      "name": "python",
      "nbconvert_exporter": "python",
      "pygments_lexer": "ipython3",
      "version": "3.9.9"
    }
  },
  "nbformat": 4,
  "nbformat_minor": 0
}
